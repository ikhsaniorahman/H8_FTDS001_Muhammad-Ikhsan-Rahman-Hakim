{
 "cells": [
  {
   "cell_type": "markdown",
   "id": "837c5869",
   "metadata": {},
   "source": [
    "# Live Code 1 - Phase 1\n",
    "Muhammad Ikhsan Rahman Hakim - FTDS001"
   ]
  },
  {
   "cell_type": "code",
   "execution_count": 1,
   "id": "e3c9b3c8",
   "metadata": {},
   "outputs": [],
   "source": [
    "import pandas as pd\n",
    "import numpy as np\n",
    "import seaborn as sns\n",
    "import matplotlib.pyplot as plt\n",
    "from sklearn.linear_model import LinearRegression\n",
    "from sklearn.preprocessing import StandardScaler\n",
    "from sklearn import svm\n",
    "\n",
    "%matplotlib inline"
   ]
  },
  {
   "cell_type": "markdown",
   "id": "15489e52",
   "metadata": {},
   "source": [
    "# Data Loading"
   ]
  },
  {
   "cell_type": "code",
   "execution_count": 2,
   "id": "d2879c99",
   "metadata": {},
   "outputs": [],
   "source": [
    "df_asurance = pd.read_csv('insurance.csv')\n",
    "df_galaxy = pd.read_csv('https://raw.githubusercontent.com/fahmimnalfrzki/Dataset/main/GalaxyMorphology.csv')"
   ]
  },
  {
   "cell_type": "markdown",
   "id": "6aec04c6",
   "metadata": {},
   "source": [
    "Galaxy dataframe"
   ]
  },
  {
   "cell_type": "code",
   "execution_count": 3,
   "id": "c7bc407b",
   "metadata": {
    "scrolled": true
   },
   "outputs": [
    {
     "data": {
      "text/html": [
       "<div>\n",
       "<style scoped>\n",
       "    .dataframe tbody tr th:only-of-type {\n",
       "        vertical-align: middle;\n",
       "    }\n",
       "\n",
       "    .dataframe tbody tr th {\n",
       "        vertical-align: top;\n",
       "    }\n",
       "\n",
       "    .dataframe thead th {\n",
       "        text-align: right;\n",
       "    }\n",
       "</style>\n",
       "<table border=\"1\" class=\"dataframe\">\n",
       "  <thead>\n",
       "    <tr style=\"text-align: right;\">\n",
       "      <th></th>\n",
       "      <th>Unnamed: 0</th>\n",
       "      <th>TType</th>\n",
       "      <th>K</th>\n",
       "      <th>C</th>\n",
       "      <th>A</th>\n",
       "      <th>S</th>\n",
       "      <th>G2</th>\n",
       "      <th>H</th>\n",
       "      <th>CNN2classes1stClass</th>\n",
       "    </tr>\n",
       "  </thead>\n",
       "  <tbody>\n",
       "    <tr>\n",
       "      <th>0</th>\n",
       "      <td>0</td>\n",
       "      <td>1.854829</td>\n",
       "      <td>6.560199</td>\n",
       "      <td>0.357051</td>\n",
       "      <td>0.932151</td>\n",
       "      <td>0.850992</td>\n",
       "      <td>1.588183</td>\n",
       "      <td>0.697214</td>\n",
       "      <td>1</td>\n",
       "    </tr>\n",
       "    <tr>\n",
       "      <th>1</th>\n",
       "      <td>1</td>\n",
       "      <td>4.815538</td>\n",
       "      <td>25.950829</td>\n",
       "      <td>0.313292</td>\n",
       "      <td>0.610999</td>\n",
       "      <td>0.723122</td>\n",
       "      <td>1.533653</td>\n",
       "      <td>0.719412</td>\n",
       "      <td>1</td>\n",
       "    </tr>\n",
       "    <tr>\n",
       "      <th>2</th>\n",
       "      <td>2</td>\n",
       "      <td>0.678056</td>\n",
       "      <td>6.867416</td>\n",
       "      <td>0.408286</td>\n",
       "      <td>0.881524</td>\n",
       "      <td>0.813231</td>\n",
       "      <td>1.743747</td>\n",
       "      <td>0.750872</td>\n",
       "      <td>1</td>\n",
       "    </tr>\n",
       "    <tr>\n",
       "      <th>3</th>\n",
       "      <td>3</td>\n",
       "      <td>-0.547708</td>\n",
       "      <td>11.877941</td>\n",
       "      <td>-9999.999999</td>\n",
       "      <td>0.838779</td>\n",
       "      <td>0.816965</td>\n",
       "      <td>1.672529</td>\n",
       "      <td>0.771995</td>\n",
       "      <td>1</td>\n",
       "    </tr>\n",
       "    <tr>\n",
       "      <th>4</th>\n",
       "      <td>4</td>\n",
       "      <td>2.028543</td>\n",
       "      <td>20.458965</td>\n",
       "      <td>0.446453</td>\n",
       "      <td>0.839216</td>\n",
       "      <td>0.801140</td>\n",
       "      <td>1.107665</td>\n",
       "      <td>0.610453</td>\n",
       "      <td>1</td>\n",
       "    </tr>\n",
       "  </tbody>\n",
       "</table>\n",
       "</div>"
      ],
      "text/plain": [
       "   Unnamed: 0     TType          K            C         A         S        G2  \\\n",
       "0           0  1.854829   6.560199     0.357051  0.932151  0.850992  1.588183   \n",
       "1           1  4.815538  25.950829     0.313292  0.610999  0.723122  1.533653   \n",
       "2           2  0.678056   6.867416     0.408286  0.881524  0.813231  1.743747   \n",
       "3           3 -0.547708  11.877941 -9999.999999  0.838779  0.816965  1.672529   \n",
       "4           4  2.028543  20.458965     0.446453  0.839216  0.801140  1.107665   \n",
       "\n",
       "          H  CNN2classes1stClass  \n",
       "0  0.697214                    1  \n",
       "1  0.719412                    1  \n",
       "2  0.750872                    1  \n",
       "3  0.771995                    1  \n",
       "4  0.610453                    1  "
      ]
     },
     "execution_count": 3,
     "metadata": {},
     "output_type": "execute_result"
    }
   ],
   "source": [
    "df_galaxy.head()"
   ]
  },
  {
   "cell_type": "code",
   "execution_count": 4,
   "id": "dec09a9d",
   "metadata": {},
   "outputs": [
    {
     "data": {
      "text/plain": [
       "array([1, 0], dtype=int64)"
      ]
     },
     "execution_count": 4,
     "metadata": {},
     "output_type": "execute_result"
    }
   ],
   "source": [
    "df_galaxy['CNN2classes1stClass'].unique()"
   ]
  },
  {
   "cell_type": "markdown",
   "id": "18114895",
   "metadata": {},
   "source": [
    "Asurance dataframe"
   ]
  },
  {
   "cell_type": "code",
   "execution_count": 5,
   "id": "0d636ef4",
   "metadata": {},
   "outputs": [
    {
     "data": {
      "text/html": [
       "<div>\n",
       "<style scoped>\n",
       "    .dataframe tbody tr th:only-of-type {\n",
       "        vertical-align: middle;\n",
       "    }\n",
       "\n",
       "    .dataframe tbody tr th {\n",
       "        vertical-align: top;\n",
       "    }\n",
       "\n",
       "    .dataframe thead th {\n",
       "        text-align: right;\n",
       "    }\n",
       "</style>\n",
       "<table border=\"1\" class=\"dataframe\">\n",
       "  <thead>\n",
       "    <tr style=\"text-align: right;\">\n",
       "      <th></th>\n",
       "      <th>age</th>\n",
       "      <th>sex</th>\n",
       "      <th>bmi</th>\n",
       "      <th>children</th>\n",
       "      <th>smoker</th>\n",
       "      <th>region</th>\n",
       "      <th>charges</th>\n",
       "    </tr>\n",
       "  </thead>\n",
       "  <tbody>\n",
       "    <tr>\n",
       "      <th>0</th>\n",
       "      <td>19</td>\n",
       "      <td>female</td>\n",
       "      <td>27.900</td>\n",
       "      <td>0</td>\n",
       "      <td>yes</td>\n",
       "      <td>southwest</td>\n",
       "      <td>16884.92400</td>\n",
       "    </tr>\n",
       "    <tr>\n",
       "      <th>1</th>\n",
       "      <td>18</td>\n",
       "      <td>male</td>\n",
       "      <td>33.770</td>\n",
       "      <td>1</td>\n",
       "      <td>no</td>\n",
       "      <td>southeast</td>\n",
       "      <td>1725.55230</td>\n",
       "    </tr>\n",
       "    <tr>\n",
       "      <th>2</th>\n",
       "      <td>28</td>\n",
       "      <td>male</td>\n",
       "      <td>33.000</td>\n",
       "      <td>3</td>\n",
       "      <td>no</td>\n",
       "      <td>southeast</td>\n",
       "      <td>4449.46200</td>\n",
       "    </tr>\n",
       "    <tr>\n",
       "      <th>3</th>\n",
       "      <td>33</td>\n",
       "      <td>male</td>\n",
       "      <td>22.705</td>\n",
       "      <td>0</td>\n",
       "      <td>no</td>\n",
       "      <td>northwest</td>\n",
       "      <td>21984.47061</td>\n",
       "    </tr>\n",
       "    <tr>\n",
       "      <th>4</th>\n",
       "      <td>32</td>\n",
       "      <td>male</td>\n",
       "      <td>28.880</td>\n",
       "      <td>0</td>\n",
       "      <td>no</td>\n",
       "      <td>northwest</td>\n",
       "      <td>3866.85520</td>\n",
       "    </tr>\n",
       "  </tbody>\n",
       "</table>\n",
       "</div>"
      ],
      "text/plain": [
       "   age     sex     bmi  children smoker     region      charges\n",
       "0   19  female  27.900         0    yes  southwest  16884.92400\n",
       "1   18    male  33.770         1     no  southeast   1725.55230\n",
       "2   28    male  33.000         3     no  southeast   4449.46200\n",
       "3   33    male  22.705         0     no  northwest  21984.47061\n",
       "4   32    male  28.880         0     no  northwest   3866.85520"
      ]
     },
     "execution_count": 5,
     "metadata": {},
     "output_type": "execute_result"
    }
   ],
   "source": [
    "df_asurance.head()"
   ]
  },
  {
   "cell_type": "code",
   "execution_count": 6,
   "id": "5c278ab6",
   "metadata": {},
   "outputs": [
    {
     "name": "stdout",
     "output_type": "stream",
     "text": [
      "[0 1 3 2 5 4] ['female' 'male'] ['yes' 'no']\n"
     ]
    }
   ],
   "source": [
    "print(df_asurance['children'].unique(), df_asurance['sex'].unique(), df_asurance['smoker'].unique())"
   ]
  },
  {
   "cell_type": "code",
   "execution_count": 7,
   "id": "e4884ce5",
   "metadata": {},
   "outputs": [
    {
     "name": "stdout",
     "output_type": "stream",
     "text": [
      "Dimension of Df Galaxy:  (20000, 9)\n",
      "Dimension of Df Asurance:  (1338, 7)\n"
     ]
    }
   ],
   "source": [
    "print('Dimension of Df Galaxy: ',df_galaxy.shape)\n",
    "print('Dimension of Df Asurance: ',df_asurance.shape)"
   ]
  },
  {
   "cell_type": "code",
   "execution_count": 8,
   "id": "1ea2e6da",
   "metadata": {},
   "outputs": [
    {
     "name": "stdout",
     "output_type": "stream",
     "text": [
      "<class 'pandas.core.frame.DataFrame'>\n",
      "RangeIndex: 1338 entries, 0 to 1337\n",
      "Data columns (total 7 columns):\n",
      " #   Column    Non-Null Count  Dtype  \n",
      "---  ------    --------------  -----  \n",
      " 0   age       1338 non-null   int64  \n",
      " 1   sex       1338 non-null   object \n",
      " 2   bmi       1338 non-null   float64\n",
      " 3   children  1338 non-null   int64  \n",
      " 4   smoker    1338 non-null   object \n",
      " 5   region    1338 non-null   object \n",
      " 6   charges   1338 non-null   float64\n",
      "dtypes: float64(2), int64(2), object(3)\n",
      "memory usage: 73.3+ KB\n"
     ]
    }
   ],
   "source": [
    "df_asurance.info()"
   ]
  },
  {
   "cell_type": "code",
   "execution_count": 9,
   "id": "33158190",
   "metadata": {},
   "outputs": [
    {
     "name": "stdout",
     "output_type": "stream",
     "text": [
      "<class 'pandas.core.frame.DataFrame'>\n",
      "RangeIndex: 20000 entries, 0 to 19999\n",
      "Data columns (total 9 columns):\n",
      " #   Column               Non-Null Count  Dtype  \n",
      "---  ------               --------------  -----  \n",
      " 0   Unnamed: 0           20000 non-null  int64  \n",
      " 1   TType                20000 non-null  float64\n",
      " 2   K                    20000 non-null  float64\n",
      " 3   C                    20000 non-null  float64\n",
      " 4   A                    20000 non-null  float64\n",
      " 5   S                    20000 non-null  float64\n",
      " 6   G2                   20000 non-null  float64\n",
      " 7   H                    20000 non-null  float64\n",
      " 8   CNN2classes1stClass  20000 non-null  int64  \n",
      "dtypes: float64(7), int64(2)\n",
      "memory usage: 1.4 MB\n"
     ]
    }
   ],
   "source": [
    "df_galaxy.info()"
   ]
  },
  {
   "cell_type": "markdown",
   "id": "ec0411ec",
   "metadata": {},
   "source": [
    "# Data Cleaning"
   ]
  },
  {
   "cell_type": "code",
   "execution_count": 10,
   "id": "770b8a2f",
   "metadata": {},
   "outputs": [
    {
     "data": {
      "text/plain": [
       "Unnamed: 0             0\n",
       "TType                  0\n",
       "K                      0\n",
       "C                      0\n",
       "A                      0\n",
       "S                      0\n",
       "G2                     0\n",
       "H                      0\n",
       "CNN2classes1stClass    0\n",
       "dtype: int64"
      ]
     },
     "execution_count": 10,
     "metadata": {},
     "output_type": "execute_result"
    }
   ],
   "source": [
    "df_galaxy.isnull().sum()"
   ]
  },
  {
   "cell_type": "code",
   "execution_count": 11,
   "id": "3eb1b6a7",
   "metadata": {},
   "outputs": [
    {
     "data": {
      "text/plain": [
       "age         0\n",
       "sex         0\n",
       "bmi         0\n",
       "children    0\n",
       "smoker      0\n",
       "region      0\n",
       "charges     0\n",
       "dtype: int64"
      ]
     },
     "execution_count": 11,
     "metadata": {},
     "output_type": "execute_result"
    }
   ],
   "source": [
    "df_asurance.isnull().sum()"
   ]
  },
  {
   "cell_type": "markdown",
   "id": "9737b678",
   "metadata": {},
   "source": [
    "It seeems all data is good enough."
   ]
  },
  {
   "cell_type": "markdown",
   "id": "a2dda87b",
   "metadata": {},
   "source": [
    "# EDA"
   ]
  },
  {
   "cell_type": "markdown",
   "id": "c5841e1b",
   "metadata": {},
   "source": [
    "### Galaxy"
   ]
  },
  {
   "cell_type": "code",
   "execution_count": 12,
   "id": "71ac4aff",
   "metadata": {},
   "outputs": [
    {
     "data": {
      "text/html": [
       "<div>\n",
       "<style scoped>\n",
       "    .dataframe tbody tr th:only-of-type {\n",
       "        vertical-align: middle;\n",
       "    }\n",
       "\n",
       "    .dataframe tbody tr th {\n",
       "        vertical-align: top;\n",
       "    }\n",
       "\n",
       "    .dataframe thead th {\n",
       "        text-align: right;\n",
       "    }\n",
       "</style>\n",
       "<table border=\"1\" class=\"dataframe\">\n",
       "  <thead>\n",
       "    <tr style=\"text-align: right;\">\n",
       "      <th></th>\n",
       "      <th>count</th>\n",
       "      <th>mean</th>\n",
       "      <th>std</th>\n",
       "      <th>min</th>\n",
       "      <th>25%</th>\n",
       "      <th>50%</th>\n",
       "      <th>75%</th>\n",
       "      <th>max</th>\n",
       "    </tr>\n",
       "  </thead>\n",
       "  <tbody>\n",
       "    <tr>\n",
       "      <th>Unnamed: 0</th>\n",
       "      <td>20000.0</td>\n",
       "      <td>9999.500000</td>\n",
       "      <td>5773.647028</td>\n",
       "      <td>0.000000</td>\n",
       "      <td>4999.750000</td>\n",
       "      <td>9999.500000</td>\n",
       "      <td>14999.250000</td>\n",
       "      <td>19999.000000</td>\n",
       "    </tr>\n",
       "    <tr>\n",
       "      <th>TType</th>\n",
       "      <td>20000.0</td>\n",
       "      <td>0.395287</td>\n",
       "      <td>2.432726</td>\n",
       "      <td>-2.913205</td>\n",
       "      <td>-1.952929</td>\n",
       "      <td>-0.071197</td>\n",
       "      <td>2.376115</td>\n",
       "      <td>7.773612</td>\n",
       "    </tr>\n",
       "    <tr>\n",
       "      <th>K</th>\n",
       "      <td>20000.0</td>\n",
       "      <td>18.708788</td>\n",
       "      <td>26.185899</td>\n",
       "      <td>1.471492</td>\n",
       "      <td>7.039827</td>\n",
       "      <td>11.781205</td>\n",
       "      <td>20.920884</td>\n",
       "      <td>1035.467764</td>\n",
       "    </tr>\n",
       "    <tr>\n",
       "      <th>C</th>\n",
       "      <td>20000.0</td>\n",
       "      <td>-1846.175115</td>\n",
       "      <td>3880.385347</td>\n",
       "      <td>-9999.999999</td>\n",
       "      <td>0.292831</td>\n",
       "      <td>0.365902</td>\n",
       "      <td>0.437227</td>\n",
       "      <td>0.761184</td>\n",
       "    </tr>\n",
       "    <tr>\n",
       "      <th>A</th>\n",
       "      <td>20000.0</td>\n",
       "      <td>0.323992</td>\n",
       "      <td>70.716614</td>\n",
       "      <td>-9999.999999</td>\n",
       "      <td>0.782718</td>\n",
       "      <td>0.859172</td>\n",
       "      <td>0.905404</td>\n",
       "      <td>0.986535</td>\n",
       "    </tr>\n",
       "    <tr>\n",
       "      <th>S</th>\n",
       "      <td>20000.0</td>\n",
       "      <td>-3.220560</td>\n",
       "      <td>199.980672</td>\n",
       "      <td>-9999.999999</td>\n",
       "      <td>0.757618</td>\n",
       "      <td>0.844121</td>\n",
       "      <td>0.889421</td>\n",
       "      <td>0.979032</td>\n",
       "    </tr>\n",
       "    <tr>\n",
       "      <th>G2</th>\n",
       "      <td>20000.0</td>\n",
       "      <td>0.747130</td>\n",
       "      <td>70.720857</td>\n",
       "      <td>-9999.999999</td>\n",
       "      <td>0.979765</td>\n",
       "      <td>1.364905</td>\n",
       "      <td>1.606039</td>\n",
       "      <td>1.953389</td>\n",
       "    </tr>\n",
       "    <tr>\n",
       "      <th>H</th>\n",
       "      <td>20000.0</td>\n",
       "      <td>0.655137</td>\n",
       "      <td>0.113237</td>\n",
       "      <td>0.017008</td>\n",
       "      <td>0.585356</td>\n",
       "      <td>0.659603</td>\n",
       "      <td>0.743029</td>\n",
       "      <td>0.929947</td>\n",
       "    </tr>\n",
       "    <tr>\n",
       "      <th>CNN2classes1stClass</th>\n",
       "      <td>20000.0</td>\n",
       "      <td>0.807200</td>\n",
       "      <td>0.394507</td>\n",
       "      <td>0.000000</td>\n",
       "      <td>1.000000</td>\n",
       "      <td>1.000000</td>\n",
       "      <td>1.000000</td>\n",
       "      <td>1.000000</td>\n",
       "    </tr>\n",
       "  </tbody>\n",
       "</table>\n",
       "</div>"
      ],
      "text/plain": [
       "                       count         mean          std          min  \\\n",
       "Unnamed: 0           20000.0  9999.500000  5773.647028     0.000000   \n",
       "TType                20000.0     0.395287     2.432726    -2.913205   \n",
       "K                    20000.0    18.708788    26.185899     1.471492   \n",
       "C                    20000.0 -1846.175115  3880.385347 -9999.999999   \n",
       "A                    20000.0     0.323992    70.716614 -9999.999999   \n",
       "S                    20000.0    -3.220560   199.980672 -9999.999999   \n",
       "G2                   20000.0     0.747130    70.720857 -9999.999999   \n",
       "H                    20000.0     0.655137     0.113237     0.017008   \n",
       "CNN2classes1stClass  20000.0     0.807200     0.394507     0.000000   \n",
       "\n",
       "                             25%          50%           75%           max  \n",
       "Unnamed: 0           4999.750000  9999.500000  14999.250000  19999.000000  \n",
       "TType                  -1.952929    -0.071197      2.376115      7.773612  \n",
       "K                       7.039827    11.781205     20.920884   1035.467764  \n",
       "C                       0.292831     0.365902      0.437227      0.761184  \n",
       "A                       0.782718     0.859172      0.905404      0.986535  \n",
       "S                       0.757618     0.844121      0.889421      0.979032  \n",
       "G2                      0.979765     1.364905      1.606039      1.953389  \n",
       "H                       0.585356     0.659603      0.743029      0.929947  \n",
       "CNN2classes1stClass     1.000000     1.000000      1.000000      1.000000  "
      ]
     },
     "execution_count": 12,
     "metadata": {},
     "output_type": "execute_result"
    }
   ],
   "source": [
    "df_galaxy.describe().T"
   ]
  },
  {
   "cell_type": "code",
   "execution_count": 13,
   "id": "df2d0789",
   "metadata": {},
   "outputs": [
    {
     "data": {
      "text/html": [
       "<div>\n",
       "<style scoped>\n",
       "    .dataframe tbody tr th:only-of-type {\n",
       "        vertical-align: middle;\n",
       "    }\n",
       "\n",
       "    .dataframe tbody tr th {\n",
       "        vertical-align: top;\n",
       "    }\n",
       "\n",
       "    .dataframe thead th {\n",
       "        text-align: right;\n",
       "    }\n",
       "</style>\n",
       "<table border=\"1\" class=\"dataframe\">\n",
       "  <thead>\n",
       "    <tr style=\"text-align: right;\">\n",
       "      <th></th>\n",
       "      <th>C</th>\n",
       "      <th>A</th>\n",
       "      <th>S</th>\n",
       "      <th>G2</th>\n",
       "      <th>H</th>\n",
       "      <th>CNN2classes1stClass</th>\n",
       "    </tr>\n",
       "  </thead>\n",
       "  <tbody>\n",
       "    <tr>\n",
       "      <th>C</th>\n",
       "      <td>1.000000</td>\n",
       "      <td>-3.478015e-03</td>\n",
       "      <td>2.907724e-02</td>\n",
       "      <td>-0.003442</td>\n",
       "      <td>0.035715</td>\n",
       "      <td>0.124774</td>\n",
       "    </tr>\n",
       "    <tr>\n",
       "      <th>A</th>\n",
       "      <td>-0.003478</td>\n",
       "      <td>1.000000e+00</td>\n",
       "      <td>-6.096500e-07</td>\n",
       "      <td>-0.000007</td>\n",
       "      <td>0.016342</td>\n",
       "      <td>-0.003966</td>\n",
       "    </tr>\n",
       "    <tr>\n",
       "      <th>S</th>\n",
       "      <td>0.029077</td>\n",
       "      <td>-6.096500e-07</td>\n",
       "      <td>1.000000e+00</td>\n",
       "      <td>0.000053</td>\n",
       "      <td>0.006020</td>\n",
       "      <td>-0.009731</td>\n",
       "    </tr>\n",
       "    <tr>\n",
       "      <th>G2</th>\n",
       "      <td>-0.003442</td>\n",
       "      <td>-7.235741e-06</td>\n",
       "      <td>5.329439e-05</td>\n",
       "      <td>1.000000</td>\n",
       "      <td>0.016234</td>\n",
       "      <td>-0.001824</td>\n",
       "    </tr>\n",
       "    <tr>\n",
       "      <th>H</th>\n",
       "      <td>0.035715</td>\n",
       "      <td>1.634182e-02</td>\n",
       "      <td>6.020359e-03</td>\n",
       "      <td>0.016234</td>\n",
       "      <td>1.000000</td>\n",
       "      <td>0.266917</td>\n",
       "    </tr>\n",
       "    <tr>\n",
       "      <th>CNN2classes1stClass</th>\n",
       "      <td>0.124774</td>\n",
       "      <td>-3.965615e-03</td>\n",
       "      <td>-9.730514e-03</td>\n",
       "      <td>-0.001824</td>\n",
       "      <td>0.266917</td>\n",
       "      <td>1.000000</td>\n",
       "    </tr>\n",
       "  </tbody>\n",
       "</table>\n",
       "</div>"
      ],
      "text/plain": [
       "                            C             A             S        G2         H  \\\n",
       "C                    1.000000 -3.478015e-03  2.907724e-02 -0.003442  0.035715   \n",
       "A                   -0.003478  1.000000e+00 -6.096500e-07 -0.000007  0.016342   \n",
       "S                    0.029077 -6.096500e-07  1.000000e+00  0.000053  0.006020   \n",
       "G2                  -0.003442 -7.235741e-06  5.329439e-05  1.000000  0.016234   \n",
       "H                    0.035715  1.634182e-02  6.020359e-03  0.016234  1.000000   \n",
       "CNN2classes1stClass  0.124774 -3.965615e-03 -9.730514e-03 -0.001824  0.266917   \n",
       "\n",
       "                     CNN2classes1stClass  \n",
       "C                               0.124774  \n",
       "A                              -0.003966  \n",
       "S                              -0.009731  \n",
       "G2                             -0.001824  \n",
       "H                               0.266917  \n",
       "CNN2classes1stClass             1.000000  "
      ]
     },
     "execution_count": 13,
     "metadata": {},
     "output_type": "execute_result"
    }
   ],
   "source": [
    "# check data correlation with CNN2classess1stClass column\n",
    "feature_cols = ['C','A','S','G2','H']\n",
    "df_galaxy[feature_cols+['CNN2classes1stClass']].corr()"
   ]
  },
  {
   "cell_type": "code",
   "execution_count": 14,
   "id": "331de87d",
   "metadata": {},
   "outputs": [
    {
     "data": {
      "text/plain": [
       "<AxesSubplot:>"
      ]
     },
     "execution_count": 14,
     "metadata": {},
     "output_type": "execute_result"
    },
    {
     "data": {
      "image/png": "[encoded data removed]",
      "text/plain": [
       "<Figure size 432x288 with 2 Axes>"
      ]
     },
     "metadata": {
      "needs_background": "light"
     },
     "output_type": "display_data"
    }
   ],
   "source": [
    "sns.heatmap(df_galaxy[feature_cols+['CNN2classes1stClass']].corr())"
   ]
  },
  {
   "cell_type": "markdown",
   "id": "32a0bd4b",
   "metadata": {},
   "source": [
    "### Asurance"
   ]
  },
  {
   "cell_type": "code",
   "execution_count": 15,
   "id": "144e4b3c",
   "metadata": {
    "scrolled": true
   },
   "outputs": [
    {
     "data": {
      "text/html": [
       "<div>\n",
       "<style scoped>\n",
       "    .dataframe tbody tr th:only-of-type {\n",
       "        vertical-align: middle;\n",
       "    }\n",
       "\n",
       "    .dataframe tbody tr th {\n",
       "        vertical-align: top;\n",
       "    }\n",
       "\n",
       "    .dataframe thead th {\n",
       "        text-align: right;\n",
       "    }\n",
       "</style>\n",
       "<table border=\"1\" class=\"dataframe\">\n",
       "  <thead>\n",
       "    <tr style=\"text-align: right;\">\n",
       "      <th></th>\n",
       "      <th>count</th>\n",
       "      <th>mean</th>\n",
       "      <th>std</th>\n",
       "      <th>min</th>\n",
       "      <th>25%</th>\n",
       "      <th>50%</th>\n",
       "      <th>75%</th>\n",
       "      <th>max</th>\n",
       "    </tr>\n",
       "  </thead>\n",
       "  <tbody>\n",
       "    <tr>\n",
       "      <th>age</th>\n",
       "      <td>1338.0</td>\n",
       "      <td>39.207025</td>\n",
       "      <td>14.049960</td>\n",
       "      <td>18.0000</td>\n",
       "      <td>27.00000</td>\n",
       "      <td>39.000</td>\n",
       "      <td>51.000000</td>\n",
       "      <td>64.00000</td>\n",
       "    </tr>\n",
       "    <tr>\n",
       "      <th>bmi</th>\n",
       "      <td>1338.0</td>\n",
       "      <td>30.663397</td>\n",
       "      <td>6.098187</td>\n",
       "      <td>15.9600</td>\n",
       "      <td>26.29625</td>\n",
       "      <td>30.400</td>\n",
       "      <td>34.693750</td>\n",
       "      <td>53.13000</td>\n",
       "    </tr>\n",
       "    <tr>\n",
       "      <th>children</th>\n",
       "      <td>1338.0</td>\n",
       "      <td>1.094918</td>\n",
       "      <td>1.205493</td>\n",
       "      <td>0.0000</td>\n",
       "      <td>0.00000</td>\n",
       "      <td>1.000</td>\n",
       "      <td>2.000000</td>\n",
       "      <td>5.00000</td>\n",
       "    </tr>\n",
       "    <tr>\n",
       "      <th>charges</th>\n",
       "      <td>1338.0</td>\n",
       "      <td>13270.422265</td>\n",
       "      <td>12110.011237</td>\n",
       "      <td>1121.8739</td>\n",
       "      <td>4740.28715</td>\n",
       "      <td>9382.033</td>\n",
       "      <td>16639.912515</td>\n",
       "      <td>63770.42801</td>\n",
       "    </tr>\n",
       "  </tbody>\n",
       "</table>\n",
       "</div>"
      ],
      "text/plain": [
       "           count          mean           std        min         25%       50%  \\\n",
       "age       1338.0     39.207025     14.049960    18.0000    27.00000    39.000   \n",
       "bmi       1338.0     30.663397      6.098187    15.9600    26.29625    30.400   \n",
       "children  1338.0      1.094918      1.205493     0.0000     0.00000     1.000   \n",
       "charges   1338.0  13270.422265  12110.011237  1121.8739  4740.28715  9382.033   \n",
       "\n",
       "                   75%          max  \n",
       "age          51.000000     64.00000  \n",
       "bmi          34.693750     53.13000  \n",
       "children      2.000000      5.00000  \n",
       "charges   16639.912515  63770.42801  "
      ]
     },
     "execution_count": 15,
     "metadata": {},
     "output_type": "execute_result"
    }
   ],
   "source": [
    "df_asurance.describe().T"
   ]
  },
  {
   "cell_type": "code",
   "execution_count": 16,
   "id": "6ac9550e",
   "metadata": {},
   "outputs": [],
   "source": [
    "smoker_dmy = pd.get_dummies(df_asurance['smoker'], prefix=\"smoker_dmy\")"
   ]
  },
  {
   "cell_type": "code",
   "execution_count": 17,
   "id": "4ba34cae",
   "metadata": {
    "scrolled": true
   },
   "outputs": [
    {
     "data": {
      "text/html": [
       "<div>\n",
       "<style scoped>\n",
       "    .dataframe tbody tr th:only-of-type {\n",
       "        vertical-align: middle;\n",
       "    }\n",
       "\n",
       "    .dataframe tbody tr th {\n",
       "        vertical-align: top;\n",
       "    }\n",
       "\n",
       "    .dataframe thead th {\n",
       "        text-align: right;\n",
       "    }\n",
       "</style>\n",
       "<table border=\"1\" class=\"dataframe\">\n",
       "  <thead>\n",
       "    <tr style=\"text-align: right;\">\n",
       "      <th></th>\n",
       "      <th>age</th>\n",
       "      <th>sex</th>\n",
       "      <th>bmi</th>\n",
       "      <th>children</th>\n",
       "      <th>smoker</th>\n",
       "      <th>region</th>\n",
       "      <th>charges</th>\n",
       "      <th>smoker_dmy_no</th>\n",
       "      <th>smoker_dmy_yes</th>\n",
       "    </tr>\n",
       "  </thead>\n",
       "  <tbody>\n",
       "    <tr>\n",
       "      <th>0</th>\n",
       "      <td>19</td>\n",
       "      <td>female</td>\n",
       "      <td>27.900</td>\n",
       "      <td>0</td>\n",
       "      <td>yes</td>\n",
       "      <td>southwest</td>\n",
       "      <td>16884.92400</td>\n",
       "      <td>0</td>\n",
       "      <td>1</td>\n",
       "    </tr>\n",
       "    <tr>\n",
       "      <th>1</th>\n",
       "      <td>18</td>\n",
       "      <td>male</td>\n",
       "      <td>33.770</td>\n",
       "      <td>1</td>\n",
       "      <td>no</td>\n",
       "      <td>southeast</td>\n",
       "      <td>1725.55230</td>\n",
       "      <td>1</td>\n",
       "      <td>0</td>\n",
       "    </tr>\n",
       "    <tr>\n",
       "      <th>2</th>\n",
       "      <td>28</td>\n",
       "      <td>male</td>\n",
       "      <td>33.000</td>\n",
       "      <td>3</td>\n",
       "      <td>no</td>\n",
       "      <td>southeast</td>\n",
       "      <td>4449.46200</td>\n",
       "      <td>1</td>\n",
       "      <td>0</td>\n",
       "    </tr>\n",
       "    <tr>\n",
       "      <th>3</th>\n",
       "      <td>33</td>\n",
       "      <td>male</td>\n",
       "      <td>22.705</td>\n",
       "      <td>0</td>\n",
       "      <td>no</td>\n",
       "      <td>northwest</td>\n",
       "      <td>21984.47061</td>\n",
       "      <td>1</td>\n",
       "      <td>0</td>\n",
       "    </tr>\n",
       "    <tr>\n",
       "      <th>4</th>\n",
       "      <td>32</td>\n",
       "      <td>male</td>\n",
       "      <td>28.880</td>\n",
       "      <td>0</td>\n",
       "      <td>no</td>\n",
       "      <td>northwest</td>\n",
       "      <td>3866.85520</td>\n",
       "      <td>1</td>\n",
       "      <td>0</td>\n",
       "    </tr>\n",
       "  </tbody>\n",
       "</table>\n",
       "</div>"
      ],
      "text/plain": [
       "   age     sex     bmi  children smoker     region      charges  \\\n",
       "0   19  female  27.900         0    yes  southwest  16884.92400   \n",
       "1   18    male  33.770         1     no  southeast   1725.55230   \n",
       "2   28    male  33.000         3     no  southeast   4449.46200   \n",
       "3   33    male  22.705         0     no  northwest  21984.47061   \n",
       "4   32    male  28.880         0     no  northwest   3866.85520   \n",
       "\n",
       "   smoker_dmy_no  smoker_dmy_yes  \n",
       "0              0               1  \n",
       "1              1               0  \n",
       "2              1               0  \n",
       "3              1               0  \n",
       "4              1               0  "
      ]
     },
     "execution_count": 17,
     "metadata": {},
     "output_type": "execute_result"
    }
   ],
   "source": [
    "df_asurance = pd.concat([df_asurance,smoker_dmy],axis=1)\n",
    "df_asurance.head()"
   ]
  },
  {
   "cell_type": "code",
   "execution_count": 18,
   "id": "95a05d28",
   "metadata": {},
   "outputs": [
    {
     "data": {
      "text/html": [
       "<div>\n",
       "<style scoped>\n",
       "    .dataframe tbody tr th:only-of-type {\n",
       "        vertical-align: middle;\n",
       "    }\n",
       "\n",
       "    .dataframe tbody tr th {\n",
       "        vertical-align: top;\n",
       "    }\n",
       "\n",
       "    .dataframe thead th {\n",
       "        text-align: right;\n",
       "    }\n",
       "</style>\n",
       "<table border=\"1\" class=\"dataframe\">\n",
       "  <thead>\n",
       "    <tr style=\"text-align: right;\">\n",
       "      <th></th>\n",
       "      <th>age</th>\n",
       "      <th>bmi</th>\n",
       "      <th>children</th>\n",
       "      <th>smoker_dmy_yes</th>\n",
       "      <th>charges</th>\n",
       "    </tr>\n",
       "  </thead>\n",
       "  <tbody>\n",
       "    <tr>\n",
       "      <th>age</th>\n",
       "      <td>1.000000</td>\n",
       "      <td>0.109272</td>\n",
       "      <td>0.042469</td>\n",
       "      <td>-0.025019</td>\n",
       "      <td>0.299008</td>\n",
       "    </tr>\n",
       "    <tr>\n",
       "      <th>bmi</th>\n",
       "      <td>0.109272</td>\n",
       "      <td>1.000000</td>\n",
       "      <td>0.012759</td>\n",
       "      <td>0.003750</td>\n",
       "      <td>0.198341</td>\n",
       "    </tr>\n",
       "    <tr>\n",
       "      <th>children</th>\n",
       "      <td>0.042469</td>\n",
       "      <td>0.012759</td>\n",
       "      <td>1.000000</td>\n",
       "      <td>0.007673</td>\n",
       "      <td>0.067998</td>\n",
       "    </tr>\n",
       "    <tr>\n",
       "      <th>smoker_dmy_yes</th>\n",
       "      <td>-0.025019</td>\n",
       "      <td>0.003750</td>\n",
       "      <td>0.007673</td>\n",
       "      <td>1.000000</td>\n",
       "      <td>0.787251</td>\n",
       "    </tr>\n",
       "    <tr>\n",
       "      <th>charges</th>\n",
       "      <td>0.299008</td>\n",
       "      <td>0.198341</td>\n",
       "      <td>0.067998</td>\n",
       "      <td>0.787251</td>\n",
       "      <td>1.000000</td>\n",
       "    </tr>\n",
       "  </tbody>\n",
       "</table>\n",
       "</div>"
      ],
      "text/plain": [
       "                     age       bmi  children  smoker_dmy_yes   charges\n",
       "age             1.000000  0.109272  0.042469       -0.025019  0.299008\n",
       "bmi             0.109272  1.000000  0.012759        0.003750  0.198341\n",
       "children        0.042469  0.012759  1.000000        0.007673  0.067998\n",
       "smoker_dmy_yes -0.025019  0.003750  0.007673        1.000000  0.787251\n",
       "charges         0.299008  0.198341  0.067998        0.787251  1.000000"
      ]
     },
     "execution_count": 18,
     "metadata": {},
     "output_type": "execute_result"
    }
   ],
   "source": [
    "as_feature_cols = ['age','bmi','children','smoker_dmy_yes']\n",
    "df_asurance[as_feature_cols+['charges']].corr()"
   ]
  },
  {
   "cell_type": "markdown",
   "id": "a2ad0649",
   "metadata": {},
   "source": [
    "# Data Transformation"
   ]
  },
  {
   "cell_type": "markdown",
   "id": "ef1cd651",
   "metadata": {},
   "source": [
    "# Galaxy"
   ]
  },
  {
   "cell_type": "code",
   "execution_count": 19,
   "id": "6de58d8c",
   "metadata": {},
   "outputs": [],
   "source": [
    "gal_feature_cols = ['C','A','S','G2','H']\n",
    "X = df_galaxy[feature_cols]\n",
    "y = df_galaxy['CNN2classes1stClass']"
   ]
  },
  {
   "cell_type": "markdown",
   "id": "f5d9f74c",
   "metadata": {},
   "source": [
    "### Split data"
   ]
  },
  {
   "cell_type": "code",
   "execution_count": 20,
   "id": "c1cb1648",
   "metadata": {},
   "outputs": [],
   "source": [
    "from sklearn.model_selection import train_test_split\n",
    "X_train, X_test, y_train, y_test = train_test_split(X, y, test_size=0.1, random_state=69, stratify=y)"
   ]
  },
  {
   "cell_type": "code",
   "execution_count": 21,
   "id": "5eb0ace9",
   "metadata": {},
   "outputs": [],
   "source": [
    "from sklearn.model_selection import train_test_split\n",
    "X_train, X_val, y_train, y_val = train_test_split(X_train, y_train, test_size=2/9, random_state=69, stratify=y_train)"
   ]
  },
  {
   "cell_type": "markdown",
   "id": "1be5949f",
   "metadata": {},
   "source": [
    "### Modelling"
   ]
  },
  {
   "cell_type": "markdown",
   "id": "47e4a6af",
   "metadata": {},
   "source": [
    "Scale data"
   ]
  },
  {
   "cell_type": "code",
   "execution_count": 22,
   "id": "7098395d",
   "metadata": {},
   "outputs": [],
   "source": [
    "scaler = StandardScaler()\n",
    "scaler.fit(X_train)\n",
    "X_train_trf = scaler.transform(X_train)"
   ]
  },
  {
   "cell_type": "markdown",
   "id": "eedcb79e",
   "metadata": {},
   "source": [
    "## Create model and train (Galaxy with SVM)"
   ]
  },
  {
   "cell_type": "code",
   "execution_count": 23,
   "id": "cb835ddb",
   "metadata": {},
   "outputs": [
    {
     "name": "stdout",
     "output_type": "stream",
     "text": [
      "Wall time: 5.55 s\n"
     ]
    },
    {
     "data": {
      "text/plain": [
       "SVC(C=1, kernel='linear', random_state=69)"
      ]
     },
     "execution_count": 23,
     "metadata": {},
     "output_type": "execute_result"
    }
   ],
   "source": [
    "from sklearn.svm import SVC\n",
    "\n",
    "#svc with kernel linear\n",
    "model_svc_linear = SVC(kernel='linear', random_state=69,C=1)\n",
    "%time model_svc_linear.fit(X_train_trf, y_train)"
   ]
  },
  {
   "cell_type": "markdown",
   "id": "20f96b7f",
   "metadata": {},
   "source": [
    "## Model Analysis"
   ]
  },
  {
   "cell_type": "markdown",
   "id": "25a1e504",
   "metadata": {},
   "source": [
    "Performance evaluation"
   ]
  },
  {
   "cell_type": "code",
   "execution_count": 24,
   "id": "7642f22b",
   "metadata": {},
   "outputs": [],
   "source": [
    "X_val_trf = scaler.transform(X_val)"
   ]
  },
  {
   "cell_type": "code",
   "execution_count": 25,
   "id": "9ea0b9a8",
   "metadata": {},
   "outputs": [
    {
     "name": "stdout",
     "output_type": "stream",
     "text": [
      "Wall time: 621 ms\n",
      "              precision    recall  f1-score   support\n",
      "\n",
      "           0       0.00      0.00      0.00       771\n",
      "           1       0.81      1.00      0.89      3229\n",
      "\n",
      "    accuracy                           0.81      4000\n",
      "   macro avg       0.40      0.50      0.45      4000\n",
      "weighted avg       0.65      0.81      0.72      4000\n",
      "\n"
     ]
    },
    {
     "name": "stderr",
     "output_type": "stream",
     "text": [
      "C:\\Users\\mistersunday\\anaconda3\\lib\\site-packages\\sklearn\\metrics\\_classification.py:1245: UndefinedMetricWarning: Precision and F-score are ill-defined and being set to 0.0 in labels with no predicted samples. Use `zero_division` parameter to control this behavior.\n",
      "  _warn_prf(average, modifier, msg_start, len(result))\n",
      "C:\\Users\\mistersunday\\anaconda3\\lib\\site-packages\\sklearn\\metrics\\_classification.py:1245: UndefinedMetricWarning: Precision and F-score are ill-defined and being set to 0.0 in labels with no predicted samples. Use `zero_division` parameter to control this behavior.\n",
      "  _warn_prf(average, modifier, msg_start, len(result))\n",
      "C:\\Users\\mistersunday\\anaconda3\\lib\\site-packages\\sklearn\\metrics\\_classification.py:1245: UndefinedMetricWarning: Precision and F-score are ill-defined and being set to 0.0 in labels with no predicted samples. Use `zero_division` parameter to control this behavior.\n",
      "  _warn_prf(average, modifier, msg_start, len(result))\n"
     ]
    }
   ],
   "source": [
    "from sklearn.metrics import classification_report\n",
    "\n",
    "%time y_val_predict = model_svc_linear.predict(X_val_trf)\n",
    "print(classification_report(y_val, y_val_predict))"
   ]
  },
  {
   "cell_type": "markdown",
   "id": "e56ad2f1",
   "metadata": {},
   "source": [
    "**Confusion matrix**"
   ]
  },
  {
   "cell_type": "code",
   "execution_count": 26,
   "id": "1bde683d",
   "metadata": {
    "scrolled": true
   },
   "outputs": [
    {
     "name": "stdout",
     "output_type": "stream",
     "text": [
      "[[   0  771]\n",
      " [   0 3229]]\n",
      "0.80725\n",
      "1.0\n"
     ]
    }
   ],
   "source": [
    "from sklearn.metrics import confusion_matrix\n",
    "from sklearn.metrics import precision_score, recall_score\n",
    "\n",
    "y_val_pred = model_svc_linear.predict(X_val_trf)\n",
    "cm = confusion_matrix(y_val, y_val_pred)\n",
    "\n",
    "print(cm)\n",
    "print(precision_score(y_val, y_val_pred))\n",
    "print(recall_score(y_val, y_val_pred))"
   ]
  },
  {
   "cell_type": "markdown",
   "id": "d6117329",
   "metadata": {},
   "source": [
    "**ROC curve**"
   ]
  },
  {
   "cell_type": "code",
   "execution_count": 27,
   "id": "15e0ce4a",
   "metadata": {
    "scrolled": false
   },
   "outputs": [
    {
     "data": {
      "text/plain": [
       "[<matplotlib.lines.Line2D at 0x2b9ff22f070>]"
      ]
     },
     "execution_count": 27,
     "metadata": {},
     "output_type": "execute_result"
    },
    {
     "data": {
      "image/png": "[encoded data removed]",
      "text/plain": [
       "<Figure size 576x432 with 1 Axes>"
      ]
     },
     "metadata": {
      "needs_background": "light"
     },
     "output_type": "display_data"
    }
   ],
   "source": [
    "from sklearn.metrics import roc_curve,auc\n",
    "\n",
    "plt.figure(figsize=(8, 6))                                   \n",
    "plt.axis([0, 1, 0, 1])                                    \n",
    "plt.xlabel('False Positive Rate (Fall-Out)', fontsize=16) \n",
    "plt.ylabel('True Positive Rate (Recall)', fontsize=16)   \n",
    "plt.grid(True)                                            \n",
    "plt.plot([0, 1], [0, 1], 'k--') # dashed diagonal\n",
    "\n",
    "y_scores = model_svc_linear.decision_function(X_val_trf)\n",
    "fpr, tpr, thresholds = roc_curve(y_val, y_scores)\n",
    "roc_auc = auc(fpr, tpr)\n",
    "plt.plot(fpr, tpr, linewidth=2)"
   ]
  },
  {
   "cell_type": "markdown",
   "id": "be6c2538",
   "metadata": {},
   "source": [
    "# Conclusion"
   ]
  },
  {
   "cell_type": "markdown",
   "id": "55c8b2b5",
   "metadata": {},
   "source": [
    "Dari hasil confusion matrix dan ROC, dapat disimpulkan bahwa model ini cukup efektif digunakan dengan dataset yang ada. Karena menghasilkan True positiver rate yang cukup tinggi."
   ]
  },
  {
   "cell_type": "markdown",
   "id": "e465f8a9",
   "metadata": {},
   "source": [
    "# Assurance"
   ]
  },
  {
   "cell_type": "markdown",
   "id": "18ff8ef1",
   "metadata": {},
   "source": [
    "### Data transform\n",
    "Select features"
   ]
  },
  {
   "cell_type": "code",
   "execution_count": 28,
   "id": "41ff49fe",
   "metadata": {},
   "outputs": [],
   "source": [
    "as_feature_cols = ['age','bmi','children','smoker_dmy_yes','smoker_dmy_no']\n",
    "X = df_asurance[as_feature_cols]\n",
    "y = df_asurance['charges']"
   ]
  },
  {
   "cell_type": "code",
   "execution_count": 29,
   "id": "ee54150f",
   "metadata": {},
   "outputs": [
    {
     "data": {
      "text/plain": [
       "<AxesSubplot:xlabel='age', ylabel='charges'>"
      ]
     },
     "execution_count": 29,
     "metadata": {},
     "output_type": "execute_result"
    },
    {
     "data": {
      "image/png": "[encoded data removed]",
      "text/plain": [
       "<Figure size 432x288 with 1 Axes>"
      ]
     },
     "metadata": {
      "needs_background": "light"
     },
     "output_type": "display_data"
    }
   ],
   "source": [
    "sns.scatterplot(data=df_asurance,x='age',y='charges')"
   ]
  },
  {
   "cell_type": "markdown",
   "id": "5aa8ecf0",
   "metadata": {},
   "source": [
    "Terlihat bahwa umur berkorelasi dengan biaya."
   ]
  },
  {
   "cell_type": "code",
   "execution_count": 30,
   "id": "a2c3873c",
   "metadata": {
    "scrolled": true
   },
   "outputs": [
    {
     "name": "stdout",
     "output_type": "stream",
     "text": [
      "0\n"
     ]
    },
    {
     "data": {
      "text/html": [
       "<div>\n",
       "<style scoped>\n",
       "    .dataframe tbody tr th:only-of-type {\n",
       "        vertical-align: middle;\n",
       "    }\n",
       "\n",
       "    .dataframe tbody tr th {\n",
       "        vertical-align: top;\n",
       "    }\n",
       "\n",
       "    .dataframe thead th {\n",
       "        text-align: right;\n",
       "    }\n",
       "</style>\n",
       "<table border=\"1\" class=\"dataframe\">\n",
       "  <thead>\n",
       "    <tr style=\"text-align: right;\">\n",
       "      <th></th>\n",
       "      <th>age</th>\n",
       "      <th>bmi</th>\n",
       "      <th>children</th>\n",
       "      <th>charges</th>\n",
       "      <th>smoker_dmy_no</th>\n",
       "      <th>smoker_dmy_yes</th>\n",
       "    </tr>\n",
       "  </thead>\n",
       "  <tbody>\n",
       "    <tr>\n",
       "      <th>age</th>\n",
       "      <td>1.000000</td>\n",
       "      <td>0.109272</td>\n",
       "      <td>0.042469</td>\n",
       "      <td>0.299008</td>\n",
       "      <td>0.025019</td>\n",
       "      <td>-0.025019</td>\n",
       "    </tr>\n",
       "    <tr>\n",
       "      <th>bmi</th>\n",
       "      <td>0.109272</td>\n",
       "      <td>1.000000</td>\n",
       "      <td>0.012759</td>\n",
       "      <td>0.198341</td>\n",
       "      <td>-0.003750</td>\n",
       "      <td>0.003750</td>\n",
       "    </tr>\n",
       "    <tr>\n",
       "      <th>children</th>\n",
       "      <td>0.042469</td>\n",
       "      <td>0.012759</td>\n",
       "      <td>1.000000</td>\n",
       "      <td>0.067998</td>\n",
       "      <td>-0.007673</td>\n",
       "      <td>0.007673</td>\n",
       "    </tr>\n",
       "    <tr>\n",
       "      <th>charges</th>\n",
       "      <td>0.299008</td>\n",
       "      <td>0.198341</td>\n",
       "      <td>0.067998</td>\n",
       "      <td>1.000000</td>\n",
       "      <td>-0.787251</td>\n",
       "      <td>0.787251</td>\n",
       "    </tr>\n",
       "    <tr>\n",
       "      <th>smoker_dmy_no</th>\n",
       "      <td>0.025019</td>\n",
       "      <td>-0.003750</td>\n",
       "      <td>-0.007673</td>\n",
       "      <td>-0.787251</td>\n",
       "      <td>1.000000</td>\n",
       "      <td>-1.000000</td>\n",
       "    </tr>\n",
       "    <tr>\n",
       "      <th>smoker_dmy_yes</th>\n",
       "      <td>-0.025019</td>\n",
       "      <td>0.003750</td>\n",
       "      <td>0.007673</td>\n",
       "      <td>0.787251</td>\n",
       "      <td>-1.000000</td>\n",
       "      <td>1.000000</td>\n",
       "    </tr>\n",
       "  </tbody>\n",
       "</table>\n",
       "</div>"
      ],
      "text/plain": [
       "                     age       bmi  children   charges  smoker_dmy_no  \\\n",
       "age             1.000000  0.109272  0.042469  0.299008       0.025019   \n",
       "bmi             0.109272  1.000000  0.012759  0.198341      -0.003750   \n",
       "children        0.042469  0.012759  1.000000  0.067998      -0.007673   \n",
       "charges         0.299008  0.198341  0.067998  1.000000      -0.787251   \n",
       "smoker_dmy_no   0.025019 -0.003750 -0.007673 -0.787251       1.000000   \n",
       "smoker_dmy_yes -0.025019  0.003750  0.007673  0.787251      -1.000000   \n",
       "\n",
       "                smoker_dmy_yes  \n",
       "age                  -0.025019  \n",
       "bmi                   0.003750  \n",
       "children              0.007673  \n",
       "charges               0.787251  \n",
       "smoker_dmy_no        -1.000000  \n",
       "smoker_dmy_yes        1.000000  "
      ]
     },
     "execution_count": 30,
     "metadata": {},
     "output_type": "execute_result"
    }
   ],
   "source": [
    "#Checking Multicorrelation\n",
    "print(np.abs((X.corr())>0.7).agg('sum').sum()-len(X.columns))\n",
    "df_asurance.corr()"
   ]
  },
  {
   "cell_type": "markdown",
   "id": "48a101c1",
   "metadata": {},
   "source": [
    "### Splitting data"
   ]
  },
  {
   "cell_type": "code",
   "execution_count": 31,
   "id": "aa52b191",
   "metadata": {},
   "outputs": [
    {
     "name": "stdout",
     "output_type": "stream",
     "text": [
      "(1070, 5)\n",
      "(268, 5)\n"
     ]
    }
   ],
   "source": [
    "from sklearn.model_selection import train_test_split\n",
    "\n",
    "X_train = X[:int(len(df_asurance)*0.8)]\n",
    "X_val = X[int(len(df_asurance)*0.8):]\n",
    "y_train = y[:int(len(df_asurance)*0.8)]\n",
    "y_val = y[int(len(df_asurance)*0.8):]\n",
    "print(X_train.shape)\n",
    "print(X_val.shape)"
   ]
  },
  {
   "cell_type": "markdown",
   "id": "a4175c3f",
   "metadata": {},
   "source": [
    "### Scaling Data"
   ]
  },
  {
   "cell_type": "code",
   "execution_count": 32,
   "id": "9c03748f",
   "metadata": {},
   "outputs": [],
   "source": [
    "def z_scoring(arrays):\n",
    "    arr_mean = arrays.mean()\n",
    "    arr_std = arrays.std()\n",
    "    arr_rst = (arrays-arr_mean)/arr_std\n",
    "    return arr_rst,arr_mean,arr_std\n",
    "\n",
    "def restore_z_score(arrays,arr_mean,arr_std):\n",
    "    return arrays*arr_std+arr_mean"
   ]
  },
  {
   "cell_type": "code",
   "execution_count": 33,
   "id": "d09aafa5",
   "metadata": {},
   "outputs": [],
   "source": [
    "scaler = StandardScaler()\n",
    "scaler.fit(X_train)\n",
    "\n",
    "X_train_trf = scaler.transform(X_train) \n",
    "y_train_trf,y_mean,y_std = z_scoring(y_train)"
   ]
  },
  {
   "cell_type": "markdown",
   "id": "a0277eeb",
   "metadata": {},
   "source": [
    "### Train model"
   ]
  },
  {
   "cell_type": "code",
   "execution_count": 34,
   "id": "397f3858",
   "metadata": {},
   "outputs": [
    {
     "name": "stdout",
     "output_type": "stream",
     "text": [
      "Wall time: 6.99 ms\n"
     ]
    },
    {
     "data": {
      "text/plain": [
       "LinearRegression()"
      ]
     },
     "execution_count": 34,
     "metadata": {},
     "output_type": "execute_result"
    }
   ],
   "source": [
    "model = LinearRegression()\n",
    "%time model.fit(X_train, y_train)"
   ]
  },
  {
   "cell_type": "code",
   "execution_count": 35,
   "id": "b548782a",
   "metadata": {},
   "outputs": [
    {
     "name": "stdout",
     "output_type": "stream",
     "text": [
      "-423.81898463937796\n",
      "[   260.69784426    322.10176125    440.68228219  11807.28313707\n",
      " -11807.28313707]\n"
     ]
    }
   ],
   "source": [
    "print(model.intercept_)\n",
    "print(model.coef_)"
   ]
  },
  {
   "cell_type": "markdown",
   "id": "19ecda4c",
   "metadata": {},
   "source": [
    "## Model Inference"
   ]
  },
  {
   "cell_type": "code",
   "execution_count": 36,
   "id": "b81ad7e5",
   "metadata": {},
   "outputs": [],
   "source": [
    "X_val_trf = scaler.transform(X_val)"
   ]
  },
  {
   "cell_type": "code",
   "execution_count": 38,
   "id": "e2a8836e",
   "metadata": {},
   "outputs": [],
   "source": [
    "from sklearn.metrics import mean_absolute_error,mean_squared_error,r2_score\n",
    "import time\n",
    "\n",
    "#prediction validation result\n",
    "model_pred_val = model.predict(X_val_trf)\n",
    "prediction_val = restore_z_score(model_pred_val,y_mean,y_std)"
   ]
  },
  {
   "cell_type": "code",
   "execution_count": 39,
   "id": "0fd391df",
   "metadata": {},
   "outputs": [],
   "source": [
    "#prediction training result\n",
    "model_pred_train = model.predict(X_train_trf)\n",
    "prediction_train = restore_z_score(model_pred_train,y_mean,y_std)"
   ]
  },
  {
   "cell_type": "code",
   "execution_count": 40,
   "id": "1774d3eb",
   "metadata": {},
   "outputs": [
    {
     "name": "stdout",
     "output_type": "stream",
     "text": [
      "MAE Val :  19391.802747953163\n",
      "RMSE Val :  20547.840863045032\n"
     ]
    }
   ],
   "source": [
    "MAE_val = mean_absolute_error(y_val, model_pred_val)\n",
    "RMSE_val = np.sqrt(mean_squared_error(y_val,model_pred_val))\n",
    "\n",
    "print('MAE Val : ', MAE_val)\n",
    "print('RMSE Val : ', RMSE_val)"
   ]
  },
  {
   "cell_type": "code",
   "execution_count": 42,
   "id": "0cc28729",
   "metadata": {},
   "outputs": [
    {
     "name": "stdout",
     "output_type": "stream",
     "text": [
      "MAE Val :  19639.22271752047\n",
      "RMSE Val :  19639.22271752047\n"
     ]
    }
   ],
   "source": [
    "MAE_train = mean_absolute_error(y_train, model_pred_train)\n",
    "RMSE_train = np.sqrt(mean_squared_error(y_train,model_pred_train))\n",
    "\n",
    "print('MAE Val : ', MAE_train)\n",
    "print('RMSE Val : ', MAE_train)"
   ]
  },
  {
   "cell_type": "markdown",
   "id": "e9e12732",
   "metadata": {},
   "source": [
    "Hasil MAE dan RMSE validation dan train tidak jauh berbeda."
   ]
  }
 ],
 "metadata": {
  "kernelspec": {
   "display_name": "Python 3",
   "language": "python",
   "name": "python3"
  },
  "language_info": {
   "codemirror_mode": {
    "name": "ipython",
    "version": 3
   },
   "file_extension": ".py",
   "mimetype": "text/x-python",
   "name": "python",
   "nbconvert_exporter": "python",
   "pygments_lexer": "ipython3",
   "version": "3.8.8"
  }
 },
 "nbformat": 4,
 "nbformat_minor": 5
}
