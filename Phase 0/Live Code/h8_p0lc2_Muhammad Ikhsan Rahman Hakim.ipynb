{
 "cells": [
  {
   "cell_type": "markdown",
   "id": "0883368f",
   "metadata": {},
   "source": [
    "# Live Code 2\n",
    "Muhammad Ikhsan Rahman Hakim - FTDS001"
   ]
  },
  {
   "cell_type": "markdown",
   "id": "c7045d79",
   "metadata": {},
   "source": [
    "# Problems 1\n",
    "\n",
    "1. Diketahui toko buah X menjual 10 produk dengan label nama A-J. Data penjualan serta pendapatan total toko X selalu dicatat setiap harinya dan berikut data penjualan 10 hari terakhir. Berapa harga masing-masing produk A-J?"
   ]
  },
  {
   "cell_type": "code",
   "execution_count": 9,
   "id": "b70159b5",
   "metadata": {},
   "outputs": [],
   "source": [
    "import numpy as np\n",
    "import sympy as sy\n",
    "import pandas as pd\n",
    "from scipy import integrate\n",
    "import matplotlib.pyplot as plt"
   ]
  },
  {
   "cell_type": "markdown",
   "id": "75ea7f27",
   "metadata": {},
   "source": [
    "## Mathematical Calculations\n",
    "Masukkan seluruh data ke dalam sebuah matrix dan dicari OBEnya."
   ]
  },
  {
   "cell_type": "code",
   "execution_count": 43,
   "id": "2451fc4d",
   "metadata": {},
   "outputs": [
    {
     "data": {
      "text/plain": [
       "(Matrix([\n",
       " [1, 0, 0, 0, 0, 0, 0, 0, 0, 0,  5000],\n",
       " [0, 1, 0, 0, 0, 0, 0, 0, 0, 0, 11000],\n",
       " [0, 0, 1, 0, 0, 0, 0, 0, 0, 0, 12500],\n",
       " [0, 0, 0, 1, 0, 0, 0, 0, 0, 0,  3500],\n",
       " [0, 0, 0, 0, 1, 0, 0, 0, 0, 0, 17000],\n",
       " [0, 0, 0, 0, 0, 1, 0, 0, 0, 0, 26000],\n",
       " [0, 0, 0, 0, 0, 0, 1, 0, 0, 0, 10000],\n",
       " [0, 0, 0, 0, 0, 0, 0, 1, 0, 0,  2000],\n",
       " [0, 0, 0, 0, 0, 0, 0, 0, 1, 0,  7500],\n",
       " [0, 0, 0, 0, 0, 0, 0, 0, 0, 1, 24000]]),\n",
       " (0, 1, 2, 3, 4, 5, 6, 7, 8, 9))"
      ]
     },
     "execution_count": 43,
     "metadata": {},
     "output_type": "execute_result"
    }
   ],
   "source": [
    "B = np.array([\n",
    "    [14,19,2,44,9,1,3,40,17,22,1402500],\n",
    "    [7,26,26,24,54,2,2,4,22,18,2325000],\n",
    "    [37,54,1,43,46,23,37,36,18,17,3307000],\n",
    "    [19,19,45,41,43,21,38,51,56,37,4077000],\n",
    "    [47,28,50,10,44,54,3,47,2,21,3998000],\n",
    "    [12,41,31,25,44,13,16,9,47,3,2674500],\n",
    "    [20,19,53,56,34,6,60,37,35,49,4014000],\n",
    "    [60,44,1,16,9,24,55,55,30,10,2754500],\n",
    "    [41,55,50,28,59,54,40,9,45,34,5511500],\n",
    "    [14,11,39,2,26,17,51,19,38,39,3338500]\n",
    "])\n",
    "OBE = sy.Matrix(B)\n",
    "OBE.rref()"
   ]
  },
  {
   "cell_type": "markdown",
   "id": "a353816f",
   "metadata": {},
   "source": [
    "Kita mendapatkan hasil masing harga barang A-J:\n",
    "- A= 5000\n",
    "- B= 11000\n",
    "- C= 12500\n",
    "- D= 3500\n",
    "- E= 17000\n",
    "- F= 26000\n",
    "- G= 10000\n",
    "- H= 2000\n",
    "- I= 7500\n",
    "- J= 24000"
   ]
  },
  {
   "cell_type": "markdown",
   "id": "39ae6d71",
   "metadata": {},
   "source": [
    "# Problem 2\n",
    "\n",
    "Menggunakan konsep integral, tentukan luas negara Swiss jika diketahui koordinat batas-batasnya! Dataset koordinat batas Swiss dapat diakses pada link berikut: https://raw.githubusercontent.com/fahmimnalfrzki/Dataset/main/Swiss_boundaries.txt?token=AEZDEHXBTS7OMF32RTYPKZDA2FELA"
   ]
  },
  {
   "cell_type": "markdown",
   "id": "e050f8bd",
   "metadata": {},
   "source": [
    "## Data Loading"
   ]
  },
  {
   "cell_type": "markdown",
   "id": "be916a73",
   "metadata": {},
   "source": [
    "import dataframe dari file csv"
   ]
  },
  {
   "cell_type": "code",
   "execution_count": 5,
   "id": "a1c801e8",
   "metadata": {},
   "outputs": [],
   "source": [
    "df = pd.read_csv('https://raw.githubusercontent.com/fahmimnalfrzki/Dataset/main/Swiss_boundaries.txt?token=AEZDEHXBTS7OMF32RTYPKZDA2FELA')"
   ]
  },
  {
   "cell_type": "code",
   "execution_count": 6,
   "id": "8d93aec5",
   "metadata": {},
   "outputs": [
    {
     "name": "stdout",
     "output_type": "stream",
     "text": [
      "<class 'pandas.core.frame.DataFrame'>\n",
      "RangeIndex: 278 entries, 0 to 277\n",
      "Data columns (total 2 columns):\n",
      " #   Column     Non-Null Count  Dtype  \n",
      "---  ------     --------------  -----  \n",
      " 0   longitude  278 non-null    float64\n",
      " 1   latitude   278 non-null    float64\n",
      "dtypes: float64(2)\n",
      "memory usage: 4.5 KB\n"
     ]
    }
   ],
   "source": [
    "df.info()"
   ]
  },
  {
   "cell_type": "code",
   "execution_count": 7,
   "id": "a82a6a6c",
   "metadata": {},
   "outputs": [
    {
     "data": {
      "text/html": [
       "<div>\n",
       "<style scoped>\n",
       "    .dataframe tbody tr th:only-of-type {\n",
       "        vertical-align: middle;\n",
       "    }\n",
       "\n",
       "    .dataframe tbody tr th {\n",
       "        vertical-align: top;\n",
       "    }\n",
       "\n",
       "    .dataframe thead th {\n",
       "        text-align: right;\n",
       "    }\n",
       "</style>\n",
       "<table border=\"1\" class=\"dataframe\">\n",
       "  <thead>\n",
       "    <tr style=\"text-align: right;\">\n",
       "      <th></th>\n",
       "      <th>count</th>\n",
       "      <th>mean</th>\n",
       "      <th>std</th>\n",
       "      <th>min</th>\n",
       "      <th>25%</th>\n",
       "      <th>50%</th>\n",
       "      <th>75%</th>\n",
       "      <th>max</th>\n",
       "    </tr>\n",
       "  </thead>\n",
       "  <tbody>\n",
       "    <tr>\n",
       "      <th>longitude</th>\n",
       "      <td>278.0</td>\n",
       "      <td>8.388293</td>\n",
       "      <td>1.308479</td>\n",
       "      <td>5.96701</td>\n",
       "      <td>7.339238</td>\n",
       "      <td>8.572925</td>\n",
       "      <td>9.500760</td>\n",
       "      <td>10.48821</td>\n",
       "    </tr>\n",
       "    <tr>\n",
       "      <th>latitude</th>\n",
       "      <td>278.0</td>\n",
       "      <td>46.789161</td>\n",
       "      <td>0.627381</td>\n",
       "      <td>45.82944</td>\n",
       "      <td>46.251680</td>\n",
       "      <td>46.616660</td>\n",
       "      <td>47.460065</td>\n",
       "      <td>47.80666</td>\n",
       "    </tr>\n",
       "  </tbody>\n",
       "</table>\n",
       "</div>"
      ],
      "text/plain": [
       "           count       mean       std       min        25%        50%  \\\n",
       "longitude  278.0   8.388293  1.308479   5.96701   7.339238   8.572925   \n",
       "latitude   278.0  46.789161  0.627381  45.82944  46.251680  46.616660   \n",
       "\n",
       "                 75%       max  \n",
       "longitude   9.500760  10.48821  \n",
       "latitude   47.460065  47.80666  "
      ]
     },
     "execution_count": 7,
     "metadata": {},
     "output_type": "execute_result"
    }
   ],
   "source": [
    "df.describe().T"
   ]
  },
  {
   "cell_type": "markdown",
   "id": "0f8c2573",
   "metadata": {},
   "source": [
    "Melihat sekilas data awal dan akhir dari dataframe"
   ]
  },
  {
   "cell_type": "code",
   "execution_count": 39,
   "id": "905d0f37",
   "metadata": {},
   "outputs": [
    {
     "data": {
      "text/html": [
       "<div>\n",
       "<style scoped>\n",
       "    .dataframe tbody tr th:only-of-type {\n",
       "        vertical-align: middle;\n",
       "    }\n",
       "\n",
       "    .dataframe tbody tr th {\n",
       "        vertical-align: top;\n",
       "    }\n",
       "\n",
       "    .dataframe thead th {\n",
       "        text-align: right;\n",
       "    }\n",
       "</style>\n",
       "<table border=\"1\" class=\"dataframe\">\n",
       "  <thead>\n",
       "    <tr style=\"text-align: right;\">\n",
       "      <th></th>\n",
       "      <th>longitude</th>\n",
       "      <th>latitude</th>\n",
       "    </tr>\n",
       "  </thead>\n",
       "  <tbody>\n",
       "    <tr>\n",
       "      <th>0</th>\n",
       "      <td>9.56672</td>\n",
       "      <td>47.54045</td>\n",
       "    </tr>\n",
       "    <tr>\n",
       "      <th>1</th>\n",
       "      <td>9.55980</td>\n",
       "      <td>47.50209</td>\n",
       "    </tr>\n",
       "    <tr>\n",
       "      <th>2</th>\n",
       "      <td>9.59660</td>\n",
       "      <td>47.46944</td>\n",
       "    </tr>\n",
       "    <tr>\n",
       "      <th>3</th>\n",
       "      <td>9.64965</td>\n",
       "      <td>47.45861</td>\n",
       "    </tr>\n",
       "    <tr>\n",
       "      <th>4</th>\n",
       "      <td>9.67035</td>\n",
       "      <td>47.39069</td>\n",
       "    </tr>\n",
       "  </tbody>\n",
       "</table>\n",
       "</div>"
      ],
      "text/plain": [
       "   longitude  latitude\n",
       "0    9.56672  47.54045\n",
       "1    9.55980  47.50209\n",
       "2    9.59660  47.46944\n",
       "3    9.64965  47.45861\n",
       "4    9.67035  47.39069"
      ]
     },
     "execution_count": 39,
     "metadata": {},
     "output_type": "execute_result"
    }
   ],
   "source": [
    "df.head()"
   ]
  },
  {
   "cell_type": "code",
   "execution_count": 37,
   "id": "af6e6240",
   "metadata": {
    "scrolled": true
   },
   "outputs": [
    {
     "data": {
      "text/html": [
       "<div>\n",
       "<style scoped>\n",
       "    .dataframe tbody tr th:only-of-type {\n",
       "        vertical-align: middle;\n",
       "    }\n",
       "\n",
       "    .dataframe tbody tr th {\n",
       "        vertical-align: top;\n",
       "    }\n",
       "\n",
       "    .dataframe thead th {\n",
       "        text-align: right;\n",
       "    }\n",
       "</style>\n",
       "<table border=\"1\" class=\"dataframe\">\n",
       "  <thead>\n",
       "    <tr style=\"text-align: right;\">\n",
       "      <th></th>\n",
       "      <th>longitude</th>\n",
       "      <th>latitude</th>\n",
       "    </tr>\n",
       "  </thead>\n",
       "  <tbody>\n",
       "    <tr>\n",
       "      <th>273</th>\n",
       "      <td>9.03333</td>\n",
       "      <td>47.68833</td>\n",
       "    </tr>\n",
       "    <tr>\n",
       "      <th>274</th>\n",
       "      <td>9.08264</td>\n",
       "      <td>47.68541</td>\n",
       "    </tr>\n",
       "    <tr>\n",
       "      <th>275</th>\n",
       "      <td>9.26110</td>\n",
       "      <td>47.66284</td>\n",
       "    </tr>\n",
       "    <tr>\n",
       "      <th>276</th>\n",
       "      <td>9.47832</td>\n",
       "      <td>47.57585</td>\n",
       "    </tr>\n",
       "    <tr>\n",
       "      <th>277</th>\n",
       "      <td>9.56672</td>\n",
       "      <td>47.54045</td>\n",
       "    </tr>\n",
       "  </tbody>\n",
       "</table>\n",
       "</div>"
      ],
      "text/plain": [
       "     longitude  latitude\n",
       "273    9.03333  47.68833\n",
       "274    9.08264  47.68541\n",
       "275    9.26110  47.66284\n",
       "276    9.47832  47.57585\n",
       "277    9.56672  47.54045"
      ]
     },
     "execution_count": 37,
     "metadata": {},
     "output_type": "execute_result"
    }
   ],
   "source": [
    "df.tail()"
   ]
  },
  {
   "cell_type": "markdown",
   "id": "0fa22370",
   "metadata": {},
   "source": [
    "Untuk mengetahui jumlah elemen dan bentuk(jumlah baris dan kolom) dari dataframe"
   ]
  },
  {
   "cell_type": "code",
   "execution_count": 42,
   "id": "10f659e7",
   "metadata": {},
   "outputs": [
    {
     "data": {
      "text/plain": [
       "(556, (278, 2))"
      ]
     },
     "execution_count": 42,
     "metadata": {},
     "output_type": "execute_result"
    }
   ],
   "source": [
    "df.size, df.shape"
   ]
  },
  {
   "cell_type": "markdown",
   "id": "a7504b8e",
   "metadata": {},
   "source": [
    "## Mathematical Calculations "
   ]
  },
  {
   "cell_type": "code",
   "execution_count": 11,
   "id": "463cc43e",
   "metadata": {},
   "outputs": [
    {
     "data": {
      "text/plain": [
       "[<matplotlib.lines.Line2D at 0x1f796403910>]"
      ]
     },
     "execution_count": 11,
     "metadata": {},
     "output_type": "execute_result"
    },
    {
     "data": {
      "image/png": "[encoded data removed]",
      "text/plain": [
       "<Figure size 432x288 with 1 Axes>"
      ]
     },
     "metadata": {
      "needs_background": "light"
     },
     "output_type": "display_data"
    }
   ],
   "source": [
    "plt.plot(df.longitude,df.latitude)"
   ]
  },
  {
   "cell_type": "code",
   "execution_count": 61,
   "id": "a798d9d9",
   "metadata": {},
   "outputs": [
    {
     "name": "stdout",
     "output_type": "stream",
     "text": [
      "2331.9453300000187\n",
      "13007.386810000018\n"
     ]
    }
   ],
   "source": [
    "longx = df.longitude.sum()\n",
    "laty  = df.latitude.sum()\n",
    "\n",
    "print(longx)\n",
    "print(laty)"
   ]
  },
  {
   "cell_type": "code",
   "execution_count": 14,
   "id": "edff1ac6",
   "metadata": {},
   "outputs": [
    {
     "data": {
      "text/plain": [
       "46.818050000000056"
      ]
     },
     "execution_count": 14,
     "metadata": {},
     "output_type": "execute_result"
    }
   ],
   "source": [
    "lat_center=(df.latitude.max()+df.latitude.min())/2\n",
    "lat_center"
   ]
  },
  {
   "cell_type": "code",
   "execution_count": 15,
   "id": "1b755a38",
   "metadata": {},
   "outputs": [],
   "source": [
    "northern=df[df.latitude>=lat_center]\n",
    "southern=df[df.latitude<=lat_center]"
   ]
  },
  {
   "cell_type": "markdown",
   "id": "7b2d4173",
   "metadata": {},
   "source": [
    "Range Integral longitude"
   ]
  },
  {
   "cell_type": "code",
   "execution_count": 16,
   "id": "53e4b7af",
   "metadata": {},
   "outputs": [
    {
     "data": {
      "text/html": [
       "<div>\n",
       "<style scoped>\n",
       "    .dataframe tbody tr th:only-of-type {\n",
       "        vertical-align: middle;\n",
       "    }\n",
       "\n",
       "    .dataframe tbody tr th {\n",
       "        vertical-align: top;\n",
       "    }\n",
       "\n",
       "    .dataframe thead th {\n",
       "        text-align: right;\n",
       "    }\n",
       "</style>\n",
       "<table border=\"1\" class=\"dataframe\">\n",
       "  <thead>\n",
       "    <tr style=\"text-align: right;\">\n",
       "      <th></th>\n",
       "      <th>longitude</th>\n",
       "      <th>latitude</th>\n",
       "    </tr>\n",
       "  </thead>\n",
       "  <tbody>\n",
       "    <tr>\n",
       "      <th>0</th>\n",
       "      <td>9.56672</td>\n",
       "      <td>47.54045</td>\n",
       "    </tr>\n",
       "    <tr>\n",
       "      <th>1</th>\n",
       "      <td>9.55980</td>\n",
       "      <td>47.50209</td>\n",
       "    </tr>\n",
       "    <tr>\n",
       "      <th>2</th>\n",
       "      <td>9.59660</td>\n",
       "      <td>47.46944</td>\n",
       "    </tr>\n",
       "    <tr>\n",
       "      <th>3</th>\n",
       "      <td>9.64965</td>\n",
       "      <td>47.45861</td>\n",
       "    </tr>\n",
       "    <tr>\n",
       "      <th>4</th>\n",
       "      <td>9.67035</td>\n",
       "      <td>47.39069</td>\n",
       "    </tr>\n",
       "    <tr>\n",
       "      <th>...</th>\n",
       "      <td>...</td>\n",
       "      <td>...</td>\n",
       "    </tr>\n",
       "    <tr>\n",
       "      <th>273</th>\n",
       "      <td>9.03333</td>\n",
       "      <td>47.68833</td>\n",
       "    </tr>\n",
       "    <tr>\n",
       "      <th>274</th>\n",
       "      <td>9.08264</td>\n",
       "      <td>47.68541</td>\n",
       "    </tr>\n",
       "    <tr>\n",
       "      <th>275</th>\n",
       "      <td>9.26110</td>\n",
       "      <td>47.66284</td>\n",
       "    </tr>\n",
       "    <tr>\n",
       "      <th>276</th>\n",
       "      <td>9.47832</td>\n",
       "      <td>47.57585</td>\n",
       "    </tr>\n",
       "    <tr>\n",
       "      <th>277</th>\n",
       "      <td>9.56672</td>\n",
       "      <td>47.54045</td>\n",
       "    </tr>\n",
       "  </tbody>\n",
       "</table>\n",
       "<p>130 rows × 2 columns</p>\n",
       "</div>"
      ],
      "text/plain": [
       "     longitude  latitude\n",
       "0      9.56672  47.54045\n",
       "1      9.55980  47.50209\n",
       "2      9.59660  47.46944\n",
       "3      9.64965  47.45861\n",
       "4      9.67035  47.39069\n",
       "..         ...       ...\n",
       "273    9.03333  47.68833\n",
       "274    9.08264  47.68541\n",
       "275    9.26110  47.66284\n",
       "276    9.47832  47.57585\n",
       "277    9.56672  47.54045\n",
       "\n",
       "[130 rows x 2 columns]"
      ]
     },
     "execution_count": 16,
     "metadata": {},
     "output_type": "execute_result"
    }
   ],
   "source": [
    "northern"
   ]
  },
  {
   "cell_type": "code",
   "execution_count": 17,
   "id": "7dd30e5c",
   "metadata": {},
   "outputs": [
    {
     "data": {
      "text/html": [
       "<div>\n",
       "<style scoped>\n",
       "    .dataframe tbody tr th:only-of-type {\n",
       "        vertical-align: middle;\n",
       "    }\n",
       "\n",
       "    .dataframe tbody tr th {\n",
       "        vertical-align: top;\n",
       "    }\n",
       "\n",
       "    .dataframe thead th {\n",
       "        text-align: right;\n",
       "    }\n",
       "</style>\n",
       "<table border=\"1\" class=\"dataframe\">\n",
       "  <thead>\n",
       "    <tr style=\"text-align: right;\">\n",
       "      <th></th>\n",
       "      <th>longitude</th>\n",
       "      <th>latitude</th>\n",
       "    </tr>\n",
       "  </thead>\n",
       "  <tbody>\n",
       "    <tr>\n",
       "      <th>39</th>\n",
       "      <td>10.44750</td>\n",
       "      <td>46.76305</td>\n",
       "    </tr>\n",
       "    <tr>\n",
       "      <th>40</th>\n",
       "      <td>10.47083</td>\n",
       "      <td>46.63583</td>\n",
       "    </tr>\n",
       "    <tr>\n",
       "      <th>41</th>\n",
       "      <td>10.48653</td>\n",
       "      <td>46.61735</td>\n",
       "    </tr>\n",
       "    <tr>\n",
       "      <th>42</th>\n",
       "      <td>10.48569</td>\n",
       "      <td>46.59264</td>\n",
       "    </tr>\n",
       "    <tr>\n",
       "      <th>43</th>\n",
       "      <td>10.47187</td>\n",
       "      <td>46.55576</td>\n",
       "    </tr>\n",
       "    <tr>\n",
       "      <th>...</th>\n",
       "      <td>...</td>\n",
       "      <td>...</td>\n",
       "    </tr>\n",
       "    <tr>\n",
       "      <th>182</th>\n",
       "      <td>6.12868</td>\n",
       "      <td>46.58805</td>\n",
       "    </tr>\n",
       "    <tr>\n",
       "      <th>183</th>\n",
       "      <td>6.26917</td>\n",
       "      <td>46.68278</td>\n",
       "    </tr>\n",
       "    <tr>\n",
       "      <th>184</th>\n",
       "      <td>6.35875</td>\n",
       "      <td>46.71673</td>\n",
       "    </tr>\n",
       "    <tr>\n",
       "      <th>185</th>\n",
       "      <td>6.43500</td>\n",
       "      <td>46.75805</td>\n",
       "    </tr>\n",
       "    <tr>\n",
       "      <th>186</th>\n",
       "      <td>6.45687</td>\n",
       "      <td>46.78145</td>\n",
       "    </tr>\n",
       "  </tbody>\n",
       "</table>\n",
       "<p>148 rows × 2 columns</p>\n",
       "</div>"
      ],
      "text/plain": [
       "     longitude  latitude\n",
       "39    10.44750  46.76305\n",
       "40    10.47083  46.63583\n",
       "41    10.48653  46.61735\n",
       "42    10.48569  46.59264\n",
       "43    10.47187  46.55576\n",
       "..         ...       ...\n",
       "182    6.12868  46.58805\n",
       "183    6.26917  46.68278\n",
       "184    6.35875  46.71673\n",
       "185    6.43500  46.75805\n",
       "186    6.45687  46.78145\n",
       "\n",
       "[148 rows x 2 columns]"
      ]
     },
     "execution_count": 17,
     "metadata": {},
     "output_type": "execute_result"
    }
   ],
   "source": [
    "southern"
   ]
  },
  {
   "cell_type": "markdown",
   "id": "c6a31406",
   "metadata": {},
   "source": [
    "Range Integral latitude"
   ]
  },
  {
   "cell_type": "code",
   "execution_count": 18,
   "id": "4ac95105",
   "metadata": {},
   "outputs": [
    {
     "data": {
      "text/plain": [
       "[<matplotlib.lines.Line2D at 0x1f796bc5490>]"
      ]
     },
     "execution_count": 18,
     "metadata": {},
     "output_type": "execute_result"
    },
    {
     "data": {
      "image/png": "[encoded data removed]",
      "text/plain": [
       "<Figure size 432x288 with 1 Axes>"
      ]
     },
     "metadata": {
      "needs_background": "light"
     },
     "output_type": "display_data"
    }
   ],
   "source": [
    "plt.plot(northern.longitude,northern.latitude)\n",
    "plt.plot(southern.longitude,southern.latitude)"
   ]
  },
  {
   "cell_type": "code",
   "execution_count": 19,
   "id": "01063d61",
   "metadata": {},
   "outputs": [],
   "source": [
    "L_N=integrate.trapezoid(northern.latitude,northern.longitude)\n",
    "L_S=integrate.trapezoid(southern.latitude,southern.longitude)\n",
    "luas_swiss=L_N-L_S"
   ]
  },
  {
   "cell_type": "markdown",
   "id": "87c29a9d",
   "metadata": {},
   "source": [
    "Luas wilayah Swiss adalah:"
   ]
  },
  {
   "cell_type": "code",
   "execution_count": 20,
   "id": "2b85569a",
   "metadata": {},
   "outputs": [
    {
     "data": {
      "text/plain": [
       "186.3710114624007"
      ]
     },
     "execution_count": 20,
     "metadata": {},
     "output_type": "execute_result"
    }
   ],
   "source": [
    "luas_swiss"
   ]
  }
 ],
 "metadata": {
  "kernelspec": {
   "display_name": "Python 3",
   "language": "python",
   "name": "python3"
  },
  "language_info": {
   "codemirror_mode": {
    "name": "ipython",
    "version": 3
   },
   "file_extension": ".py",
   "mimetype": "text/x-python",
   "name": "python",
   "nbconvert_exporter": "python",
   "pygments_lexer": "ipython3",
   "version": "3.8.8"
  }
 },
 "nbformat": 4,
 "nbformat_minor": 5
}
