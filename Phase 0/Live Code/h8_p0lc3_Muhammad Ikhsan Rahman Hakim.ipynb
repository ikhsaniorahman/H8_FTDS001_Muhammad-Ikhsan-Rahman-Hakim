{
 "cells": [
  {
   "cell_type": "markdown",
   "id": "c9abed2f",
   "metadata": {},
   "source": [
    "# Live code 3\n",
    "Muhammad Ikhsan Rahman Hakim - FTDS001"
   ]
  },
  {
   "cell_type": "markdown",
   "id": "0c474bfe",
   "metadata": {},
   "source": [
    "- Menggunakan konsep central of tendency, apakah data cenderung berpusat pada purchased=0 atau purchased=1?\n",
    "- Buatlah analisa menggunakan konsep hypothesis testing dan A/B testing (Informasikan H0 dan H1 pada bagian Mathematical Calculation and Analysis)\n",
    "- Apa kesimpulanmu terhadap hasil A/B testing?"
   ]
  },
  {
   "cell_type": "code",
   "execution_count": 1,
   "id": "1cea7806",
   "metadata": {},
   "outputs": [],
   "source": [
    "import pandas as pd\n",
    "import numpy as np\n",
    "import matplotlib.pyplot as plt\n",
    "from scipy import stats\n",
    "import random\n",
    "%matplotlib inline"
   ]
  },
  {
   "cell_type": "markdown",
   "id": "0b9b0fc4",
   "metadata": {},
   "source": [
    "Import data dan pengecekan data sederhana"
   ]
  },
  {
   "cell_type": "code",
   "execution_count": 2,
   "id": "65e09437",
   "metadata": {},
   "outputs": [],
   "source": [
    "df=pd.read_csv(\"https://raw.githubusercontent.com/fahmimnalfrzki/Dataset/main/purchase_data.txt?token=AEZDEHRU5YLQEXGDDLCL6CLA2KZTI\", sep=';')"
   ]
  },
  {
   "cell_type": "code",
   "execution_count": 3,
   "id": "b666159a",
   "metadata": {},
   "outputs": [
    {
     "data": {
      "text/html": [
       "<div>\n",
       "<style scoped>\n",
       "    .dataframe tbody tr th:only-of-type {\n",
       "        vertical-align: middle;\n",
       "    }\n",
       "\n",
       "    .dataframe tbody tr th {\n",
       "        vertical-align: top;\n",
       "    }\n",
       "\n",
       "    .dataframe thead th {\n",
       "        text-align: right;\n",
       "    }\n",
       "</style>\n",
       "<table border=\"1\" class=\"dataframe\">\n",
       "  <thead>\n",
       "    <tr style=\"text-align: right;\">\n",
       "      <th></th>\n",
       "      <th>user_id</th>\n",
       "      <th>timestamp</th>\n",
       "      <th>group</th>\n",
       "      <th>landing_page</th>\n",
       "      <th>purchased</th>\n",
       "    </tr>\n",
       "  </thead>\n",
       "  <tbody>\n",
       "    <tr>\n",
       "      <th>0</th>\n",
       "      <td>851104</td>\n",
       "      <td>2017-01-21 22:11:48.556739</td>\n",
       "      <td>control</td>\n",
       "      <td>old_page</td>\n",
       "      <td>0</td>\n",
       "    </tr>\n",
       "    <tr>\n",
       "      <th>1</th>\n",
       "      <td>804228</td>\n",
       "      <td>2017-01-12 08:01:45.159739</td>\n",
       "      <td>control</td>\n",
       "      <td>old_page</td>\n",
       "      <td>0</td>\n",
       "    </tr>\n",
       "    <tr>\n",
       "      <th>2</th>\n",
       "      <td>661590</td>\n",
       "      <td>2017-01-11 16:55:06.154213</td>\n",
       "      <td>treatment</td>\n",
       "      <td>new_page</td>\n",
       "      <td>0</td>\n",
       "    </tr>\n",
       "    <tr>\n",
       "      <th>3</th>\n",
       "      <td>853541</td>\n",
       "      <td>2017-01-08 18:28:03.143765</td>\n",
       "      <td>treatment</td>\n",
       "      <td>new_page</td>\n",
       "      <td>0</td>\n",
       "    </tr>\n",
       "    <tr>\n",
       "      <th>4</th>\n",
       "      <td>864975</td>\n",
       "      <td>2017-01-21 01:52:26.210827</td>\n",
       "      <td>control</td>\n",
       "      <td>old_page</td>\n",
       "      <td>1</td>\n",
       "    </tr>\n",
       "    <tr>\n",
       "      <th>5</th>\n",
       "      <td>936923</td>\n",
       "      <td>2017-01-10 15:20:49.083499</td>\n",
       "      <td>control</td>\n",
       "      <td>old_page</td>\n",
       "      <td>0</td>\n",
       "    </tr>\n",
       "    <tr>\n",
       "      <th>6</th>\n",
       "      <td>679687</td>\n",
       "      <td>2017-01-19 03:26:46.940749</td>\n",
       "      <td>treatment</td>\n",
       "      <td>new_page</td>\n",
       "      <td>1</td>\n",
       "    </tr>\n",
       "    <tr>\n",
       "      <th>7</th>\n",
       "      <td>719014</td>\n",
       "      <td>2017-01-17 01:48:29.539573</td>\n",
       "      <td>control</td>\n",
       "      <td>old_page</td>\n",
       "      <td>0</td>\n",
       "    </tr>\n",
       "    <tr>\n",
       "      <th>8</th>\n",
       "      <td>817355</td>\n",
       "      <td>2017-01-04 17:58:08.979471</td>\n",
       "      <td>treatment</td>\n",
       "      <td>new_page</td>\n",
       "      <td>1</td>\n",
       "    </tr>\n",
       "    <tr>\n",
       "      <th>9</th>\n",
       "      <td>839785</td>\n",
       "      <td>2017-01-15 18:11:06.610965</td>\n",
       "      <td>treatment</td>\n",
       "      <td>new_page</td>\n",
       "      <td>1</td>\n",
       "    </tr>\n",
       "  </tbody>\n",
       "</table>\n",
       "</div>"
      ],
      "text/plain": [
       "   user_id                   timestamp      group landing_page  purchased\n",
       "0   851104  2017-01-21 22:11:48.556739    control     old_page          0\n",
       "1   804228  2017-01-12 08:01:45.159739    control     old_page          0\n",
       "2   661590  2017-01-11 16:55:06.154213  treatment     new_page          0\n",
       "3   853541  2017-01-08 18:28:03.143765  treatment     new_page          0\n",
       "4   864975  2017-01-21 01:52:26.210827    control     old_page          1\n",
       "5   936923  2017-01-10 15:20:49.083499    control     old_page          0\n",
       "6   679687  2017-01-19 03:26:46.940749  treatment     new_page          1\n",
       "7   719014  2017-01-17 01:48:29.539573    control     old_page          0\n",
       "8   817355  2017-01-04 17:58:08.979471  treatment     new_page          1\n",
       "9   839785  2017-01-15 18:11:06.610965  treatment     new_page          1"
      ]
     },
     "execution_count": 3,
     "metadata": {},
     "output_type": "execute_result"
    }
   ],
   "source": [
    "df.head(10)"
   ]
  },
  {
   "cell_type": "code",
   "execution_count": 4,
   "id": "879efee9",
   "metadata": {},
   "outputs": [
    {
     "data": {
      "text/plain": [
       "(294478, 5)"
      ]
     },
     "execution_count": 4,
     "metadata": {},
     "output_type": "execute_result"
    }
   ],
   "source": [
    "df.shape"
   ]
  },
  {
   "cell_type": "markdown",
   "id": "aa114f5d",
   "metadata": {},
   "source": [
    "Dengan .describe() kita dapat mengetahui ringkasan statistik untuk semua kolom numerik dalam dataframe. "
   ]
  },
  {
   "cell_type": "code",
   "execution_count": 5,
   "id": "1bc10be6",
   "metadata": {
    "scrolled": true
   },
   "outputs": [
    {
     "data": {
      "text/html": [
       "<div>\n",
       "<style scoped>\n",
       "    .dataframe tbody tr th:only-of-type {\n",
       "        vertical-align: middle;\n",
       "    }\n",
       "\n",
       "    .dataframe tbody tr th {\n",
       "        vertical-align: top;\n",
       "    }\n",
       "\n",
       "    .dataframe thead th {\n",
       "        text-align: right;\n",
       "    }\n",
       "</style>\n",
       "<table border=\"1\" class=\"dataframe\">\n",
       "  <thead>\n",
       "    <tr style=\"text-align: right;\">\n",
       "      <th></th>\n",
       "      <th>count</th>\n",
       "      <th>mean</th>\n",
       "      <th>std</th>\n",
       "      <th>min</th>\n",
       "      <th>25%</th>\n",
       "      <th>50%</th>\n",
       "      <th>75%</th>\n",
       "      <th>max</th>\n",
       "    </tr>\n",
       "  </thead>\n",
       "  <tbody>\n",
       "    <tr>\n",
       "      <th>user_id</th>\n",
       "      <td>294478.0</td>\n",
       "      <td>787974.124733</td>\n",
       "      <td>91210.823776</td>\n",
       "      <td>630000.0</td>\n",
       "      <td>709032.25</td>\n",
       "      <td>787933.5</td>\n",
       "      <td>866911.75</td>\n",
       "      <td>945999.0</td>\n",
       "    </tr>\n",
       "    <tr>\n",
       "      <th>purchased</th>\n",
       "      <td>294478.0</td>\n",
       "      <td>0.119659</td>\n",
       "      <td>0.324563</td>\n",
       "      <td>0.0</td>\n",
       "      <td>0.00</td>\n",
       "      <td>0.0</td>\n",
       "      <td>0.00</td>\n",
       "      <td>1.0</td>\n",
       "    </tr>\n",
       "  </tbody>\n",
       "</table>\n",
       "</div>"
      ],
      "text/plain": [
       "              count           mean           std       min        25%  \\\n",
       "user_id    294478.0  787974.124733  91210.823776  630000.0  709032.25   \n",
       "purchased  294478.0       0.119659      0.324563       0.0       0.00   \n",
       "\n",
       "                50%        75%       max  \n",
       "user_id    787933.5  866911.75  945999.0  \n",
       "purchased       0.0       0.00       1.0  "
      ]
     },
     "execution_count": 5,
     "metadata": {},
     "output_type": "execute_result"
    }
   ],
   "source": [
    "df.describe().T"
   ]
  },
  {
   "cell_type": "code",
   "execution_count": 6,
   "id": "b75749f9",
   "metadata": {},
   "outputs": [
    {
     "name": "stdout",
     "output_type": "stream",
     "text": [
      "Min: 0\n",
      "Mode: 0\n",
      "Median: 0.0\n",
      "Mean: 0.11965919355605512\n",
      "Max: 1\n"
     ]
    }
   ],
   "source": [
    "print ('Min: ' + str(df['purchased'].min()))\n",
    "print ('Mode: ' + str(df['purchased'].mode()[0]))\n",
    "print ('Median: ' + str(df['purchased'].median()))\n",
    "print ('Mean: ' + str(df['purchased'].mean()))\n",
    "print ('Max: ' + str(df['purchased'].max()))"
   ]
  },
  {
   "cell_type": "markdown",
   "id": "3f3b1151",
   "metadata": {},
   "source": [
    "### Soal 1\n",
    "Menggunakan konsep central of tendency, apakah data cenderung berpusat pada purchased=0 atau purchased=1?"
   ]
  },
  {
   "cell_type": "code",
   "execution_count": 75,
   "id": "091ee973",
   "metadata": {},
   "outputs": [
    {
     "data": {
      "text/plain": [
       "(259241, 35237)"
      ]
     },
     "execution_count": 75,
     "metadata": {},
     "output_type": "execute_result"
    }
   ],
   "source": [
    "A=df['purchased'][df['purchased']==0].count()\n",
    "B=df['purchased'][df['purchased']==1].count()\n",
    "A,B"
   ]
  },
  {
   "cell_type": "code",
   "execution_count": 7,
   "id": "efac24ed",
   "metadata": {},
   "outputs": [
    {
     "data": {
      "image/png": "[encoded data removed]",
      "text/plain": [
       "<Figure size 432x288 with 1 Axes>"
      ]
     },
     "metadata": {
      "needs_background": "light"
     },
     "output_type": "display_data"
    },
    {
     "name": "stdout",
     "output_type": "stream",
     "text": [
      "Mean: 0.11965919355605512\n",
      "Std: 0.32456313511492474\n"
     ]
    }
   ],
   "source": [
    "purchased = df['purchased']\n",
    "purchased.plot.hist(title='Purchased Distribution', color='lightblue', bins=10)  \n",
    "plt.axvline(purchased.mean(), color='magenta', linestyle='dashed', linewidth=2)\n",
    "plt.axvline(purchased.median(), color='green', linestyle='dashed', linewidth=2)\n",
    "plt.show()\n",
    "print ('Mean: ' + str(purchased.mean()))\n",
    "print ('Std: ' + str(purchased.std()))"
   ]
  },
  {
   "cell_type": "markdown",
   "id": "51ee69fd",
   "metadata": {},
   "source": [
    "Terlihat dari histogram diatas, data cenderung berpusat di Purchased=0, dan menghasilkan distribusi *Right skewed*, dikarenakan mean yang berada di sebelah kanan median dan jika seolah-olah digambarkan dengan kurva akan menghasilkan kurva asimetrik yang berakhir di sebelah kanan."
   ]
  },
  {
   "cell_type": "code",
   "execution_count": 8,
   "id": "8fe9b7c9",
   "metadata": {},
   "outputs": [
    {
     "name": "stdout",
     "output_type": "stream",
     "text": [
      "Purchased skewness: 2.3437251398234857\n",
      "Purchased kurtosis: 3.493071254812598\n"
     ]
    }
   ],
   "source": [
    "#menentukan kurtosis dan skeweness\n",
    "pur_s = df['purchased'].skew()\n",
    "pur_k = df['purchased'].kurt()\n",
    "print('Purchased skewness:', pur_s)\n",
    "print('Purchased kurtosis:', pur_k)"
   ]
  },
  {
   "cell_type": "markdown",
   "id": "41b079fa",
   "metadata": {},
   "source": [
    "Terbukti dari nilai skewness dan kurtosis bahwa distribusi purchased adalah *right skewed* dengan puncak data(kurtosis) yang cukup tinggi."
   ]
  },
  {
   "cell_type": "markdown",
   "id": "86ca7dc4",
   "metadata": {},
   "source": [
    "## Soal 2\n",
    "*Buatlah analisa menggunakan konsep hypothesis testing dan A/B testing (Informasikan H0 dan H1 pada bagian Mathematical Calculation and Analysis)*"
   ]
  },
  {
   "cell_type": "markdown",
   "id": "285d2ba7",
   "metadata": {},
   "source": [
    "Mengubah tampilan landing page bertujuan untuk meningkatkan pembelian dari user. Disini kita dapat menilai apakah *worth enough* untuk mengubah tampilan agar pembelian meningkat. Bagaimana cara untuk mengetahui bahwa hal tersebut akan berhasil? Dari sample yang telah didapatkan kita kemungkinan user untuk membeli antara 0 (tidak membeli) dan 1 (membeli) dengan 0,5 sebagai nilai netral. Jadi jika rata-rata yang didapat diatas 0 maka kemungkinan besar user akan membeli.\n",
    "\n",
    "- H0 = Rata-rata user melakukan pembelian diatas atau sama dengan 0,5\n",
    "- H1 = Rata-rata user melakukan pembelian dibawah 0,5"
   ]
  },
  {
   "cell_type": "code",
   "execution_count": 19,
   "id": "9421d3f7",
   "metadata": {},
   "outputs": [
    {
     "name": "stdout",
     "output_type": "stream",
     "text": [
      "t-statistic:200.0660092291571\n",
      "p-value:0.000000\n"
     ]
    },
    {
     "data": {
      "image/png": "[encoded data removed]",
      "text/plain": [
       "<Figure size 432x288 with 1 Axes>"
      ]
     },
     "metadata": {
      "needs_background": "light"
     },
     "output_type": "display_data"
    }
   ],
   "source": [
    "# T-Test\n",
    "t,p = stats.ttest_1samp(purchased, 0)\n",
    "# ttest_1samp is 2-tailed, so half the resulting p-value to get a 1-tailed p-value\n",
    "p1 = '%f' % (p/2)\n",
    "print (\"t-statistic:\" + str(t))\n",
    "print(\"p-value:\" + str(p1))\n",
    "\n",
    "# calculate a 90% confidence interval. 10% of the probability is outside this, 5% in each tail\n",
    "ci = stats.norm.interval(0.90, 0, 1.15)\n",
    "plt.hist(purchased, bins=1)\n",
    "# show the hypothesized population mean\n",
    "plt.axvline(purchased.mean(), color='skyblue', linestyle='dashed', linewidth=2)\n",
    "# show the right-tail confidence interval threshold - 5% of propbability is under the curve to the right of this.\n",
    "plt.axvline(ci[1], color='red', linestyle='dashed', linewidth=2)\n",
    "# show the t-statistic - the p-value is the area under the curve to the right of this\n",
    "plt.axvline(purchased.mean() + t*purchased.std(), color='magenta', linestyle='dashed', linewidth=2)\n",
    "plt.show()"
   ]
  },
  {
   "cell_type": "markdown",
   "id": "91ca058c",
   "metadata": {},
   "source": [
    "Pada plot diatas, didapatkan p-value yang lebih rendah dari critical value 0,05(5%). Dengan ini berarti kita dapat me-reject H0(null hypothesis) dan mengambil H1. Terbukti bahwa rata-rata user tidak membeli(0) terlepas page tersebut baru atau tidak."
   ]
  },
  {
   "cell_type": "markdown",
   "id": "22df0bc9",
   "metadata": {},
   "source": [
    "### A/B Testing\n",
    "Kita akan melakukan permutation test terlebih dahulu. Dengan asumsi ada 1000 visitor ke web dan mengarahkan 500 ke original page dan sisanya ke page baru. Untuk setiap page, kita memiliki array yang berisi nilai 1 atau 0 untuk apakah pengunjung membeli atau tidak."
   ]
  },
  {
   "cell_type": "code",
   "execution_count": 4,
   "id": "9a980e20",
   "metadata": {},
   "outputs": [],
   "source": [
    "userA = []\n",
    "for i in range(0, 500):\n",
    "    # any random float between 0 to 1\n",
    "    x = round(random.uniform(0, 1), 2)\n",
    "    userA.append(x)"
   ]
  },
  {
   "cell_type": "code",
   "execution_count": 5,
   "id": "2106e706",
   "metadata": {},
   "outputs": [],
   "source": [
    "userB = []\n",
    "for i in range(0, 500):\n",
    "    # any random float between 0 to 1\n",
    "    x = round(random.uniform(0, 1), 2)\n",
    "    userB.append(x)"
   ]
  },
  {
   "cell_type": "code",
   "execution_count": 6,
   "id": "e88ce890",
   "metadata": {
    "scrolled": true
   },
   "outputs": [
    {
     "data": {
      "text/plain": [
       "(array([0.23, 0.58, 0.3 , 0.58, 0.42, 0.15, 0.13, 0.  , 0.68, 0.88, 0.98,\n",
       "        0.28, 0.29, 0.78, 0.34, 0.98, 0.17, 0.66, 0.3 , 0.41, 0.06, 0.86,\n",
       "        0.53, 0.8 , 0.34, 0.86, 0.69, 0.51, 0.66, 0.87, 0.75, 0.51, 0.61,\n",
       "        0.66, 0.73, 0.71, 0.23, 0.52, 0.87, 0.27, 0.59, 0.05, 0.08, 0.69,\n",
       "        0.61, 0.31, 0.53, 0.74, 0.09, 0.68, 0.25, 0.45, 0.33, 0.93, 0.41,\n",
       "        0.47, 0.11, 0.57, 0.48, 0.76, 0.3 , 0.18, 0.45, 0.92, 0.39, 0.74,\n",
       "        0.  , 0.72, 0.66, 0.57, 0.84, 0.67, 0.2 , 0.2 , 0.4 , 0.09, 0.8 ,\n",
       "        0.63, 0.62, 0.9 , 0.62, 0.23, 0.76, 0.4 , 0.04, 0.59, 0.14, 0.62,\n",
       "        0.08, 0.79, 0.67, 0.4 , 0.61, 0.44, 0.52, 0.57, 0.39, 0.01, 0.36,\n",
       "        0.7 , 0.16, 0.48, 0.97, 0.28, 0.8 , 0.61, 0.07, 0.4 , 0.55, 0.96,\n",
       "        0.53, 0.47, 0.31, 0.07, 0.32, 0.69, 0.51, 0.85, 0.19, 0.22, 0.94,\n",
       "        0.55, 0.24, 0.84, 0.04, 0.34, 0.45, 0.37, 0.24, 0.57, 0.21, 0.05,\n",
       "        0.87, 0.65, 0.16, 0.87, 0.77, 0.47, 0.45, 0.59, 0.81, 0.58, 0.37,\n",
       "        1.  , 0.11, 0.15, 0.07, 0.22, 0.28, 0.38, 0.19, 0.47, 0.84, 0.76,\n",
       "        0.  , 0.9 , 0.83, 0.04, 0.5 , 0.44, 0.17, 0.01, 0.45, 0.05, 0.51,\n",
       "        0.61, 0.3 , 0.69, 0.29, 0.25, 0.32, 0.11, 0.65, 0.99, 0.3 , 0.25,\n",
       "        0.77, 0.78, 0.86, 0.86, 0.51, 0.84, 0.08, 0.74, 0.19, 0.48, 0.38,\n",
       "        0.48, 0.99, 0.76, 0.02, 0.34, 0.17, 0.76, 0.76, 0.34, 0.48, 0.58,\n",
       "        0.43, 0.11, 0.28, 0.09, 0.88, 0.96, 0.22, 0.54, 0.64, 0.98, 0.76,\n",
       "        0.89, 0.56, 0.09, 0.31, 0.29, 0.11, 0.75, 0.88, 0.75, 0.9 , 0.65,\n",
       "        0.11, 0.9 , 0.89, 0.49, 0.24, 0.79, 0.64, 0.65, 0.95, 0.16, 0.19,\n",
       "        0.47, 0.21, 0.12, 0.99, 0.51, 0.9 , 0.33, 0.35, 0.25, 0.18, 0.48,\n",
       "        0.85, 0.57, 0.01, 0.49, 1.  , 0.27, 0.35, 0.18, 0.34, 0.77, 0.64,\n",
       "        0.49, 0.32, 0.07, 0.83, 0.18, 0.26, 0.87, 0.86, 0.24, 0.63, 0.06,\n",
       "        0.77, 0.63, 0.92, 0.56, 0.71, 0.14, 0.56, 0.46, 0.72, 0.91, 0.11,\n",
       "        0.6 , 0.48, 0.52, 0.32, 0.29, 0.99, 0.47, 0.07, 0.34, 0.68, 0.26,\n",
       "        0.67, 0.31, 0.81, 0.09, 0.22, 0.15, 0.42, 0.94, 0.21, 0.92, 0.99,\n",
       "        0.19, 0.74, 0.89, 0.83, 0.36, 0.34, 0.14, 0.46, 0.94, 0.26, 0.12,\n",
       "        0.36, 0.76, 0.58, 0.15, 0.09, 0.4 , 0.06, 0.3 , 0.19, 0.78, 0.11,\n",
       "        0.55, 0.51, 0.72, 0.62, 0.62, 0.93, 0.63, 0.93, 0.19, 0.19, 0.71,\n",
       "        0.6 , 0.16, 0.88, 0.78, 0.93, 0.53, 0.13, 0.16, 0.19, 0.94, 0.38,\n",
       "        0.05, 0.58, 0.98, 0.74, 0.33, 0.06, 0.29, 0.77, 0.8 , 0.59, 0.11,\n",
       "        0.49, 0.8 , 0.59, 0.84, 0.35, 0.04, 0.87, 0.57, 0.53, 0.95, 0.05,\n",
       "        0.43, 0.98, 0.49, 0.44, 0.75, 0.14, 0.92, 0.25, 0.84, 0.59, 0.03,\n",
       "        0.47, 0.18, 0.75, 1.  , 0.34, 0.28, 0.83, 0.12, 0.62, 0.08, 0.96,\n",
       "        0.36, 0.15, 0.04, 0.8 , 0.75, 0.95, 0.35, 0.22, 0.22, 0.03, 0.28,\n",
       "        0.09, 0.86, 0.54, 0.51, 0.59, 0.28, 0.33, 0.23, 0.67, 0.48, 0.17,\n",
       "        0.07, 0.5 , 0.01, 0.97, 0.9 , 0.16, 0.72, 0.29, 0.57, 0.21, 0.47,\n",
       "        0.01, 0.81, 0.84, 0.49, 0.55, 0.31, 0.76, 0.42, 0.79, 0.36, 0.07,\n",
       "        0.66, 0.38, 0.8 , 0.6 , 0.07, 0.9 , 0.94, 0.12, 0.89, 0.85, 0.65,\n",
       "        0.76, 0.4 , 0.79, 0.69, 0.83, 0.94, 0.84, 0.39, 0.34, 0.63, 0.28,\n",
       "        0.63, 0.76, 0.99, 0.16, 0.25, 0.12, 0.53, 0.69, 0.3 , 0.98, 0.85,\n",
       "        0.67, 0.12, 0.77, 0.44, 0.59, 0.14, 0.38, 0.06, 0.47, 0.66, 0.09,\n",
       "        0.3 , 0.96, 0.79, 0.03, 0.57, 0.43, 0.99, 0.84, 0.41, 0.82, 0.4 ,\n",
       "        0.07, 0.15, 0.55, 0.1 , 0.92, 0.41, 0.65, 0.35, 0.89, 0.62, 0.67,\n",
       "        0.71, 0.98, 0.49, 0.56, 0.91]),\n",
       " array([0.26, 0.72, 0.  , 0.43, 0.48, 0.3 , 0.75, 0.25, 0.73, 0.17, 0.17,\n",
       "        0.95, 0.53, 0.66, 0.67, 0.77, 0.57, 0.64, 0.21, 0.35, 0.99, 0.73,\n",
       "        0.38, 0.85, 0.17, 0.01, 0.61, 0.02, 0.79, 0.77, 0.99, 0.04, 0.26,\n",
       "        0.7 , 0.9 , 0.95, 0.68, 0.67, 0.03, 0.48, 0.55, 0.01, 0.22, 0.9 ,\n",
       "        0.37, 0.94, 0.44, 0.46, 0.74, 0.42, 0.36, 0.91, 0.66, 0.88, 0.49,\n",
       "        0.1 , 0.62, 0.34, 0.63, 0.42, 0.69, 0.58, 0.13, 0.52, 0.55, 0.87,\n",
       "        0.05, 0.72, 0.25, 0.01, 0.63, 0.18, 0.64, 0.74, 0.72, 0.85, 0.96,\n",
       "        0.77, 0.12, 0.4 , 0.09, 0.84, 0.99, 0.34, 0.09, 0.78, 0.7 , 0.97,\n",
       "        0.53, 0.11, 0.18, 0.44, 0.97, 0.44, 0.11, 0.82, 0.81, 0.71, 0.87,\n",
       "        0.06, 0.76, 0.16, 0.86, 0.52, 0.93, 0.09, 0.21, 0.08, 0.23, 0.5 ,\n",
       "        0.07, 0.27, 0.98, 0.39, 0.61, 0.55, 0.67, 0.92, 0.27, 0.18, 0.46,\n",
       "        0.86, 0.28, 0.46, 0.39, 0.17, 0.02, 0.57, 0.9 , 0.03, 0.06, 0.02,\n",
       "        0.48, 0.45, 0.45, 0.71, 0.15, 0.69, 0.02, 0.74, 0.88, 0.84, 0.69,\n",
       "        0.62, 0.33, 0.65, 0.13, 0.89, 0.19, 0.18, 0.86, 0.53, 0.16, 0.73,\n",
       "        0.14, 0.19, 0.07, 0.43, 0.96, 0.65, 0.64, 0.7 , 0.08, 0.3 , 0.09,\n",
       "        0.69, 0.13, 0.87, 0.03, 0.94, 0.37, 0.91, 0.05, 0.15, 1.  , 0.23,\n",
       "        0.63, 0.66, 0.69, 0.05, 0.61, 0.95, 0.57, 0.74, 0.34, 0.87, 0.36,\n",
       "        0.33, 0.2 , 0.16, 0.33, 0.62, 0.85, 0.81, 0.66, 0.  , 0.65, 0.42,\n",
       "        0.1 , 0.39, 0.13, 0.07, 0.98, 0.69, 0.24, 0.93, 0.  , 0.74, 0.74,\n",
       "        0.77, 0.76, 0.9 , 0.01, 0.81, 0.56, 0.16, 0.04, 0.5 , 0.73, 0.8 ,\n",
       "        0.39, 0.09, 0.01, 0.51, 0.22, 1.  , 0.42, 0.81, 0.37, 0.24, 0.64,\n",
       "        0.42, 0.1 , 0.47, 0.24, 0.33, 0.2 , 0.72, 0.85, 0.7 , 0.39, 0.75,\n",
       "        0.06, 0.85, 0.07, 0.25, 0.98, 0.22, 0.75, 0.85, 0.03, 0.6 , 0.01,\n",
       "        0.34, 0.03, 0.24, 0.08, 0.7 , 0.24, 0.77, 0.08, 0.98, 0.08, 0.98,\n",
       "        0.76, 0.73, 0.24, 0.38, 0.93, 0.43, 0.49, 0.35, 0.47, 0.37, 0.36,\n",
       "        0.44, 0.47, 0.23, 0.9 , 0.47, 0.41, 0.39, 0.19, 0.54, 0.74, 0.41,\n",
       "        0.85, 0.14, 0.48, 0.15, 0.13, 0.69, 0.42, 0.57, 0.32, 0.72, 0.51,\n",
       "        0.17, 0.17, 0.58, 0.25, 0.15, 0.97, 0.3 , 0.74, 1.  , 0.95, 0.7 ,\n",
       "        0.48, 0.98, 0.63, 0.29, 0.97, 0.97, 0.71, 0.48, 0.41, 0.84, 0.05,\n",
       "        0.99, 0.01, 0.34, 0.62, 0.25, 0.16, 0.86, 0.37, 0.43, 0.21, 0.4 ,\n",
       "        0.69, 0.84, 0.49, 0.52, 0.64, 0.17, 0.19, 0.67, 0.32, 0.58, 0.53,\n",
       "        0.7 , 0.97, 0.61, 0.05, 0.25, 0.48, 0.66, 0.08, 0.55, 0.63, 0.55,\n",
       "        0.77, 0.91, 0.25, 0.73, 0.41, 0.61, 0.33, 0.15, 0.73, 0.2 , 0.6 ,\n",
       "        0.94, 0.83, 0.13, 0.28, 0.91, 0.4 , 0.82, 0.68, 0.19, 0.24, 0.3 ,\n",
       "        0.46, 0.69, 0.96, 0.2 , 0.29, 0.41, 0.04, 0.15, 0.42, 0.09, 0.1 ,\n",
       "        0.21, 0.88, 0.09, 0.19, 0.57, 0.3 , 0.91, 0.73, 0.45, 0.94, 0.73,\n",
       "        0.14, 0.81, 0.94, 0.83, 0.34, 0.51, 0.35, 0.46, 0.31, 0.68, 0.69,\n",
       "        0.18, 0.21, 0.22, 0.77, 0.46, 0.82, 0.36, 0.68, 0.6 , 0.48, 0.03,\n",
       "        0.45, 0.38, 0.95, 0.51, 0.99, 0.25, 0.64, 0.78, 0.4 , 0.77, 0.69,\n",
       "        0.94, 0.85, 0.85, 0.42, 0.2 , 0.25, 0.65, 0.81, 0.47, 0.71, 0.35,\n",
       "        0.07, 0.19, 0.52, 0.72, 0.01, 1.  , 0.78, 0.51, 0.81, 0.02, 0.91,\n",
       "        0.44, 0.74, 0.26, 0.81, 0.5 , 0.84, 0.98, 0.66, 0.56, 0.53, 0.31,\n",
       "        0.27, 0.63, 0.45, 0.25, 0.33, 0.14, 0.74, 0.79, 0.87, 0.55, 0.92,\n",
       "        0.13, 0.43, 0.96, 0.2 , 0.07, 0.85, 0.47, 0.9 , 0.6 , 0.27, 0.21,\n",
       "        0.88, 0.2 , 0.72, 0.67, 0.24, 0.78, 0.71, 0.14, 0.15, 0.88, 0.55,\n",
       "        0.23, 0.59, 0.62, 0.12, 0.88]))"
      ]
     },
     "execution_count": 6,
     "metadata": {},
     "output_type": "execute_result"
    }
   ],
   "source": [
    "def permutation_sample(data1, data2):\n",
    "    \"\"\"Generate a permutation sample from two data sets.\"\"\"\n",
    "\n",
    "    # Concatenate the data sets: data\n",
    "    data = np.concatenate([data1,data2])\n",
    "\n",
    "    # Permute the concatenated array: permuted_data\n",
    "    permuted_data = np.random.permutation(data)\n",
    "\n",
    "    # Split the permuted array into two: perm_sample_1, perm_sample_2\n",
    "    perm_sample_1 = permuted_data[:len(data1)]\n",
    "    perm_sample_2 = permuted_data[len(data1):]\n",
    "\n",
    "    return perm_sample_1, perm_sample_2\n",
    "\n",
    "permutation_sample(userA,userB)"
   ]
  },
  {
   "cell_type": "code",
   "execution_count": 63,
   "id": "b7cbee18",
   "metadata": {},
   "outputs": [
    {
     "name": "stdout",
     "output_type": "stream",
     "text": [
      "The p-value is 0.019600\n"
     ]
    }
   ],
   "source": [
    "#Generate numpy array of A and B clicks through\n",
    "clickthrough_A=np.concatenate((np.full(45,1,dtype=int),np.full(500-45,0,dtype=int)),axis=0)\n",
    "clickthrough_B=np.concatenate((np.full(67,1,dtype=int),np.full(500-67,0,dtype=int)),axis=0)\n",
    "np.random.shuffle(clickthrough_A)\n",
    "np.random.shuffle(clickthrough_B)\n",
    "\n",
    "#The Null-hypothesis\n",
    "def diff_frac(data_A, data_B):\n",
    "    frac_A = np.sum(data_A) / len(data_A)\n",
    "    frac_B = np.sum(data_B) / len(data_B)\n",
    "    return frac_B - frac_A\n",
    "\n",
    "def draw_perm_reps(data_1, data_2, func, size=1):\n",
    "    \"\"\"Generate multiple permutation replicates.\"\"\"\n",
    "\n",
    "    # Initialize array of replicates: perm_replicates\n",
    "    perm_replicates = np.empty(size)\n",
    "\n",
    "    for i in range(size):\n",
    "        # Generate permutation sample\n",
    "        perm_sample_1, perm_sample_2 = permutation_sample(data_1,data_2)\n",
    "\n",
    "        # Compute the test statistic\n",
    "        perm_replicates[i] = func(perm_sample_1,perm_sample_2)\n",
    "\n",
    "    return perm_replicates\n",
    "\n",
    "# Compute difference of mean impact force from experiment\n",
    "diff_frac_obs = diff_frac(clickthrough_A,clickthrough_B)\n",
    "\n",
    "# Draw 10,000 permutation replicates\n",
    "perm_replicates = draw_perm_reps(clickthrough_A, clickthrough_B,diff_frac, size=10000)\n",
    "    \n",
    "p_value = np.sum(perm_replicates >= diff_frac_obs) / 10000\n",
    "print('The p-value is %f' % p_value)"
   ]
  },
  {
   "cell_type": "code",
   "execution_count": 8,
   "id": "89481a93",
   "metadata": {},
   "outputs": [
    {
     "name": "stdout",
     "output_type": "stream",
     "text": [
      "The p-value is 1.000000\n"
     ]
    }
   ],
   "source": [
    "#Generate numpy array of A and B clicks through\n",
    "clickthrough_A=np.concatenate((np.full(259241,1,dtype=int),np.full(294478-259241,0,dtype=int)),axis=0)\n",
    "clickthrough_B=np.concatenate((np.full(35237,1,dtype=int),np.full(294478-35237,0,dtype=int)),axis=0)\n",
    "np.random.shuffle(clickthrough_A)\n",
    "np.random.shuffle(clickthrough_B)\n",
    "\n",
    "#The Null-hypothesis\n",
    "def diff_frac(data_A, data_B):\n",
    "    frac_A = np.sum(data_A) / len(data_A)\n",
    "    frac_B = np.sum(data_B) / len(data_B)\n",
    "    return frac_B - frac_A\n",
    "\n",
    "def draw_perm_reps(data_1, data_2, func, size=1):\n",
    "    \"\"\"Generate multiple permutation replicates.\"\"\"\n",
    "\n",
    "    # Initialize array of replicates: perm_replicates\n",
    "    perm_replicates = np.empty(size)\n",
    "\n",
    "    for i in range(size):\n",
    "        # Generate permutation sample\n",
    "        perm_sample_1, perm_sample_2 = permutation_sample(data_1,data_2)\n",
    "\n",
    "        # Compute the test statistic\n",
    "        perm_replicates[i] = func(perm_sample_1,perm_sample_2)\n",
    "\n",
    "    return perm_replicates\n",
    "\n",
    "# Compute difference of mean impact force from experiment\n",
    "diff_frac_obs = diff_frac(clickthrough_A,clickthrough_B)\n",
    "\n",
    "# Draw 10,000 permutation replicates\n",
    "perm_replicates = draw_perm_reps(clickthrough_A, clickthrough_B,diff_frac, size=10000)\n",
    "    \n",
    "p_value = np.sum(perm_replicates >= diff_frac_obs) / 10000\n",
    "print('The p-value is %f' % p_value)"
   ]
  },
  {
   "cell_type": "markdown",
   "id": "1e3d6d30",
   "metadata": {},
   "source": [
    "## Kesimpulan\n",
    "\n",
    "\n",
    "Dari A/B testing hasil yang diperoleh adalah p-value=0.018400 hasil yang relatif kecil, jadi mungkin dapat kita simpulkan bahwa desain ulang page adalah sebuah peningkatan dan bisa disebut statistikal significant. Namun statistikal signifikan bukan berarti praktikal signifikan, terlihat dari T-test sebelumnya bahwa sebagian besar user tidak melakukan pembelian baik di page lama mauupun baru, sehingga pembaruan page dirasa belum perlu dilakukan. Namun apabila ada keputusan atau variabel lain terkait hal ini, perlu dilakukan pertimbangan lebih lanjut dengan tim-tim terkait."
   ]
  }
 ],
 "metadata": {
  "kernelspec": {
   "display_name": "Python 3",
   "language": "python",
   "name": "python3"
  },
  "language_info": {
   "codemirror_mode": {
    "name": "ipython",
    "version": 3
   },
   "file_extension": ".py",
   "mimetype": "text/x-python",
   "name": "python",
   "nbconvert_exporter": "python",
   "pygments_lexer": "ipython3",
   "version": "3.8.8"
  }
 },
 "nbformat": 4,
 "nbformat_minor": 5
}
