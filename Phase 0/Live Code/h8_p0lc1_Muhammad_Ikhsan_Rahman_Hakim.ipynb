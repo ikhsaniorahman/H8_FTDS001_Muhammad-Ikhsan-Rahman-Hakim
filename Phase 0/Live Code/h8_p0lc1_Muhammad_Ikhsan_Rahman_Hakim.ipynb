{
 "cells": [
  {
   "cell_type": "markdown",
   "metadata": {
    "id": "_wjvgmyKl16M"
   },
   "source": [
    "## Muhammad Ikhsan Rahman Hakim || Batch 001 FTDS"
   ]
  },
  {
   "cell_type": "markdown",
   "metadata": {},
   "source": [
    "**ps: catatan tambahan**"
   ]
  },
  {
   "cell_type": "markdown",
   "metadata": {
    "id": "ZVjhP7Cp2gjx"
   },
   "source": [
    "Import library"
   ]
  },
  {
   "cell_type": "code",
   "execution_count": 4,
   "metadata": {
    "id": "U2SX7cklkGxc"
   },
   "outputs": [],
   "source": [
    "import pandas as pd\n",
    "import numpy as np\n"
   ]
  },
  {
   "cell_type": "code",
   "execution_count": 5,
   "metadata": {
    "id": "gTZKPXyfkQ4X"
   },
   "outputs": [],
   "source": [
    "df=pd.read_excel(r\"C:\\Users\\mistersunday\\Documents\\Hacktiv8\\Live Code\\NMC1-9.xlsx\")"
   ]
  },
  {
   "cell_type": "markdown",
   "metadata": {},
   "source": [
    "*Selalu usahakan liat data loading dulu. Dengan .info() dan .describe()*"
   ]
  },
  {
   "cell_type": "code",
   "execution_count": 6,
   "metadata": {},
   "outputs": [
    {
     "name": "stdout",
     "output_type": "stream",
     "text": [
      "<class 'pandas.core.frame.DataFrame'>\n",
      "RangeIndex: 90982 entries, 0 to 90981\n",
      "Data columns (total 5 columns):\n",
      " #   Column       Non-Null Count  Dtype  \n",
      "---  ------       --------------  -----  \n",
      " 0   time(s)      90982 non-null  int64  \n",
      " 1   V_m          90982 non-null  float64\n",
      " 2   Current (A)  90982 non-null  float64\n",
      " 3   Cycle        90982 non-null  int64  \n",
      " 4   Cap          90982 non-null  float64\n",
      "dtypes: float64(3), int64(2)\n",
      "memory usage: 3.5 MB\n"
     ]
    }
   ],
   "source": [
    "df.info()"
   ]
  },
  {
   "cell_type": "code",
   "execution_count": 8,
   "metadata": {},
   "outputs": [
    {
     "data": {
      "text/html": [
       "<div>\n",
       "<style scoped>\n",
       "    .dataframe tbody tr th:only-of-type {\n",
       "        vertical-align: middle;\n",
       "    }\n",
       "\n",
       "    .dataframe tbody tr th {\n",
       "        vertical-align: top;\n",
       "    }\n",
       "\n",
       "    .dataframe thead th {\n",
       "        text-align: right;\n",
       "    }\n",
       "</style>\n",
       "<table border=\"1\" class=\"dataframe\">\n",
       "  <thead>\n",
       "    <tr style=\"text-align: right;\">\n",
       "      <th></th>\n",
       "      <th>count</th>\n",
       "      <th>mean</th>\n",
       "      <th>std</th>\n",
       "      <th>min</th>\n",
       "      <th>25%</th>\n",
       "      <th>50%</th>\n",
       "      <th>75%</th>\n",
       "      <th>max</th>\n",
       "    </tr>\n",
       "  </thead>\n",
       "  <tbody>\n",
       "    <tr>\n",
       "      <th>time(s)</th>\n",
       "      <td>90982.0</td>\n",
       "      <td>45490.500000</td>\n",
       "      <td>26264.385433</td>\n",
       "      <td>0.00000</td>\n",
       "      <td>22745.25000</td>\n",
       "      <td>45490.500000</td>\n",
       "      <td>68235.75000</td>\n",
       "      <td>90981.000000</td>\n",
       "    </tr>\n",
       "    <tr>\n",
       "      <th>V_m</th>\n",
       "      <td>90982.0</td>\n",
       "      <td>3.607666</td>\n",
       "      <td>0.322777</td>\n",
       "      <td>2.49700</td>\n",
       "      <td>3.42200</td>\n",
       "      <td>3.636000</td>\n",
       "      <td>3.86800</td>\n",
       "      <td>4.114000</td>\n",
       "    </tr>\n",
       "    <tr>\n",
       "      <th>Current (A)</th>\n",
       "      <td>90982.0</td>\n",
       "      <td>0.999264</td>\n",
       "      <td>0.001997</td>\n",
       "      <td>0.99300</td>\n",
       "      <td>0.99700</td>\n",
       "      <td>0.999000</td>\n",
       "      <td>1.00100</td>\n",
       "      <td>1.003000</td>\n",
       "    </tr>\n",
       "    <tr>\n",
       "      <th>Cycle</th>\n",
       "      <td>90982.0</td>\n",
       "      <td>4.978699</td>\n",
       "      <td>2.582135</td>\n",
       "      <td>1.00000</td>\n",
       "      <td>3.00000</td>\n",
       "      <td>5.000000</td>\n",
       "      <td>7.00000</td>\n",
       "      <td>9.000000</td>\n",
       "    </tr>\n",
       "    <tr>\n",
       "      <th>Cap</th>\n",
       "      <td>90982.0</td>\n",
       "      <td>2.806214</td>\n",
       "      <td>0.023283</td>\n",
       "      <td>2.77018</td>\n",
       "      <td>2.78686</td>\n",
       "      <td>2.804878</td>\n",
       "      <td>2.82352</td>\n",
       "      <td>2.840817</td>\n",
       "    </tr>\n",
       "  </tbody>\n",
       "</table>\n",
       "</div>"
      ],
      "text/plain": [
       "               count          mean           std      min          25%  \\\n",
       "time(s)      90982.0  45490.500000  26264.385433  0.00000  22745.25000   \n",
       "V_m          90982.0      3.607666      0.322777  2.49700      3.42200   \n",
       "Current (A)  90982.0      0.999264      0.001997  0.99300      0.99700   \n",
       "Cycle        90982.0      4.978699      2.582135  1.00000      3.00000   \n",
       "Cap          90982.0      2.806214      0.023283  2.77018      2.78686   \n",
       "\n",
       "                      50%          75%           max  \n",
       "time(s)      45490.500000  68235.75000  90981.000000  \n",
       "V_m              3.636000      3.86800      4.114000  \n",
       "Current (A)      0.999000      1.00100      1.003000  \n",
       "Cycle            5.000000      7.00000      9.000000  \n",
       "Cap              2.804878      2.82352      2.840817  "
      ]
     },
     "execution_count": 8,
     "metadata": {},
     "output_type": "execute_result"
    }
   ],
   "source": [
    "df.describe().T"
   ]
  },
  {
   "cell_type": "markdown",
   "metadata": {
    "id": "RcjFs7Rundhi"
   },
   "source": [
    "Melihat 5 baris awalan dari tabel"
   ]
  },
  {
   "cell_type": "code",
   "execution_count": 10,
   "metadata": {
    "colab": {
     "base_uri": "https://localhost:8080/",
     "height": 204
    },
    "id": "oBVoodpTkbgO",
    "outputId": "0ec4302a-9cce-4e3e-8f57-f272c7e34d4e"
   },
   "outputs": [
    {
     "data": {
      "text/html": [
       "<div>\n",
       "<style scoped>\n",
       "    .dataframe tbody tr th:only-of-type {\n",
       "        vertical-align: middle;\n",
       "    }\n",
       "\n",
       "    .dataframe tbody tr th {\n",
       "        vertical-align: top;\n",
       "    }\n",
       "\n",
       "    .dataframe thead th {\n",
       "        text-align: right;\n",
       "    }\n",
       "</style>\n",
       "<table border=\"1\" class=\"dataframe\">\n",
       "  <thead>\n",
       "    <tr style=\"text-align: right;\">\n",
       "      <th></th>\n",
       "      <th>time(s)</th>\n",
       "      <th>V_m</th>\n",
       "      <th>Current (A)</th>\n",
       "      <th>Cycle</th>\n",
       "      <th>Cap</th>\n",
       "    </tr>\n",
       "  </thead>\n",
       "  <tbody>\n",
       "    <tr>\n",
       "      <th>0</th>\n",
       "      <td>0</td>\n",
       "      <td>4.098</td>\n",
       "      <td>0.997</td>\n",
       "      <td>1</td>\n",
       "      <td>2.840817</td>\n",
       "    </tr>\n",
       "    <tr>\n",
       "      <th>1</th>\n",
       "      <td>1</td>\n",
       "      <td>4.096</td>\n",
       "      <td>0.998</td>\n",
       "      <td>1</td>\n",
       "      <td>2.840817</td>\n",
       "    </tr>\n",
       "    <tr>\n",
       "      <th>2</th>\n",
       "      <td>2</td>\n",
       "      <td>4.094</td>\n",
       "      <td>0.999</td>\n",
       "      <td>1</td>\n",
       "      <td>2.840817</td>\n",
       "    </tr>\n",
       "    <tr>\n",
       "      <th>3</th>\n",
       "      <td>3</td>\n",
       "      <td>4.093</td>\n",
       "      <td>0.998</td>\n",
       "      <td>1</td>\n",
       "      <td>2.840817</td>\n",
       "    </tr>\n",
       "    <tr>\n",
       "      <th>4</th>\n",
       "      <td>4</td>\n",
       "      <td>4.092</td>\n",
       "      <td>0.999</td>\n",
       "      <td>1</td>\n",
       "      <td>2.840817</td>\n",
       "    </tr>\n",
       "  </tbody>\n",
       "</table>\n",
       "</div>"
      ],
      "text/plain": [
       "   time(s)    V_m  Current (A)  Cycle       Cap\n",
       "0        0  4.098        0.997      1  2.840817\n",
       "1        1  4.096        0.998      1  2.840817\n",
       "2        2  4.094        0.999      1  2.840817\n",
       "3        3  4.093        0.998      1  2.840817\n",
       "4        4  4.092        0.999      1  2.840817"
      ]
     },
     "execution_count": 10,
     "metadata": {},
     "output_type": "execute_result"
    }
   ],
   "source": [
    "df.head()"
   ]
  },
  {
   "cell_type": "markdown",
   "metadata": {
    "id": "uhm8SRbEllPt"
   },
   "source": [
    "### Keterangan Tabel\n",
    "- time(s): Detik ke- pengukuran\n",
    "- V_m: Voltage/tegangan yang terukur tiap waktu\n",
    "- Current (A): Kuat arus terukur tiap waktu\n",
    "- Cycle: Nomor siklus charge-discharge baterai\n",
    "- Cap: Kapasitas baterai tiap waktu\n"
   ]
  },
  {
   "cell_type": "markdown",
   "metadata": {
    "id": "DcKQX08hksmO"
   },
   "source": [
    "### Soal\n",
    "Hitung hambatan baterai tiap waktunya untuk cycle ganjil dan daya baterai tiap waktunya untuk cycle genap dari dataset dengan ketentuan sebagai berikut:\n",
    "\n",
    "1. Gunakan function untuk menghitung hambatan dan daya\n",
    "2. Harus menerapkan konsep looping, conditional if, dan pandas query"
   ]
  },
  {
   "cell_type": "markdown",
   "metadata": {
    "id": "qb3faUPE2VnJ"
   },
   "source": [
    "Mendefinisikan fungsi untuk masing-masing rumus"
   ]
  },
  {
   "cell_type": "code",
   "execution_count": 14,
   "metadata": {},
   "outputs": [
    {
     "data": {
      "text/plain": [
       "array([1, 2, 3, 4, 5, 6, 7, 8, 9], dtype=int64)"
      ]
     },
     "execution_count": 14,
     "metadata": {},
     "output_type": "execute_result"
    }
   ],
   "source": [
    "df['Cycle'].unique()"
   ]
  },
  {
   "cell_type": "code",
   "execution_count": 26,
   "metadata": {},
   "outputs": [],
   "source": [
    "def hambatan(V,I):\n",
    "  \"Rumus menghitung kapasitas baterai dalam satuan Ohm, R=V/I\"\n",
    "  return V/I\n",
    "\n",
    "def daya(V,I):\n",
    "  \"Rumus menghitung daya, P=V*I\"\n",
    "  return V*I"
   ]
  },
  {
   "cell_type": "markdown",
   "metadata": {
    "id": "teR-7RPNsVwK"
   },
   "source": [
    "### Menghitung Hambatan dan daya dari tiap baterai"
   ]
  },
  {
   "cell_type": "code",
   "execution_count": null,
   "metadata": {
    "colab": {
     "base_uri": "https://localhost:8080/"
    },
    "id": "9wphK6YMvJ4c",
    "outputId": "a98d7b28-feab-41d6-cdce-bdca76e5596e"
   },
   "outputs": [
    {
     "name": "stdout",
     "output_type": "stream",
     "text": [
      "       time(s)    V_m  Current (A)  Cycle       Cap  Hambatan      Daya\n",
      "0            0  4.098        0.997      1  2.840817  4.110331  4.085706\n",
      "1            1  4.096        0.998      1  2.840817  4.104208  4.087808\n",
      "2            2  4.094        0.999      1  2.840817  4.098098  4.089906\n",
      "3            3  4.093        0.998      1  2.840817  4.101202  4.084814\n",
      "4            4  4.092        0.999      1  2.840817  4.096096  4.087908\n",
      "...        ...    ...          ...    ...       ...       ...       ...\n",
      "90977    90977  2.506        1.002      9  2.770180  2.500998  2.511012\n",
      "90978    90978  2.504        1.002      9  2.770180  2.499002  2.509008\n",
      "90979    90979  2.502        1.002      9  2.770180  2.497006  2.507004\n",
      "90980    90980  2.500        1.002      9  2.770180  2.495010  2.505000\n",
      "90981    90981  2.497        1.002      9  2.770180  2.492016  2.501994\n",
      "\n",
      "[90982 rows x 7 columns]\n"
     ]
    }
   ],
   "source": [
    "df['Hambatan'] = df.apply(lambda x: hambatan(x['V_m'], x['Current (A)']), axis=1)\n",
    "df['Daya'] = df.apply(lambda x: daya(x['V_m'], x['Current (A)']), axis=1)\n",
    "print(df)"
   ]
  },
  {
   "cell_type": "markdown",
   "metadata": {
    "id": "kO0R8Fr-s96A"
   },
   "source": [
    "###Menghitung hambatan baterai tiap waktunya untuk cycle ganjil dan genap"
   ]
  },
  {
   "cell_type": "code",
   "execution_count": null,
   "metadata": {
    "id": "EcrGoHi847jg"
   },
   "outputs": [],
   "source": [
    "ganjil = df[['time(s)', 'V_m', 'Current (A)', 'Cycle', 'Cap', 'Hambatan']]\n",
    "genap = df[['time(s)', 'V_m', 'Current (A)', 'Cycle', 'Cap', 'Daya']]\n",
    "\n",
    "for i in df['Cycle']:\n",
    "  if (i%2==0):\n",
    "    print(genap)\n",
    "  else:\n",
    "    print(ganjil)"
   ]
  },
  {
   "cell_type": "markdown",
   "metadata": {},
   "source": [
    "# After"
   ]
  },
  {
   "cell_type": "code",
   "execution_count": 40,
   "metadata": {},
   "outputs": [],
   "source": [
    "resist = []\n",
    "power = []\n",
    "for cyc in df.Cycle.unique():\n",
    "    V = df['V_m'][df['Cycle']==cyc]\n",
    "    I = df['Current (A)'][df['Cycle']==cyc]\n",
    "    if cyc%2 !=0:\n",
    "        resist.append(hambatan(V,I))\n",
    "    else:\n",
    "        power.append(daya(V,I))"
   ]
  },
  {
   "cell_type": "code",
   "execution_count": 41,
   "metadata": {},
   "outputs": [
    {
     "data": {
      "text/plain": [
       "[0        4.110331\n",
       " 1        4.104208\n",
       " 2        4.098098\n",
       " 3        4.101202\n",
       " 4        4.096096\n",
       "            ...   \n",
       " 10232    2.513541\n",
       " 10233    2.511535\n",
       " 10234    2.509529\n",
       " 10235    2.510040\n",
       " 10236    2.505517\n",
       " Length: 10237, dtype: float64,\n",
       " 20443    4.123370\n",
       " 20444    4.118236\n",
       " 20445    4.116232\n",
       " 20446    4.119358\n",
       " 20447    4.114228\n",
       "            ...   \n",
       " 30613    2.504496\n",
       " 30614    2.500000\n",
       " 30615    2.498004\n",
       " 30616    2.498501\n",
       " 30617    2.501502\n",
       " Length: 10175, dtype: float64,\n",
       " 40776    4.124373\n",
       " 40777    4.114114\n",
       " 40778    4.117234\n",
       " 40779    4.112112\n",
       " 40780    4.107000\n",
       "            ...   \n",
       " 50878    2.514544\n",
       " 50879    2.510020\n",
       " 50880    2.510532\n",
       " 50881    2.506012\n",
       " 50882    2.504008\n",
       " Length: 10107, dtype: float64,\n",
       " 60933    4.130653\n",
       " 60934    4.129648\n",
       " 60935    4.119358\n",
       " 60936    4.118355\n",
       " 60937    4.113226\n",
       "            ...   \n",
       " 70969    2.501996\n",
       " 70970    2.501499\n",
       " 70971    2.502000\n",
       " 70972    2.502503\n",
       " 70973    2.503006\n",
       " Length: 10041, dtype: float64,\n",
       " 81002    4.115115\n",
       " 81003    4.110000\n",
       " 81004    4.109000\n",
       " 81005    4.102897\n",
       " 81006    4.101898\n",
       "            ...   \n",
       " 90977    2.500998\n",
       " 90978    2.499002\n",
       " 90979    2.497006\n",
       " 90980    2.495010\n",
       " 90981    2.492016\n",
       " Length: 9980, dtype: float64]"
      ]
     },
     "execution_count": 41,
     "metadata": {},
     "output_type": "execute_result"
    }
   ],
   "source": [
    "resist"
   ]
  },
  {
   "cell_type": "code",
   "execution_count": 42,
   "metadata": {},
   "outputs": [
    {
     "data": {
      "text/plain": [
       "[10237    4.082223\n",
       " 10238    4.089450\n",
       " 10239    4.099784\n",
       " 10240    4.102893\n",
       " 10241    4.111107\n",
       "            ...   \n",
       " 20438    2.509507\n",
       " 20439    2.510010\n",
       " 20440    2.505503\n",
       " 20441    2.503501\n",
       " 20442    2.499000\n",
       " Length: 10206, dtype: float64,\n",
       " 30618    4.101658\n",
       " 30619    4.087328\n",
       " 30620    4.086334\n",
       " 30621    4.097670\n",
       " 30622    4.113109\n",
       "            ...   \n",
       " 40771    2.502495\n",
       " 40772    2.505503\n",
       " 40773    2.503501\n",
       " 40774    2.505000\n",
       " 40775    2.502996\n",
       " Length: 10158, dtype: float64,\n",
       " 50883    4.097670\n",
       " 50884    4.099784\n",
       " 50885    4.094679\n",
       " 50886    4.092685\n",
       " 50887    4.087584\n",
       "            ...   \n",
       " 60928    2.513518\n",
       " 60929    2.509008\n",
       " 60930    2.504502\n",
       " 60931    2.497500\n",
       " 60932    2.492006\n",
       " Length: 10050, dtype: float64,\n",
       " 70974    4.097544\n",
       " 70975    4.091440\n",
       " 70976    4.085340\n",
       " 70977    4.092564\n",
       " 70978    4.103892\n",
       "            ...   \n",
       " 80997    2.508000\n",
       " 80998    2.502495\n",
       " 80999    2.500497\n",
       " 81000    2.498499\n",
       " 81001    2.499000\n",
       " Length: 10028, dtype: float64]"
      ]
     },
     "execution_count": 42,
     "metadata": {},
     "output_type": "execute_result"
    }
   ],
   "source": [
    "power"
   ]
  }
 ],
 "metadata": {
  "colab": {
   "collapsed_sections": [],
   "name": "h8_p0lc1_Muhammad_Ikhsan_Rahman_Hakim.ipynb",
   "provenance": [],
   "toc_visible": true
  },
  "kernelspec": {
   "display_name": "Python 3",
   "language": "python",
   "name": "python3"
  },
  "language_info": {
   "codemirror_mode": {
    "name": "ipython",
    "version": 3
   },
   "file_extension": ".py",
   "mimetype": "text/x-python",
   "name": "python",
   "nbconvert_exporter": "python",
   "pygments_lexer": "ipython3",
   "version": "3.8.8"
  }
 },
 "nbformat": 4,
 "nbformat_minor": 1
}
