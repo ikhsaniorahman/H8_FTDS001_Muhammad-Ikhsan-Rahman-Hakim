{
 "cells": [
  {
   "cell_type": "markdown",
   "id": "a2ecd676",
   "metadata": {},
   "source": [
    "# NG Challenge 2 - Converter"
   ]
  },
  {
   "cell_type": "code",
   "execution_count": 33,
   "id": "91ad09fe",
   "metadata": {},
   "outputs": [],
   "source": [
    "#function untuk masing-masing suhu\n",
    "def celsiusToKelvin(temp):\n",
    "    \"Celsius to Kelvin function\"\n",
    "    return temp + 273.15\n",
    "\n",
    "def kelvinToCelsius(temp):\n",
    "    \"Kelvin to Celsius function\"\n",
    "    return temp - 273.15\n",
    "\n",
    "def kelvToFahr(temp):\n",
    "    \"Kelvin to Fahrenheit function\"\n",
    "    tempCelsius = kelvinToCelsius(temp)\n",
    "    tempFahr = celsiusToFahr(tempCelsius)\n",
    "    return tempFahr\n",
    "\n",
    "def celsiusToFahr(temp):\n",
    "    \"Celsius to Fahrenheit function\"\n",
    "    return 9/5 * temp + 32\n",
    "\n",
    "def fahrToCelsius(temp):\n",
    "    \"Fahrenheit to Celsius function\"\n",
    "    return (temp-32) * 5/9\n",
    "\n",
    "def fahrToKelvin(temp):\n",
    "    \"Fahrenheit to Kelvin function\"\n",
    "    tempCels = fahrToCelsius(temp)\n",
    "    tempKelv = celsiusToKelvin(tempCels)\n",
    "    return tempKelv"
   ]
  },
  {
   "cell_type": "markdown",
   "id": "3cd6b6ae",
   "metadata": {},
   "source": [
    "### 1. Buatlah sebuah function yang dapat mengkonversi suhu dari kelvin ke celcius, dan celcius ke kelvin."
   ]
  },
  {
   "cell_type": "code",
   "execution_count": 42,
   "id": "a5699f05",
   "metadata": {
    "scrolled": true
   },
   "outputs": [
    {
     "name": "stdout",
     "output_type": "stream",
     "text": [
      "Kelvin to Celsius =  -73.14999999999998 C\n",
      "Celsius to Kelvin =  373.15 K\n"
     ]
    }
   ],
   "source": [
    "print(\"Kelvin to Celsius = \",kelvinToCelsius(200),'C')\n",
    "print(\"Celsius to Kelvin = \",celsiusToKelvin(100),'K')"
   ]
  },
  {
   "cell_type": "markdown",
   "id": "73be0be5",
   "metadata": {},
   "source": [
    "### 2. Buatlah sebuah function yang dapat mengkonversi suhu ke fahrenheit."
   ]
  },
  {
   "cell_type": "code",
   "execution_count": 48,
   "id": "cfe1685d",
   "metadata": {},
   "outputs": [
    {
     "name": "stdout",
     "output_type": "stream",
     "text": [
      "Temperature in Fahrenheit=  (-279.66999999999996, 212.0)\n",
      "Kelvin to Fahr =  -279.66999999999996 F\n",
      "Celsius to Fahr =  212.0 F\n"
     ]
    }
   ],
   "source": [
    "def convertToFahr(kelv, cels):\n",
    "    \"Convert temperature (Kelvin and Celcius) to Fahrenheit\"\n",
    "    f1 = (kelv-273.15) * (9/5) + 32\n",
    "    f2 = cels * (9/5) + 32\n",
    "    return f1, f2\n",
    "print(\"Temperature in Fahrenheit= \", convertToFahr(100,100))\n",
    "\n",
    "#Atau bisa juga\n",
    "print(\"Kelvin to Fahr = \",kelvToFahr(100),'F')\n",
    "print(\"Celsius to Fahr = \",celsiusToFahr(100),'F')"
   ]
  },
  {
   "cell_type": "markdown",
   "id": "c145c9d8",
   "metadata": {},
   "source": [
    "### 3. Buatlah sebuah function yang dapat mengkonversi suhu dari fahrenheit."
   ]
  },
  {
   "cell_type": "code",
   "execution_count": 49,
   "id": "cb252e1d",
   "metadata": {},
   "outputs": [
    {
     "name": "stdout",
     "output_type": "stream",
     "text": [
      "Fahr to Celsius =  37.77777777777778 C\n",
      "Fahr to Kelvin =  310.92777777777775 K\n"
     ]
    }
   ],
   "source": [
    "print(\"Fahr to Celsius = \",fahrToCelsius(100),'C')\n",
    "print(\"Fahr to Kelvin = \",fahrToKelvin(100),'K')"
   ]
  },
  {
   "cell_type": "code",
   "execution_count": 92,
   "id": "9bad59f9",
   "metadata": {},
   "outputs": [],
   "source": [
    "def fromFahrenheit(temperature , degrees):\n",
    "    \"function mengubah suhu dari Fahrenheit ke Celsius dan Kelvin \"\n",
    "    if 'celcius' in temperature.lower(): # cek kondisi jika parameter temperature yang dimasukkan adalah celcius\n",
    "        print((degrees-32) * (5/9), \"Celcius\") \n",
    "    elif 'kelvin' in temperature.lower(): # cek kondisi jika parameter temperature yang dimasukkan adalah celcius\n",
    "        print((degrees-32) * (5/9) + 273.15, \"Kelvin\")\n",
    "    else:\n",
    "        print('Please Insert Celcius or Kelvin in parameter') # cek kondisi jika parameter temperature yang dimasukkan selain celcius dan kelvin\n",
    "    return;"
   ]
  },
  {
   "cell_type": "code",
   "execution_count": 93,
   "id": "0e93cacf",
   "metadata": {},
   "outputs": [
    {
     "name": "stdout",
     "output_type": "stream",
     "text": [
      "Please Insert Celcius or Kelvin in parameter\n"
     ]
    }
   ],
   "source": [
    "fromFahrenheit('ole', 100)"
   ]
  }
 ],
 "metadata": {
  "kernelspec": {
   "display_name": "Python 3",
   "language": "python",
   "name": "python3"
  },
  "language_info": {
   "codemirror_mode": {
    "name": "ipython",
    "version": 3
   },
   "file_extension": ".py",
   "mimetype": "text/x-python",
   "name": "python",
   "nbconvert_exporter": "python",
   "pygments_lexer": "ipython3",
   "version": "3.8.8"
  }
 },
 "nbformat": 4,
 "nbformat_minor": 5
}
