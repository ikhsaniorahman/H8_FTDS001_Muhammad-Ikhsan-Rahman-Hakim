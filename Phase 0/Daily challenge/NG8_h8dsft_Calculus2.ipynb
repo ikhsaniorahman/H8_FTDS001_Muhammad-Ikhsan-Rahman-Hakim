{
 "cells": [
  {
   "cell_type": "code",
   "execution_count": 1,
   "id": "c0c2c154",
   "metadata": {},
   "outputs": [],
   "source": [
    "import numpy as np\n",
    "import sympy as sy"
   ]
  },
  {
   "cell_type": "markdown",
   "id": "635f823d",
   "metadata": {},
   "source": [
    "Carilah integral dari sebuah fungsi:\n",
    "\n",
    "- ∫(3x2−6x+3)dx\n",
    "- ∫(8x3−x2+5x−1)dx."
   ]
  },
  {
   "cell_type": "code",
   "execution_count": 3,
   "id": "47d008dd",
   "metadata": {},
   "outputs": [
    {
     "data": {
      "text/latex": [
       "$\\displaystyle x^{3} - 3 x^{2} + 3 x$"
      ],
      "text/plain": [
       "x**3 - 3*x**2 + 3*x"
      ]
     },
     "execution_count": 3,
     "metadata": {},
     "output_type": "execute_result"
    }
   ],
   "source": [
    "x=sy.Symbol('x')\n",
    "sy.integrate(3*x**2 - 6*x + 3)"
   ]
  },
  {
   "cell_type": "code",
   "execution_count": 4,
   "id": "0d024e56",
   "metadata": {
    "scrolled": true
   },
   "outputs": [
    {
     "data": {
      "text/latex": [
       "$\\displaystyle 2 x^{4} - \\frac{x^{3}}{3} + \\frac{5 x^{2}}{2} - x$"
      ],
      "text/plain": [
       "2*x**4 - x**3/3 + 5*x**2/2 - x"
      ]
     },
     "execution_count": 4,
     "metadata": {},
     "output_type": "execute_result"
    }
   ],
   "source": [
    "sy.integrate(8*x**3 - x**2 + 5*x - 1)"
   ]
  },
  {
   "cell_type": "markdown",
   "id": "abc920b0",
   "metadata": {},
   "source": [
    "---------------------------------------"
   ]
  },
  {
   "cell_type": "markdown",
   "id": "789ebdac",
   "metadata": {},
   "source": [
    "Cari nilai integral tertentu dari 2 hingga 5 dari:\n",
    "- ∫(3x2−6x+3)dx"
   ]
  },
  {
   "cell_type": "code",
   "execution_count": 9,
   "id": "c84a52ab",
   "metadata": {},
   "outputs": [
    {
     "data": {
      "text/plain": [
       "(62.999999999999986, 6.994405055138484e-13)"
      ]
     },
     "execution_count": 9,
     "metadata": {},
     "output_type": "execute_result"
    }
   ],
   "source": [
    "from scipy import integrate\n",
    "\n",
    "f=lambda x: 3*x**2 - 6*x + 3\n",
    "#atau bisa pakai cara fungsi biasa\n",
    "def g(x):\n",
    "    return 3*x**2 - 6*x + 3\n",
    "A=integrate.quad(f,2,5) \n",
    "\n",
    "# Hasil integrasi,Error\n",
    "A"
   ]
  }
 ],
 "metadata": {
  "kernelspec": {
   "display_name": "Python 3",
   "language": "python",
   "name": "python3"
  },
  "language_info": {
   "codemirror_mode": {
    "name": "ipython",
    "version": 3
   },
   "file_extension": ".py",
   "mimetype": "text/x-python",
   "name": "python",
   "nbconvert_exporter": "python",
   "pygments_lexer": "ipython3",
   "version": "3.8.8"
  }
 },
 "nbformat": 4,
 "nbformat_minor": 5
}
