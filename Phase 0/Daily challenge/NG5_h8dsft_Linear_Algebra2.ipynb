{
 "cells": [
  {
   "cell_type": "markdown",
   "id": "08c842d6",
   "metadata": {},
   "source": [
    "Periksa apakah w = (-4, 5, 4) merupakan kombinasi linear dari v1 = (2, 1, 0) dan v2 = (1, 3, 2)"
   ]
  },
  {
   "cell_type": "code",
   "execution_count": 2,
   "id": "71d4be0f",
   "metadata": {},
   "outputs": [],
   "source": [
    "import numpy as np\n",
    "import sympy as sy"
   ]
  },
  {
   "cell_type": "markdown",
   "id": "2fc43816",
   "metadata": {},
   "source": [
    "masukkan OBE secara manual"
   ]
  },
  {
   "cell_type": "code",
   "execution_count": 3,
   "id": "7057daac",
   "metadata": {},
   "outputs": [
    {
     "data": {
      "text/plain": [
       "(Matrix([\n",
       " [1, 0, 0],\n",
       " [0, 1, 0],\n",
       " [0, 0, 1]]),\n",
       " (0, 1, 2))"
      ]
     },
     "execution_count": 3,
     "metadata": {},
     "output_type": "execute_result"
    }
   ],
   "source": [
    "B = np.array([\n",
    "    [2,1,-4],\n",
    "    [1,3,5],\n",
    "    [0,2,4]\n",
    "])\n",
    "OBE = sy.Matrix(B)\n",
    "OBE.rref()"
   ]
  },
  {
   "cell_type": "markdown",
   "id": "697313f2",
   "metadata": {},
   "source": [
    "Dari OBE terlihat bahwa w bukan merupakan kombinasi linear dari v1 dan v2. Karena c1 dan c2 = 0"
   ]
  },
  {
   "cell_type": "markdown",
   "id": "258f4889",
   "metadata": {},
   "source": [
    "Misalkan V dan W adalah ruang vektor. Jika T: V→W adalah transformasi linear dan u∈V, maka buktikan bahwa T(−u)=−T(u)."
   ]
  },
  {
   "cell_type": "code",
   "execution_count": 7,
   "id": "37f02fce",
   "metadata": {},
   "outputs": [],
   "source": [
    "W = np.array([1,3])\n",
    "V = np.array([2,1])"
   ]
  },
  {
   "cell_type": "code",
   "execution_count": 8,
   "id": "7293b023",
   "metadata": {},
   "outputs": [
    {
     "data": {
      "text/plain": [
       "array([3, 4])"
      ]
     },
     "execution_count": 8,
     "metadata": {},
     "output_type": "execute_result"
    }
   ],
   "source": [
    "W+V"
   ]
  }
 ],
 "metadata": {
  "kernelspec": {
   "display_name": "Python 3",
   "language": "python",
   "name": "python3"
  },
  "language_info": {
   "codemirror_mode": {
    "name": "ipython",
    "version": 3
   },
   "file_extension": ".py",
   "mimetype": "text/x-python",
   "name": "python",
   "nbconvert_exporter": "python",
   "pygments_lexer": "ipython3",
   "version": "3.8.8"
  }
 },
 "nbformat": 4,
 "nbformat_minor": 5
}
