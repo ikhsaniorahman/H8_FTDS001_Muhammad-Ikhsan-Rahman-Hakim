{
 "cells": [
  {
   "cell_type": "code",
   "execution_count": 2,
   "id": "a752ecd8",
   "metadata": {},
   "outputs": [],
   "source": [
    "import numpy as np\n",
    "import sympy as sy"
   ]
  },
  {
   "cell_type": "markdown",
   "id": "7beee8e0",
   "metadata": {},
   "source": [
    "Apakah [1,3] adalah eigenvector dari [[1,-1],[6,-4]]? Jika iya, berapakah eigenvalue-nya?"
   ]
  },
  {
   "cell_type": "code",
   "execution_count": 12,
   "id": "35bcd3e2",
   "metadata": {},
   "outputs": [],
   "source": [
    "a = np.array([[1,-1],\n",
    "              [6,-4]])\n",
    "\n",
    "eigVal,eigVec=np.linalg.eig(a)"
   ]
  },
  {
   "cell_type": "code",
   "execution_count": 16,
   "id": "d4336b81",
   "metadata": {},
   "outputs": [
    {
     "data": {
      "text/plain": [
       "array([-1., -2.])"
      ]
     },
     "execution_count": 16,
     "metadata": {},
     "output_type": "execute_result"
    }
   ],
   "source": [
    "eigVal #eigen value"
   ]
  },
  {
   "cell_type": "code",
   "execution_count": 15,
   "id": "3a4a2f4c",
   "metadata": {},
   "outputs": [
    {
     "data": {
      "text/plain": [
       "array([[0.4472136 , 0.31622777],\n",
       "       [0.89442719, 0.9486833 ]])"
      ]
     },
     "execution_count": 15,
     "metadata": {},
     "output_type": "execute_result"
    }
   ],
   "source": [
    "eigVec #eigen vector"
   ]
  },
  {
   "cell_type": "markdown",
   "id": "f104999e",
   "metadata": {},
   "source": [
    "[1,3] bukan eigenvector dari [[1,-1],[6,-4]].\n",
    "\n",
    "Eigenvaluenya adalah [-1., -2.]"
   ]
  },
  {
   "cell_type": "markdown",
   "id": "524f4b2d",
   "metadata": {},
   "source": [
    "### Pembuktian eigenvec dan eigenvalue jika dibalik pengerjaannya"
   ]
  },
  {
   "cell_type": "markdown",
   "id": "8032f296",
   "metadata": {},
   "source": [
    "Rumus = eigen vektor * (diagonal eigen value) * (invers eigen vector)\n",
    "\n",
    "V.diag(lambda).V(invers)"
   ]
  },
  {
   "cell_type": "code",
   "execution_count": 14,
   "id": "7aceb3d8",
   "metadata": {},
   "outputs": [
    {
     "data": {
      "text/plain": [
       "array([[ 1., -1.],\n",
       "       [ 6., -4.]])"
      ]
     },
     "execution_count": 14,
     "metadata": {},
     "output_type": "execute_result"
    }
   ],
   "source": [
    "B = eigVec.dot(np.diag(eigVal)).dot(np.linalg.inv(eigVec))\n",
    "B"
   ]
  },
  {
   "cell_type": "code",
   "execution_count": 19,
   "id": "f90485e8",
   "metadata": {},
   "outputs": [
    {
     "data": {
      "text/plain": [
       "array([[-1.,  0.],\n",
       "       [ 0., -2.]])"
      ]
     },
     "execution_count": 19,
     "metadata": {},
     "output_type": "execute_result"
    }
   ],
   "source": [
    "np.fliplr(np.diag(eigVal)) #buat ngeflip\n",
    "np.diag(eigVal)"
   ]
  }
 ],
 "metadata": {
  "kernelspec": {
   "display_name": "Python 3",
   "language": "python",
   "name": "python3"
  },
  "language_info": {
   "codemirror_mode": {
    "name": "ipython",
    "version": 3
   },
   "file_extension": ".py",
   "mimetype": "text/x-python",
   "name": "python",
   "nbconvert_exporter": "python",
   "pygments_lexer": "ipython3",
   "version": "3.8.8"
  }
 },
 "nbformat": 4,
 "nbformat_minor": 5
}
