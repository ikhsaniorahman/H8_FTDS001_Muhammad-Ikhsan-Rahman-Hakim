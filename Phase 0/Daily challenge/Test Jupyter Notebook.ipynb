{
 "cells": [
  {
   "cell_type": "markdown",
   "id": "da2c1772",
   "metadata": {},
   "source": [
    "<h1 style=color:orangered;font-size:5rem;text-align:center;>\n",
    "    Jupyter Notebook\n",
    "</h1>"
   ]
  },
  {
   "cell_type": "markdown",
   "id": "3adef964",
   "metadata": {},
   "source": [
    "# Python for Beginners"
   ]
  },
  {
   "cell_type": "markdown",
   "id": "a2bbe21e",
   "metadata": {},
   "source": [
    "<img src=\"https://picsum.photos/id/1043/400/300\">"
   ]
  },
  {
   "cell_type": "markdown",
   "id": "c61855bf",
   "metadata": {},
   "source": [
    "## Basic Output"
   ]
  },
  {
   "cell_type": "code",
   "execution_count": 37,
   "id": "60cc8617",
   "metadata": {},
   "outputs": [
    {
     "name": "stdout",
     "output_type": "stream",
     "text": [
      "Hello World\n"
     ]
    }
   ],
   "source": [
    "print(\"Hello World\")"
   ]
  },
  {
   "cell_type": "markdown",
   "id": "82dac074",
   "metadata": {},
   "source": [
    "## Insert a variable into a string"
   ]
  },
  {
   "cell_type": "code",
   "execution_count": 39,
   "id": "7fe7a6bf",
   "metadata": {},
   "outputs": [
    {
     "name": "stdout",
     "output_type": "stream",
     "text": [
      "What's your name? Ikhsan\n",
      "Hello, Ikhsan!\n"
     ]
    }
   ],
   "source": [
    "person = input(\"What's your name? \")\n",
    "message = \"Hello, {}!\".format(person)\n",
    "print(message)"
   ]
  },
  {
   "cell_type": "markdown",
   "id": "c85cfb11",
   "metadata": {},
   "source": [
    "### Or"
   ]
  },
  {
   "cell_type": "code",
   "execution_count": 43,
   "id": "bd7b0505",
   "metadata": {},
   "outputs": [
    {
     "name": "stdout",
     "output_type": "stream",
     "text": [
      "What's your name? Ikhsan\n",
      "Hello, Ikhsan!\n"
     ]
    }
   ],
   "source": [
    "person = input(\"What's your name? \")\n",
    "message = \"Hello, \" + person + \"!\"\n",
    "print(message)"
   ]
  },
  {
   "cell_type": "markdown",
   "id": "c5cd352c",
   "metadata": {},
   "source": [
    "## Conditional Expressions (Python Ternary Operator)"
   ]
  },
  {
   "cell_type": "code",
   "execution_count": 40,
   "id": "48d9ef5f",
   "metadata": {},
   "outputs": [
    {
     "name": "stdout",
     "output_type": "stream",
     "text": [
      "Let's go to the beach\n"
     ]
    }
   ],
   "source": [
    "raining = False\n",
    "print(\"Let's go to the\",\"beach\" if not raining else \"library\")"
   ]
  },
  {
   "cell_type": "markdown",
   "id": "1fc85211",
   "metadata": {},
   "source": [
    "## Multiline Strings and Strings Length"
   ]
  },
  {
   "cell_type": "code",
   "execution_count": 62,
   "id": "07aebd36",
   "metadata": {},
   "outputs": [
    {
     "name": "stdout",
     "output_type": "stream",
     "text": [
      "Once upon a time\n",
      "there live a bear family\n",
      "who ate delicious pizza\n",
      "Length characters: 65\n"
     ]
    }
   ],
   "source": [
    "story = \"\"\"Once upon a time\n",
    "there live a bear family\n",
    "who ate delicious pizza\"\"\"\n",
    "print(story)\n",
    "print(\"Length characters: \" + str(len(story)))"
   ]
  },
  {
   "cell_type": "markdown",
   "id": "2676f048",
   "metadata": {},
   "source": [
    "## Latihan Day 2AM"
   ]
  },
  {
   "cell_type": "code",
   "execution_count": 36,
   "id": "a5cc8104",
   "metadata": {},
   "outputs": [
    {
     "name": "stdout",
     "output_type": "stream",
     "text": [
      "['bori']\n",
      "['iki', 'ganti1', 'ganti2', 'nari', 'bori']\n",
      "['iki', 'ganti1', 'ganti2', 'nari', 'bori', 'tambahan']\n",
      "['iki', 'ganti1', 'ganti2', 'nari', 'bori']\n",
      "['ganti1', 'ganti2', 'nari', 'bori']\n"
     ]
    }
   ],
   "source": [
    "x = [\"iki\",\"oko\",\"nari\",\"bori\"]\n",
    "print(x[3:])\n",
    "x = [\"iki\",\"oko\",\"nari\",\"bori\"]\n",
    "x[1:2]=[\"ganti1\",\"ganti2\"]\n",
    "print(x)\n",
    "x2=[\"extend1\",\"extend2\"]\n",
    "x.append(\"tambahan\")\n",
    "print(x)\n",
    "x.pop()\n",
    "print(x)\n",
    "del x[0]\n",
    "print(x)"
   ]
  },
  {
   "cell_type": "code",
   "execution_count": null,
   "id": "119ec42e",
   "metadata": {},
   "outputs": [],
   "source": []
  }
 ],
 "metadata": {
  "kernelspec": {
   "display_name": "Python 3",
   "language": "python",
   "name": "python3"
  },
  "language_info": {
   "codemirror_mode": {
    "name": "ipython",
    "version": 3
   },
   "file_extension": ".py",
   "mimetype": "text/x-python",
   "name": "python",
   "nbconvert_exporter": "python",
   "pygments_lexer": "ipython3",
   "version": "3.8.8"
  }
 },
 "nbformat": 4,
 "nbformat_minor": 5
}
