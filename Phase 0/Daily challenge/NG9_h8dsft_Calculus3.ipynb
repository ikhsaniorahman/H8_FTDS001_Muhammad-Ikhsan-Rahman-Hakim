{
 "cells": [
  {
   "cell_type": "code",
   "execution_count": 2,
   "id": "0487e764",
   "metadata": {},
   "outputs": [],
   "source": [
    "import numpy as np\n",
    "import sympy as sy"
   ]
  },
  {
   "cell_type": "markdown",
   "id": "36f297cc",
   "metadata": {},
   "source": [
    "Carilah gradient dari sebuah fungsi:\n",
    "\n",
    "- 3x+4y=5\n",
    "- bisa juga ditulis sebagai 3x+4y-5 = 0"
   ]
  },
  {
   "cell_type": "code",
   "execution_count": 10,
   "id": "04a742de",
   "metadata": {},
   "outputs": [],
   "source": [
    "x, y = sy.symbols('x y', real=True)\n",
    "a= 3*x+4*y"
   ]
  },
  {
   "cell_type": "code",
   "execution_count": 12,
   "id": "0ab5a5da",
   "metadata": {},
   "outputs": [
    {
     "data": {
      "text/latex": [
       "$\\displaystyle \\left[\\begin{matrix}3 & 4\\end{matrix}\\right]$"
      ],
      "text/plain": [
       "[3, 4]"
      ]
     },
     "execution_count": 12,
     "metadata": {},
     "output_type": "execute_result"
    }
   ],
   "source": [
    "from sympy.tensor.array import derive_by_array\n",
    "\n",
    "derive_by_array(a,(x,y))"
   ]
  },
  {
   "cell_type": "code",
   "execution_count": 13,
   "id": "9ef9f630",
   "metadata": {},
   "outputs": [
    {
     "data": {
      "text/plain": [
       "[]"
      ]
     },
     "execution_count": 13,
     "metadata": {},
     "output_type": "execute_result"
    }
   ],
   "source": [
    "aa = np.gradient(a)\n",
    "aa #ga ada hasil, karena bukan array"
   ]
  }
 ],
 "metadata": {
  "kernelspec": {
   "display_name": "Python 3",
   "language": "python",
   "name": "python3"
  },
  "language_info": {
   "codemirror_mode": {
    "name": "ipython",
    "version": 3
   },
   "file_extension": ".py",
   "mimetype": "text/x-python",
   "name": "python",
   "nbconvert_exporter": "python",
   "pygments_lexer": "ipython3",
   "version": "3.8.8"
  }
 },
 "nbformat": 4,
 "nbformat_minor": 5
}
