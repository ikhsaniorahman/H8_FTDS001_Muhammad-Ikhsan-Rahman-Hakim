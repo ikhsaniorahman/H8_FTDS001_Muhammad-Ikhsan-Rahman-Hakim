{
 "cells": [
  {
   "cell_type": "markdown",
   "id": "c990d7ad",
   "metadata": {},
   "source": [
    "# NG Challenge 1"
   ]
  },
  {
   "cell_type": "code",
   "execution_count": 21,
   "id": "4e1a30c1",
   "metadata": {},
   "outputs": [
    {
     "name": "stdout",
     "output_type": "stream",
     "text": [
      "162\n",
      "236\n",
      "236\n",
      "248\n",
      "328\n",
      "344\n",
      "360\n",
      "386\n",
      "390\n",
      "402\n",
      "408\n",
      "412\n",
      "418\n",
      "462\n",
      "544\n",
      "566\n",
      "566\n",
      "592\n",
      "626\n",
      "758\n",
      "826\n",
      "866\n",
      "918\n",
      "Done\n"
     ]
    }
   ],
   "source": [
    "numbers = [\n",
    "           951, 402, 984, 651, 360, 69, 408, 319, 601, 485, 980, 507, 725, \n",
    "           547, 544, 615, 83, 165, 141, 501, 263, 617, 865, 575, 219, 390, \n",
    "           984, 592, 236, 105, 942, 941, 386, 462, 47, 418, 907, 344, 236, \n",
    "           375, 823, 566, 597, 978, 328, 615, 953, 345, 399, 162, 758, 219, \n",
    "           918, 237, 412, 566, 826, 248, 866, 950, 626, 949\n",
    "          ]\n",
    "\n",
    "#Sort the numbers in numbers\n",
    "numbers.sort()\n",
    "\n",
    "#Loop and find even number in number list then stop the loop after number 918\n",
    "for i in numbers:\n",
    "    if i%2 == 0:\n",
    "        print(i)\n",
    "        if i>=918:\n",
    "            break\n",
    "print(\"Done\")"
   ]
  }
 ],
 "metadata": {
  "kernelspec": {
   "display_name": "Python 3",
   "language": "python",
   "name": "python3"
  },
  "language_info": {
   "codemirror_mode": {
    "name": "ipython",
    "version": 3
   },
   "file_extension": ".py",
   "mimetype": "text/x-python",
   "name": "python",
   "nbconvert_exporter": "python",
   "pygments_lexer": "ipython3",
   "version": "3.8.8"
  }
 },
 "nbformat": 4,
 "nbformat_minor": 5
}
