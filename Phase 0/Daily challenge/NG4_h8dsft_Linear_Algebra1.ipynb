{
 "cells": [
  {
   "cell_type": "code",
   "execution_count": 2,
   "id": "4f92cb7c",
   "metadata": {},
   "outputs": [],
   "source": [
    "import numpy as np\n",
    "import sympy as sy\n",
    "import matplotlib.pyplot as plt"
   ]
  },
  {
   "cell_type": "markdown",
   "id": "f7c22068",
   "metadata": {},
   "source": [
    "Soal 1"
   ]
  },
  {
   "cell_type": "code",
   "execution_count": 3,
   "id": "14a3de53",
   "metadata": {},
   "outputs": [
    {
     "data": {
      "text/plain": [
       "array([17, 22, 19])"
      ]
     },
     "execution_count": 3,
     "metadata": {},
     "output_type": "execute_result"
    }
   ],
   "source": [
    "a = np.array([17,22,19])\n",
    "a"
   ]
  },
  {
   "cell_type": "markdown",
   "id": "96a1dc32",
   "metadata": {},
   "source": [
    "Soal 2"
   ]
  },
  {
   "cell_type": "code",
   "execution_count": 4,
   "id": "0f635597",
   "metadata": {},
   "outputs": [
    {
     "data": {
      "text/plain": [
       "array([[ 23,  50,  19],\n",
       "       [  7,  12, 109],\n",
       "       [ 57,  67,  98]])"
      ]
     },
     "execution_count": 4,
     "metadata": {},
     "output_type": "execute_result"
    }
   ],
   "source": [
    "b = np.array([[23,50,19],[7,12,109],[57,67,98]])\n",
    "b"
   ]
  },
  {
   "cell_type": "markdown",
   "id": "a8bd5023",
   "metadata": {},
   "source": [
    "Soal 3 Membuat Tensor"
   ]
  },
  {
   "cell_type": "code",
   "execution_count": 37,
   "id": "6933cdf7",
   "metadata": {
    "scrolled": false
   },
   "outputs": [
    {
     "name": "stdout",
     "output_type": "stream",
     "text": [
      "[[23]\n",
      " [ 7]\n",
      " [89]]\n",
      "[[12 34 56]]\n",
      "\n",
      "\n",
      " [[[23 50]\n",
      "  [ 7 12]]\n",
      "\n",
      " [[57 67]\n",
      "  [99 43]]\n",
      "\n",
      " [[75 21]\n",
      "  [57 12]]\n",
      "\n",
      " [[87 26]\n",
      "  [18 84]]]\n"
     ]
    },
    {
     "data": {
      "text/plain": [
       "(4, 2, 2)"
      ]
     },
     "execution_count": 37,
     "metadata": {},
     "output_type": "execute_result"
    }
   ],
   "source": [
    "#3 baris 1 kolom\n",
    "q = np.array([[23],[7],[89]])\n",
    "\n",
    "#1 baris, 3 kolom\n",
    "s= np.array([[12,34,56]])\n",
    "\n",
    "#3D 4baris, 2kolom, 2 lebar (idk the name but yeah u know...)\n",
    "t = np.array(\n",
    "    [\n",
    "        [[23, 50],[7,12]],\n",
    "        [[57, 67],[99,43]],\n",
    "        [[75, 21],[57,12]],\n",
    "        [[87, 26],[18,84]]\n",
    "    ]\n",
    ")\n",
    "print(q)\n",
    "print(s)\n",
    "print('\\n\\n',t)\n",
    "t.shape"
   ]
  },
  {
   "cell_type": "markdown",
   "id": "562ca9bd",
   "metadata": {},
   "source": [
    "Soal 4 perkalian matrix"
   ]
  },
  {
   "cell_type": "code",
   "execution_count": 44,
   "id": "7d9a8f81",
   "metadata": {},
   "outputs": [
    {
     "data": {
      "text/plain": [
       "array([1852, 2454, 4305])"
      ]
     },
     "execution_count": 44,
     "metadata": {},
     "output_type": "execute_result"
    }
   ],
   "source": [
    "aa = np.array(\n",
    "    [\n",
    "    [23,50,19],\n",
    "    [7,12,109],\n",
    "    [57,67,98]\n",
    "    ])\n",
    "bb = np.array([17,22,19])\n",
    "\n",
    "cc= aa.dot(bb)\n",
    "cc"
   ]
  },
  {
   "cell_type": "markdown",
   "id": "f6d2275c",
   "metadata": {},
   "source": [
    "Soal 5 Transpose"
   ]
  },
  {
   "cell_type": "code",
   "execution_count": 9,
   "id": "127a21fd",
   "metadata": {},
   "outputs": [
    {
     "name": "stdout",
     "output_type": "stream",
     "text": [
      "[[ 23  50  19]\n",
      " [  7  12 109]\n",
      " [ 57  67  98]]\n",
      "\n",
      "\n",
      " Sesudah ditranspose\n",
      " [[ 23   7  57]\n",
      " [ 50  12  67]\n",
      " [ 19 109  98]]\n"
     ]
    }
   ],
   "source": [
    "q = np.array([[23,50,19],[7,12,109],[57,67,98]])\n",
    "print(q)\n",
    "print(\"\\n\\n Sesudah ditranspose\\n\",q.T)\n",
    "\n",
    "#hasilnya jadi di balik antara kolom dan baris"
   ]
  },
  {
   "cell_type": "markdown",
   "id": "e1751e4d",
   "metadata": {},
   "source": [
    "Soal 6"
   ]
  },
  {
   "cell_type": "code",
   "execution_count": 8,
   "id": "c1fef085",
   "metadata": {},
   "outputs": [
    {
     "data": {
      "image/png": "[encoded data removed]",
      "text/plain": [
       "<Figure size 432x288 with 1 Axes>"
      ]
     },
     "metadata": {
      "needs_background": "light"
     },
     "output_type": "display_data"
    }
   ],
   "source": [
    "u = np.array([2,5])\n",
    "v = np.array([3,1])\n",
    "\n",
    "x_coords, y_coords = zip(u,v)\n",
    "plt.scatter(x_coords, y_coords, color=[\"r\",\"b\"]) #nentuin titik vector di mana dan warnanya\n",
    "plt.axis([0,9,0,6]) #nentuin panjang axis(sumbu) x dan y\n",
    "plt.grid()\n",
    "plt.show()"
   ]
  }
 ],
 "metadata": {
  "kernelspec": {
   "display_name": "Python 3",
   "language": "python",
   "name": "python3"
  },
  "language_info": {
   "codemirror_mode": {
    "name": "ipython",
    "version": 3
   },
   "file_extension": ".py",
   "mimetype": "text/x-python",
   "name": "python",
   "nbconvert_exporter": "python",
   "pygments_lexer": "ipython3",
   "version": "3.8.8"
  }
 },
 "nbformat": 4,
 "nbformat_minor": 5
}
