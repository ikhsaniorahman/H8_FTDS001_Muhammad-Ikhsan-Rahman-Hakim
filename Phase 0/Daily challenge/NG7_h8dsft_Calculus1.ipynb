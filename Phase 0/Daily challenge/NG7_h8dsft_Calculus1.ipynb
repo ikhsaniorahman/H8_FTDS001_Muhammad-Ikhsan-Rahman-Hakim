{
 "cells": [
  {
   "cell_type": "code",
   "execution_count": 4,
   "id": "59680915",
   "metadata": {},
   "outputs": [],
   "source": [
    "import numpy as np\n",
    "import sympy as sy"
   ]
  },
  {
   "cell_type": "markdown",
   "id": "b45c21df",
   "metadata": {},
   "source": [
    "Carilah derivative dari sebuah fungsi:\n",
    "- y=x2+2x+1\n",
    "- y=4x3−3x2+2x−1"
   ]
  },
  {
   "cell_type": "code",
   "execution_count": 9,
   "id": "e959ad96",
   "metadata": {},
   "outputs": [
    {
     "data": {
      "text/latex": [
       "$\\displaystyle 2 x + 2$"
      ],
      "text/plain": [
       "2*x + 2"
      ]
     },
     "execution_count": 9,
     "metadata": {},
     "output_type": "execute_result"
    }
   ],
   "source": [
    "x = sy.Symbol('x', real=True)\n",
    "a = x**2 + 2*x + 1\n",
    "\n",
    "sy.diff(a)"
   ]
  },
  {
   "cell_type": "code",
   "execution_count": 4,
   "id": "585457ba",
   "metadata": {},
   "outputs": [
    {
     "data": {
      "text/latex": [
       "$\\displaystyle 12 x^{2} - 6 x + 2$"
      ],
      "text/plain": [
       "12*x**2 - 6*x + 2"
      ]
     },
     "execution_count": 4,
     "metadata": {},
     "output_type": "execute_result"
    }
   ],
   "source": [
    "b = 4*x**3 - 3*x**2 + 2*x - 1\n",
    "\n",
    "sy.diff(b)"
   ]
  },
  {
   "cell_type": "markdown",
   "id": "f4ff507b",
   "metadata": {},
   "source": [
    "## Turunan parsial"
   ]
  },
  {
   "cell_type": "code",
   "execution_count": 1,
   "id": "1bee67eb",
   "metadata": {},
   "outputs": [],
   "source": [
    "import sympy as sy\n",
    "\n",
    "x, y, z = sy.symbols('x y z', real=True)\n",
    "f = 4*x*y + x*sy.sin(z) + x**3 + z**8*y"
   ]
  },
  {
   "cell_type": "code",
   "execution_count": 2,
   "id": "a9dbae68",
   "metadata": {},
   "outputs": [
    {
     "data": {
      "text/latex": [
       "$\\displaystyle 3 x^{2} + 4 y + \\sin{\\left(z \\right)}$"
      ],
      "text/plain": [
       "3*x**2 + 4*y + sin(z)"
      ]
     },
     "execution_count": 2,
     "metadata": {},
     "output_type": "execute_result"
    }
   ],
   "source": [
    "sy.diff(f,x)"
   ]
  },
  {
   "cell_type": "code",
   "execution_count": 3,
   "id": "4d907b46",
   "metadata": {},
   "outputs": [
    {
     "data": {
      "text/latex": [
       "$\\displaystyle 4 x + z^{8}$"
      ],
      "text/plain": [
       "4*x + z**8"
      ]
     },
     "execution_count": 3,
     "metadata": {},
     "output_type": "execute_result"
    }
   ],
   "source": [
    "sy.diff(f,y)"
   ]
  },
  {
   "cell_type": "code",
   "execution_count": 4,
   "id": "c826a1bb",
   "metadata": {},
   "outputs": [
    {
     "data": {
      "text/latex": [
       "$\\displaystyle x \\cos{\\left(z \\right)} + 8 y z^{7}$"
      ],
      "text/plain": [
       "x*cos(z) + 8*y*z**7"
      ]
     },
     "execution_count": 4,
     "metadata": {},
     "output_type": "execute_result"
    }
   ],
   "source": [
    "sy.diff(f,z)"
   ]
  }
 ],
 "metadata": {
  "kernelspec": {
   "display_name": "Python 3",
   "language": "python",
   "name": "python3"
  },
  "language_info": {
   "codemirror_mode": {
    "name": "ipython",
    "version": 3
   },
   "file_extension": ".py",
   "mimetype": "text/x-python",
   "name": "python",
   "nbconvert_exporter": "python",
   "pygments_lexer": "ipython3",
   "version": "3.8.8"
  }
 },
 "nbformat": 4,
 "nbformat_minor": 5
}
