{
 "cells": [
  {
   "cell_type": "markdown",
   "id": "ec5d3517",
   "metadata": {},
   "source": [
    "# Graded Challenge 3\n",
    "Muhammad Ikhsan Rahman Hakim - FTDS001"
   ]
  },
  {
   "cell_type": "markdown",
   "id": "59f5e625",
   "metadata": {},
   "source": [
    "Dataset yang digunakan adalah Kickstarter, yakni sebuah startup yang mendanai berbagai macam project dengan cara crowdfunding. Di sini saya ingin mencari tahu hubungan antara *backers* atau donatur project dengan status projek."
   ]
  },
  {
   "cell_type": "code",
   "execution_count": 80,
   "id": "22432a4b",
   "metadata": {},
   "outputs": [],
   "source": [
    "import pandas as pd\n",
    "import numpy as np\n",
    "import matplotlib.pyplot as plt\n",
    "from scipy import stats\n",
    "%matplotlib inline"
   ]
  },
  {
   "cell_type": "markdown",
   "id": "2a1ce6de",
   "metadata": {},
   "source": [
    "## Data Loading"
   ]
  },
  {
   "cell_type": "code",
   "execution_count": 2,
   "id": "6ff57ca8",
   "metadata": {},
   "outputs": [],
   "source": [
    "df = pd.read_csv(\"ks-projects-201801.csv\")"
   ]
  },
  {
   "cell_type": "markdown",
   "id": "f229f3fc",
   "metadata": {},
   "source": [
    "Di bagian ini saya akan fokus untuk mendapatkan *basic insight* dari data, untuk mendapatkan gambaran umum tentang apa yang sedang dikerjakan. "
   ]
  },
  {
   "cell_type": "code",
   "execution_count": 3,
   "id": "e73b1965",
   "metadata": {},
   "outputs": [
    {
     "name": "stdout",
     "output_type": "stream",
     "text": [
      "Dimension of the dataset: (378661, 15)\n"
     ]
    },
    {
     "data": {
      "text/html": [
       "<div>\n",
       "<style scoped>\n",
       "    .dataframe tbody tr th:only-of-type {\n",
       "        vertical-align: middle;\n",
       "    }\n",
       "\n",
       "    .dataframe tbody tr th {\n",
       "        vertical-align: top;\n",
       "    }\n",
       "\n",
       "    .dataframe thead th {\n",
       "        text-align: right;\n",
       "    }\n",
       "</style>\n",
       "<table border=\"1\" class=\"dataframe\">\n",
       "  <thead>\n",
       "    <tr style=\"text-align: right;\">\n",
       "      <th></th>\n",
       "      <th>ID</th>\n",
       "      <th>name</th>\n",
       "      <th>category</th>\n",
       "      <th>main_category</th>\n",
       "      <th>currency</th>\n",
       "      <th>deadline</th>\n",
       "      <th>goal</th>\n",
       "      <th>launched</th>\n",
       "      <th>pledged</th>\n",
       "      <th>state</th>\n",
       "      <th>backers</th>\n",
       "      <th>country</th>\n",
       "      <th>usd pledged</th>\n",
       "      <th>usd_pledged_real</th>\n",
       "      <th>usd_goal_real</th>\n",
       "    </tr>\n",
       "  </thead>\n",
       "  <tbody>\n",
       "    <tr>\n",
       "      <th>0</th>\n",
       "      <td>1000002330</td>\n",
       "      <td>The Songs of Adelaide &amp; Abullah</td>\n",
       "      <td>Poetry</td>\n",
       "      <td>Publishing</td>\n",
       "      <td>GBP</td>\n",
       "      <td>2015-10-09</td>\n",
       "      <td>1000.0</td>\n",
       "      <td>2015-08-11 12:12:28</td>\n",
       "      <td>0.0</td>\n",
       "      <td>failed</td>\n",
       "      <td>0</td>\n",
       "      <td>GB</td>\n",
       "      <td>0.0</td>\n",
       "      <td>0.0</td>\n",
       "      <td>1533.95</td>\n",
       "    </tr>\n",
       "    <tr>\n",
       "      <th>1</th>\n",
       "      <td>1000003930</td>\n",
       "      <td>Greeting From Earth: ZGAC Arts Capsule For ET</td>\n",
       "      <td>Narrative Film</td>\n",
       "      <td>Film &amp; Video</td>\n",
       "      <td>USD</td>\n",
       "      <td>2017-11-01</td>\n",
       "      <td>30000.0</td>\n",
       "      <td>2017-09-02 04:43:57</td>\n",
       "      <td>2421.0</td>\n",
       "      <td>failed</td>\n",
       "      <td>15</td>\n",
       "      <td>US</td>\n",
       "      <td>100.0</td>\n",
       "      <td>2421.0</td>\n",
       "      <td>30000.00</td>\n",
       "    </tr>\n",
       "    <tr>\n",
       "      <th>2</th>\n",
       "      <td>1000004038</td>\n",
       "      <td>Where is Hank?</td>\n",
       "      <td>Narrative Film</td>\n",
       "      <td>Film &amp; Video</td>\n",
       "      <td>USD</td>\n",
       "      <td>2013-02-26</td>\n",
       "      <td>45000.0</td>\n",
       "      <td>2013-01-12 00:20:50</td>\n",
       "      <td>220.0</td>\n",
       "      <td>failed</td>\n",
       "      <td>3</td>\n",
       "      <td>US</td>\n",
       "      <td>220.0</td>\n",
       "      <td>220.0</td>\n",
       "      <td>45000.00</td>\n",
       "    </tr>\n",
       "    <tr>\n",
       "      <th>3</th>\n",
       "      <td>1000007540</td>\n",
       "      <td>ToshiCapital Rekordz Needs Help to Complete Album</td>\n",
       "      <td>Music</td>\n",
       "      <td>Music</td>\n",
       "      <td>USD</td>\n",
       "      <td>2012-04-16</td>\n",
       "      <td>5000.0</td>\n",
       "      <td>2012-03-17 03:24:11</td>\n",
       "      <td>1.0</td>\n",
       "      <td>failed</td>\n",
       "      <td>1</td>\n",
       "      <td>US</td>\n",
       "      <td>1.0</td>\n",
       "      <td>1.0</td>\n",
       "      <td>5000.00</td>\n",
       "    </tr>\n",
       "    <tr>\n",
       "      <th>4</th>\n",
       "      <td>1000011046</td>\n",
       "      <td>Community Film Project: The Art of Neighborhoo...</td>\n",
       "      <td>Film &amp; Video</td>\n",
       "      <td>Film &amp; Video</td>\n",
       "      <td>USD</td>\n",
       "      <td>2015-08-29</td>\n",
       "      <td>19500.0</td>\n",
       "      <td>2015-07-04 08:35:03</td>\n",
       "      <td>1283.0</td>\n",
       "      <td>canceled</td>\n",
       "      <td>14</td>\n",
       "      <td>US</td>\n",
       "      <td>1283.0</td>\n",
       "      <td>1283.0</td>\n",
       "      <td>19500.00</td>\n",
       "    </tr>\n",
       "  </tbody>\n",
       "</table>\n",
       "</div>"
      ],
      "text/plain": [
       "           ID                                               name  \\\n",
       "0  1000002330                    The Songs of Adelaide & Abullah   \n",
       "1  1000003930      Greeting From Earth: ZGAC Arts Capsule For ET   \n",
       "2  1000004038                                     Where is Hank?   \n",
       "3  1000007540  ToshiCapital Rekordz Needs Help to Complete Album   \n",
       "4  1000011046  Community Film Project: The Art of Neighborhoo...   \n",
       "\n",
       "         category main_category currency    deadline     goal  \\\n",
       "0          Poetry    Publishing      GBP  2015-10-09   1000.0   \n",
       "1  Narrative Film  Film & Video      USD  2017-11-01  30000.0   \n",
       "2  Narrative Film  Film & Video      USD  2013-02-26  45000.0   \n",
       "3           Music         Music      USD  2012-04-16   5000.0   \n",
       "4    Film & Video  Film & Video      USD  2015-08-29  19500.0   \n",
       "\n",
       "              launched  pledged     state  backers country  usd pledged  \\\n",
       "0  2015-08-11 12:12:28      0.0    failed        0      GB          0.0   \n",
       "1  2017-09-02 04:43:57   2421.0    failed       15      US        100.0   \n",
       "2  2013-01-12 00:20:50    220.0    failed        3      US        220.0   \n",
       "3  2012-03-17 03:24:11      1.0    failed        1      US          1.0   \n",
       "4  2015-07-04 08:35:03   1283.0  canceled       14      US       1283.0   \n",
       "\n",
       "   usd_pledged_real  usd_goal_real  \n",
       "0               0.0        1533.95  \n",
       "1            2421.0       30000.00  \n",
       "2             220.0       45000.00  \n",
       "3               1.0        5000.00  \n",
       "4            1283.0       19500.00  "
      ]
     },
     "execution_count": 3,
     "metadata": {},
     "output_type": "execute_result"
    }
   ],
   "source": [
    "#Untuk mendapatkan dimensi dataset dan 5 baris pertama dari dataset\n",
    "print('Dimension of the dataset:', df.shape)\n",
    "df.head()"
   ]
  },
  {
   "cell_type": "markdown",
   "id": "b1933416",
   "metadata": {},
   "source": [
    "Dengan .info() kita dapat langsung melihat kolom yang tidak memiliki nilai (*missing value*). Kolom 'name' dan 'usd_pledge' memiliki *missing value*, sementara yang lainnya tidak."
   ]
  },
  {
   "cell_type": "code",
   "execution_count": 4,
   "id": "2e79128c",
   "metadata": {},
   "outputs": [
    {
     "name": "stdout",
     "output_type": "stream",
     "text": [
      "<class 'pandas.core.frame.DataFrame'>\n",
      "RangeIndex: 378661 entries, 0 to 378660\n",
      "Data columns (total 15 columns):\n",
      " #   Column            Non-Null Count   Dtype  \n",
      "---  ------            --------------   -----  \n",
      " 0   ID                378661 non-null  int64  \n",
      " 1   name              378657 non-null  object \n",
      " 2   category          378661 non-null  object \n",
      " 3   main_category     378661 non-null  object \n",
      " 4   currency          378661 non-null  object \n",
      " 5   deadline          378661 non-null  object \n",
      " 6   goal              378661 non-null  float64\n",
      " 7   launched          378661 non-null  object \n",
      " 8   pledged           378661 non-null  float64\n",
      " 9   state             378661 non-null  object \n",
      " 10  backers           378661 non-null  int64  \n",
      " 11  country           378661 non-null  object \n",
      " 12  usd pledged       374864 non-null  float64\n",
      " 13  usd_pledged_real  378661 non-null  float64\n",
      " 14  usd_goal_real     378661 non-null  float64\n",
      "dtypes: float64(5), int64(2), object(8)\n",
      "memory usage: 43.3+ MB\n"
     ]
    }
   ],
   "source": [
    "df.info()"
   ]
  },
  {
   "cell_type": "markdown",
   "id": "616aa309",
   "metadata": {},
   "source": [
    "## Data Cleaning\n",
    "Proses pembersihan dataset dari *missing value*, menghapus kolom yang tidak dibutuhkan dsb."
   ]
  },
  {
   "cell_type": "code",
   "execution_count": 5,
   "id": "e5bc35e4",
   "metadata": {
    "scrolled": true
   },
   "outputs": [
    {
     "data": {
      "text/plain": [
       "usd pledged         3797\n",
       "name                   4\n",
       "ID                     0\n",
       "category               0\n",
       "main_category          0\n",
       "currency               0\n",
       "deadline               0\n",
       "goal                   0\n",
       "launched               0\n",
       "pledged                0\n",
       "state                  0\n",
       "backers                0\n",
       "country                0\n",
       "usd_pledged_real       0\n",
       "usd_goal_real          0\n",
       "dtype: int64"
      ]
     },
     "execution_count": 5,
     "metadata": {},
     "output_type": "execute_result"
    }
   ],
   "source": [
    "#mendeteksi jumlah missing value dari tiap kolom\n",
    "df.isnull().sum().sort_values(ascending = False)"
   ]
  },
  {
   "cell_type": "markdown",
   "id": "cfb33a6e",
   "metadata": {},
   "source": [
    "Dari penelusuran sebelumnya, terlihat bahwa kolom 'name' dan 'usd pledged' memiliki nilai kosong. Maka, saya memutuskan untuk menghilangkan kolom 'usd pledged' dan menggunakan kolom 'usd_pledged_real' sebagai gantinya. Untuk kolom 'name', saya mengisi nilai yang kosong dengan 'Unknown project' karena hanya nama saja yang tidak memiliki nilai dan jumlahnya sedikit."
   ]
  },
  {
   "cell_type": "code",
   "execution_count": 6,
   "id": "74d883e5",
   "metadata": {},
   "outputs": [],
   "source": [
    "#fill missing name with \"Unknown Project\"\n",
    "df['name'].fillna('Unknown project', inplace=True)"
   ]
  },
  {
   "cell_type": "code",
   "execution_count": 7,
   "id": "bb4c2373",
   "metadata": {
    "scrolled": true
   },
   "outputs": [],
   "source": [
    "#drop 'usd pledged' column\n",
    "df.drop(['usd pledged'], axis=1, inplace=True)"
   ]
  },
  {
   "cell_type": "markdown",
   "id": "cef9db8c",
   "metadata": {},
   "source": [
    "Saya hanya akan menggunakan data yang statusnya Successfull dan Failed, dan backers > 30 dan < 1000"
   ]
  },
  {
   "cell_type": "code",
   "execution_count": 45,
   "id": "a040f50d",
   "metadata": {},
   "outputs": [],
   "source": [
    "df = df[(df['state'] == 'failed') | (df['state'] == 'successful')]\n",
    "df = df[(df['backers'] < 1000) & (df['backers'] > 30)]"
   ]
  },
  {
   "cell_type": "markdown",
   "id": "59ed9f6f",
   "metadata": {},
   "source": [
    "Berikut adalah kolom yang akan saya gunakan"
   ]
  },
  {
   "cell_type": "code",
   "execution_count": 47,
   "id": "dbaadbb5",
   "metadata": {},
   "outputs": [
    {
     "data": {
      "text/html": [
       "<div>\n",
       "<style scoped>\n",
       "    .dataframe tbody tr th:only-of-type {\n",
       "        vertical-align: middle;\n",
       "    }\n",
       "\n",
       "    .dataframe tbody tr th {\n",
       "        vertical-align: top;\n",
       "    }\n",
       "\n",
       "    .dataframe thead th {\n",
       "        text-align: right;\n",
       "    }\n",
       "</style>\n",
       "<table border=\"1\" class=\"dataframe\">\n",
       "  <thead>\n",
       "    <tr style=\"text-align: right;\">\n",
       "      <th></th>\n",
       "      <th>ID</th>\n",
       "      <th>name</th>\n",
       "      <th>category</th>\n",
       "      <th>main_category</th>\n",
       "      <th>state</th>\n",
       "      <th>backers</th>\n",
       "    </tr>\n",
       "  </thead>\n",
       "  <tbody>\n",
       "    <tr>\n",
       "      <th>5</th>\n",
       "      <td>1000014025</td>\n",
       "      <td>Monarch Espresso Bar</td>\n",
       "      <td>Restaurants</td>\n",
       "      <td>Food</td>\n",
       "      <td>successful</td>\n",
       "      <td>224</td>\n",
       "    </tr>\n",
       "    <tr>\n",
       "      <th>7</th>\n",
       "      <td>1000030581</td>\n",
       "      <td>Chaser Strips. Our Strips make Shots their B*tch!</td>\n",
       "      <td>Drinks</td>\n",
       "      <td>Food</td>\n",
       "      <td>failed</td>\n",
       "      <td>40</td>\n",
       "    </tr>\n",
       "    <tr>\n",
       "      <th>11</th>\n",
       "      <td>100005484</td>\n",
       "      <td>Lisa Lim New CD!</td>\n",
       "      <td>Indie Rock</td>\n",
       "      <td>Music</td>\n",
       "      <td>successful</td>\n",
       "      <td>100</td>\n",
       "    </tr>\n",
       "    <tr>\n",
       "      <th>14</th>\n",
       "      <td>1000057089</td>\n",
       "      <td>Tombstone: Old West tabletop game and miniatur...</td>\n",
       "      <td>Tabletop Games</td>\n",
       "      <td>Games</td>\n",
       "      <td>successful</td>\n",
       "      <td>761</td>\n",
       "    </tr>\n",
       "    <tr>\n",
       "      <th>19</th>\n",
       "      <td>1000071625</td>\n",
       "      <td>Boco Tea</td>\n",
       "      <td>Food</td>\n",
       "      <td>Food</td>\n",
       "      <td>failed</td>\n",
       "      <td>40</td>\n",
       "    </tr>\n",
       "    <tr>\n",
       "      <th>...</th>\n",
       "      <td>...</td>\n",
       "      <td>...</td>\n",
       "      <td>...</td>\n",
       "      <td>...</td>\n",
       "      <td>...</td>\n",
       "      <td>...</td>\n",
       "    </tr>\n",
       "    <tr>\n",
       "      <th>378644</th>\n",
       "      <td>999934908</td>\n",
       "      <td>The Manual Bar Blade</td>\n",
       "      <td>Product Design</td>\n",
       "      <td>Design</td>\n",
       "      <td>successful</td>\n",
       "      <td>120</td>\n",
       "    </tr>\n",
       "    <tr>\n",
       "      <th>378645</th>\n",
       "      <td>999941823</td>\n",
       "      <td>The Chronicles of Erinoth - A Graphic Novel</td>\n",
       "      <td>Comics</td>\n",
       "      <td>Comics</td>\n",
       "      <td>failed</td>\n",
       "      <td>38</td>\n",
       "    </tr>\n",
       "    <tr>\n",
       "      <th>378646</th>\n",
       "      <td>999943841</td>\n",
       "      <td>The Dog Coffee Book</td>\n",
       "      <td>Children's Books</td>\n",
       "      <td>Publishing</td>\n",
       "      <td>successful</td>\n",
       "      <td>31</td>\n",
       "    </tr>\n",
       "    <tr>\n",
       "      <th>378651</th>\n",
       "      <td>999969812</td>\n",
       "      <td>AT THE BEACH</td>\n",
       "      <td>Classical Music</td>\n",
       "      <td>Music</td>\n",
       "      <td>successful</td>\n",
       "      <td>78</td>\n",
       "    </tr>\n",
       "    <tr>\n",
       "      <th>378652</th>\n",
       "      <td>999971898</td>\n",
       "      <td>Beach Wrestling Documentary</td>\n",
       "      <td>Documentary</td>\n",
       "      <td>Film &amp; Video</td>\n",
       "      <td>successful</td>\n",
       "      <td>36</td>\n",
       "    </tr>\n",
       "  </tbody>\n",
       "</table>\n",
       "<p>120642 rows × 6 columns</p>\n",
       "</div>"
      ],
      "text/plain": [
       "                ID                                               name  \\\n",
       "5       1000014025                               Monarch Espresso Bar   \n",
       "7       1000030581  Chaser Strips. Our Strips make Shots their B*tch!   \n",
       "11       100005484                                   Lisa Lim New CD!   \n",
       "14      1000057089  Tombstone: Old West tabletop game and miniatur...   \n",
       "19      1000071625                                           Boco Tea   \n",
       "...            ...                                                ...   \n",
       "378644   999934908                               The Manual Bar Blade   \n",
       "378645   999941823        The Chronicles of Erinoth - A Graphic Novel   \n",
       "378646   999943841                                The Dog Coffee Book   \n",
       "378651   999969812                                       AT THE BEACH   \n",
       "378652   999971898                        Beach Wrestling Documentary   \n",
       "\n",
       "                category main_category       state  backers  \n",
       "5            Restaurants          Food  successful      224  \n",
       "7                 Drinks          Food      failed       40  \n",
       "11            Indie Rock         Music  successful      100  \n",
       "14        Tabletop Games         Games  successful      761  \n",
       "19                  Food          Food      failed       40  \n",
       "...                  ...           ...         ...      ...  \n",
       "378644    Product Design        Design  successful      120  \n",
       "378645            Comics        Comics      failed       38  \n",
       "378646  Children's Books    Publishing  successful       31  \n",
       "378651   Classical Music         Music  successful       78  \n",
       "378652       Documentary  Film & Video  successful       36  \n",
       "\n",
       "[120642 rows x 6 columns]"
      ]
     },
     "execution_count": 47,
     "metadata": {},
     "output_type": "execute_result"
    }
   ],
   "source": [
    "dff = df.loc[:,['ID','name','category','main_category','state','backers']]\n",
    "dff"
   ]
  },
  {
   "cell_type": "markdown",
   "id": "59200135",
   "metadata": {},
   "source": [
    "# Data exploration"
   ]
  },
  {
   "cell_type": "markdown",
   "id": "f0da5e69",
   "metadata": {},
   "source": [
    "## Central tendency"
   ]
  },
  {
   "cell_type": "code",
   "execution_count": 51,
   "id": "fcf365ce",
   "metadata": {},
   "outputs": [
    {
     "name": "stdout",
     "output_type": "stream",
     "text": [
      "Mean:  146.6461845791681\n",
      "Median:  84.0\n",
      "Modus:  31\n",
      "Std:  162.44721983311905\n"
     ]
    }
   ],
   "source": [
    "print(\"Mean: \",dff['backers'].mean())\n",
    "print(\"Median: \",dff['backers'].median())\n",
    "print(\"Modus: \",dff['backers'].mode()[0])\n",
    "print(\"Std: \",dff['backers'].std())"
   ]
  },
  {
   "cell_type": "markdown",
   "id": "b1f240e7",
   "metadata": {},
   "source": [
    "## Measure of variance"
   ]
  },
  {
   "cell_type": "code",
   "execution_count": 101,
   "id": "f55c1b3e",
   "metadata": {},
   "outputs": [
    {
     "name": "stdout",
     "output_type": "stream",
     "text": [
      "Nilai min :  31\n",
      "Nilai Q1(25%) :  50.0\n",
      "Nilai Q2(50%) :  84.0\n",
      "Nilai Q3(75%) :  167.0\n",
      "Nilai max :  999\n"
     ]
    }
   ],
   "source": [
    "q1,q2,q3 = np.percentile(dff['backers'],[25,50,75])\n",
    "\n",
    "print(\"Nilai min : \",dff['backers'].min())\n",
    "print(\"Nilai Q1(25%) : \",q1)\n",
    "print(\"Nilai Q2(50%) : \",q2)\n",
    "print(\"Nilai Q3(75%) : \",q3)\n",
    "#print(\"Batas outlier: \",q3+1.5*(q3-q1))\n",
    "print(\"Nilai max : \",dff['backers'].max())"
   ]
  },
  {
   "cell_type": "markdown",
   "id": "23d43891",
   "metadata": {},
   "source": [
    "## Distribution and density"
   ]
  },
  {
   "cell_type": "code",
   "execution_count": 53,
   "id": "3a12c49d",
   "metadata": {},
   "outputs": [
    {
     "data": {
      "text/plain": [
       "<AxesSubplot:ylabel='Frequency'>"
      ]
     },
     "execution_count": 53,
     "metadata": {},
     "output_type": "execute_result"
    },
    {
     "data": {
      "image/png": "[encoded data removed]",
      "text/plain": [
       "<Figure size 432x288 with 1 Axes>"
      ]
     },
     "metadata": {
      "needs_background": "light"
     },
     "output_type": "display_data"
    }
   ],
   "source": [
    "dff['backers'].plot.hist(bins=10)"
   ]
  },
  {
   "cell_type": "code",
   "execution_count": 98,
   "id": "eea3cd07",
   "metadata": {
    "scrolled": true
   },
   "outputs": [
    {
     "name": "stdout",
     "output_type": "stream",
     "text": [
      "Backers skewness: 2.549752728086031\n",
      "Backers kurtosis: 7.05521156983361\n"
     ]
    }
   ],
   "source": [
    "pur_s = dff['backers'].skew()\n",
    "pur_k = dff['backers'].kurt()\n",
    "print('Backers skewness:', pur_s)\n",
    "print('Backers kurtosis:', pur_k)"
   ]
  },
  {
   "cell_type": "markdown",
   "id": "3a52a731",
   "metadata": {},
   "source": [
    "Dari nilai skewness dan kurtosis dapat diketahui distribusi backers adalah *right skewed* dengan puncak data(kurtosis) yang cukup tinggi."
   ]
  },
  {
   "cell_type": "markdown",
   "id": "75c275f2",
   "metadata": {},
   "source": [
    "Mari kita ringkas hasil distribusi data bakers dengan .describe()"
   ]
  },
  {
   "cell_type": "code",
   "execution_count": 106,
   "id": "04453e88",
   "metadata": {},
   "outputs": [
    {
     "data": {
      "text/plain": [
       "count    120642.000000\n",
       "mean        146.646185\n",
       "std         162.447220\n",
       "min          31.000000\n",
       "25%          50.000000\n",
       "50%          84.000000\n",
       "75%         167.000000\n",
       "max         999.000000\n",
       "Name: backers, dtype: float64"
      ]
     },
     "execution_count": 106,
     "metadata": {},
     "output_type": "execute_result"
    }
   ],
   "source": [
    "df['backers'].describe()"
   ]
  },
  {
   "cell_type": "markdown",
   "id": "297a5efc",
   "metadata": {},
   "source": [
    "# Hypothesis testing"
   ]
  },
  {
   "cell_type": "markdown",
   "id": "0d611c27",
   "metadata": {},
   "source": [
    "## Confidence interval"
   ]
  },
  {
   "cell_type": "code",
   "execution_count": 71,
   "id": "fbb33d3d",
   "metadata": {
    "scrolled": false
   },
   "outputs": [
    {
     "data": {
      "image/png": "[encoded data removed]",
      "text/plain": [
       "<Figure size 432x288 with 1 Axes>"
      ]
     },
     "metadata": {
      "needs_background": "light"
     },
     "output_type": "display_data"
    },
    {
     "name": "stdout",
     "output_type": "stream",
     "text": [
      "Mean: 146.6461845791681\n",
      "StdErr: 162.44721983311905\n",
      "95% Confidence Interval: (-171.74451568240602, 465.03688484074223)\n"
     ]
    }
   ],
   "source": [
    "ci = stats.norm.interval(0.95, dff['backers'].mean(), dff['backers'].std())\n",
    "\n",
    "\n",
    "dff['backers'].plot.hist(bins=100) \n",
    "plt.axvline(dff['backers'].mean(), color='green', linestyle='dashed', linewidth=2)\n",
    "plt.axvline(ci[0], color='magenta', linestyle='dashed', linewidth=2)\n",
    "plt.axvline(ci[1], color='magenta', linestyle='dashed', linewidth=2)\n",
    "plt.show()\n",
    "\n",
    "print ('Mean: ' + str(dff['backers'].mean()))\n",
    "print ('StdErr: ' + str(dff['backers'].std()))\n",
    "print ('95% Confidence Interval: ' + str(ci))"
   ]
  },
  {
   "cell_type": "markdown",
   "id": "3e250f68",
   "metadata": {},
   "source": [
    "Mencari rata-rata Backers project yang sukses dan gagal."
   ]
  },
  {
   "cell_type": "code",
   "execution_count": 105,
   "id": "77ead4f3",
   "metadata": {},
   "outputs": [
    {
     "name": "stdout",
     "output_type": "stream",
     "text": [
      "Success project mean:  160.38460271886223\n",
      "Success project std:  171.91368875003525\n",
      "Fail project mean:  89.76249520644254\n",
      "Fail project std:  96.26450296775616\n"
     ]
    }
   ],
   "source": [
    "df_success = dff[dff['state']=='successful']\n",
    "df_fail = dff[(dff['state']=='failed')]\n",
    "\n",
    "mean_suc = df_success['backers'].mean()\n",
    "std_suc = df_success['backers'].std()\n",
    "mean_fail = df_fail['backers'].mean()\n",
    "std_fail = df_fail['backers'].std()\n",
    "\n",
    "print('Success project mean: ',mean_succ)\n",
    "print('Success project std: ',std_suc)\n",
    "print('Fail project mean: ',mean_fail)\n",
    "print('Fail project std: ',std_fail)"
   ]
  },
  {
   "cell_type": "markdown",
   "id": "649cc5fe",
   "metadata": {},
   "source": [
    "Disini akan diuji apakah H0 benar terbukti atau hanya kebetulan semata dikarenakan *random chance* (dengan critical value 0,05)\n",
    "- H0: success mean = fail mean \n",
    "- H1: success mean != fail mean "
   ]
  },
  {
   "cell_type": "code",
   "execution_count": 118,
   "id": "8d44e4d7",
   "metadata": {},
   "outputs": [
    {
     "name": "stdout",
     "output_type": "stream",
     "text": [
      "Success sample mean:165.0450235411858\n",
      "Failed sample mean:87.88191404896648\n",
      "t-statistic:3.5665341964586035\n",
      "p-value:0.0004536042761262321\n"
     ]
    },
    {
     "data": {
      "image/png": "[encoded data removed]",
      "text/plain": [
       "<Figure size 432x288 with 1 Axes>"
      ]
     },
     "metadata": {
      "needs_background": "light"
     },
     "output_type": "display_data"
    }
   ],
   "source": [
    "np.random.seed(123)\n",
    "sucess = np.random.normal(mean_suc, std_suc, 100)\n",
    "fail = np.random.normal(mean_fail, std_fail, 100)\n",
    "print(\"Success sample mean:\" + str(sucess.mean()))\n",
    "print(\"Failed sample mean:\" + str(fail.mean()))\n",
    "\n",
    "# Independent T-Test\n",
    "t,p = stats.ttest_ind(sucess, fail)\n",
    "\n",
    "print(\"t-statistic:\" + str(t))\n",
    "print(\"p-value:\" + str(p))\n",
    "\n",
    "pop = np.random.normal(sucess.mean(), sucess.std(), 100000)\n",
    "# calculate a 90% confidence interval. 10% of the probability is outside this, 5% in each tail\n",
    "ci = stats.norm.interval(0.90, sucess.mean(), sucess.std())\n",
    "plt.hist(pop, bins=100)\n",
    "\n",
    "# show the hypothesized population mean\n",
    "plt.axvline(pop.mean(), color='yellow', linestyle='dashed', linewidth=2)\n",
    "\n",
    "# show the right-tail confidence interval threshold - 5% of propbability is under the curve to the right of this.\n",
    "plt.axvline(ci[1], color='red', linestyle='dashed', linewidth=2)\n",
    "plt.axvline(ci[0], color='red', linestyle='dashed', linewidth=2)\n",
    "\n",
    "# show the t-statistic - the p-value is the area under the curve to the right of this\n",
    "plt.axvline(pop.mean() + t*pop.std(), color='magenta', linestyle='dashed', linewidth=2)\n",
    "plt.axvline(pop.mean() - t*pop.std(), color='magenta', linestyle='dashed', linewidth=2)\n",
    "plt.show()"
   ]
  },
  {
   "cell_type": "markdown",
   "id": "e24e0693",
   "metadata": {},
   "source": [
    "Hasil yang didapat adalah P-value lebih kecil dari critical value(0,05). Maka dapat disimpulkan bahwa H0 dapat di*reject* dan H1 dapat diterima.\n"
   ]
  },
  {
   "cell_type": "markdown",
   "id": "367a09f6",
   "metadata": {},
   "source": [
    "# Kesimpulan\n",
    "Project yang sukses rata-rata memiliki 160 backers (donatur), sementara project yang gagal rata-rata memiliki backers < 90."
   ]
  }
 ],
 "metadata": {
  "kernelspec": {
   "display_name": "Python 3",
   "language": "python",
   "name": "python3"
  },
  "language_info": {
   "codemirror_mode": {
    "name": "ipython",
    "version": 3
   },
   "file_extension": ".py",
   "mimetype": "text/x-python",
   "name": "python",
   "nbconvert_exporter": "python",
   "pygments_lexer": "ipython3",
   "version": "3.8.8"
  }
 },
 "nbformat": 4,
 "nbformat_minor": 5
}
